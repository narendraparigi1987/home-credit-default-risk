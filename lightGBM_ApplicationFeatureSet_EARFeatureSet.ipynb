{
 "cells": [
  {
   "cell_type": "code",
   "execution_count": 77,
   "metadata": {},
   "outputs": [],
   "source": [
    "# working model with basic features from application_train and previous applications\n",
    "# Added expected EAR from previous models"
   ]
  },
  {
   "cell_type": "code",
   "execution_count": 78,
   "metadata": {},
   "outputs": [],
   "source": [
    "import pandas as pd\n",
    "import numpy as np\n",
    "from sklearn.preprocessing import MinMaxScaler, LabelEncoder\n",
    "from sklearn.model_selection import train_test_split\n",
    "from sklearn.metrics import accuracy_score, roc_auc_score, confusion_matrix\n",
    "from sklearn.feature_selection import VarianceThreshold\n",
    "import lightgbm as lgb\n",
    "import matplotlib.pyplot as plt\n",
    "import seaborn as sns\n",
    "import warnings\n",
    "import gc\n",
    "warnings.filterwarnings('ignore')"
   ]
  },
  {
   "cell_type": "code",
   "execution_count": 79,
   "metadata": {},
   "outputs": [
    {
     "name": "stdout",
     "output_type": "stream",
     "text": [
      "Importing data...\n"
     ]
    }
   ],
   "source": [
    "print('Importing data...')\n",
    "train = pd.read_csv('application_train.csv')\n",
    "test = pd.read_csv('application_test.csv')\n",
    "previous_expected_ear = pd.read_csv('expected_ear.csv')"
   ]
  },
  {
   "cell_type": "markdown",
   "metadata": {},
   "source": [
    "# <a id=1 > 1. Processing test and train dataset </a>"
   ]
  },
  {
   "cell_type": "code",
   "execution_count": 80,
   "metadata": {},
   "outputs": [],
   "source": [
    "target = train['TARGET']\n",
    "del train['TARGET']"
   ]
  },
  {
   "cell_type": "code",
   "execution_count": 81,
   "metadata": {},
   "outputs": [],
   "source": [
    "data = pd.concat([train,test])"
   ]
  },
  {
   "cell_type": "code",
   "execution_count": 82,
   "metadata": {},
   "outputs": [
    {
     "data": {
      "text/plain": [
       "((356255, 121), (307511, 121), (48744, 121))"
      ]
     },
     "execution_count": 82,
     "metadata": {},
     "output_type": "execute_result"
    }
   ],
   "source": [
    "data.shape, train.shape, test.shape"
   ]
  },
  {
   "cell_type": "code",
   "execution_count": 83,
   "metadata": {},
   "outputs": [],
   "source": [
    "docs = [col for col in data.columns if 'FLAG_DOC' in col]\n",
    "# Flag_document features - count and kurtosis\n",
    "data['DOCUMENT_COUNT'] = data[docs].sum(axis=1)\n",
    "data['NEW_DOC_KURT'] = data[docs].kurtosis(axis=1)  #long tails"
   ]
  },
  {
   "cell_type": "code",
   "execution_count": 84,
   "metadata": {},
   "outputs": [],
   "source": [
    "def get_age_label(days_birth):\n",
    "    \"\"\" Return the age group label (int). \"\"\"\n",
    "    age_years = -days_birth / 365\n",
    "    if age_years < 27: return 1\n",
    "    elif age_years < 40: return 2\n",
    "    elif age_years < 50: return 3\n",
    "    elif age_years < 65: return 4\n",
    "    elif age_years < 99: return 5\n",
    "    else: return 0"
   ]
  },
  {
   "cell_type": "code",
   "execution_count": 85,
   "metadata": {},
   "outputs": [],
   "source": [
    "# Categorical age - based on target=1 plot\n",
    "data['AGE_RANGE'] = data['DAYS_BIRTH'].apply(lambda x: get_age_label(x))"
   ]
  },
  {
   "cell_type": "code",
   "execution_count": 86,
   "metadata": {},
   "outputs": [],
   "source": [
    "# New features based on External sources\n",
    "data['EXT_SOURCES_PROD'] = data['EXT_SOURCE_1'] * data['EXT_SOURCE_2'] * data['EXT_SOURCE_3']\n",
    "data['EXT_SOURCES_WEIGHTED'] = data.EXT_SOURCE_1 * 2 + data.EXT_SOURCE_2 * 1 + data.EXT_SOURCE_3 * 3\n",
    "np.warnings.filterwarnings('ignore', r'All-NaN (slice|axis) encountered')\n",
    "for function_name in ['min', 'max', 'mean', 'nanmedian', 'var']:\n",
    "        feature_name = 'EXT_SOURCES_{}'.format(function_name.upper())\n",
    "        data[feature_name] = eval('np.{}'.format(function_name))(\n",
    "            data[['EXT_SOURCE_1', 'EXT_SOURCE_2', 'EXT_SOURCE_3']], axis=1)"
   ]
  },
  {
   "cell_type": "code",
   "execution_count": 87,
   "metadata": {},
   "outputs": [],
   "source": [
    "# Credit ratios\n",
    "data['CREDIT_TO_ANNUITY_RATIO'] = data['AMT_CREDIT'] / data['AMT_ANNUITY']\n",
    "data['CREDIT_TO_GOODS_RATIO'] = data['AMT_CREDIT'] / data['AMT_GOODS_PRICE']"
   ]
  },
  {
   "cell_type": "code",
   "execution_count": 88,
   "metadata": {},
   "outputs": [],
   "source": [
    "# Income ratios\n",
    "data['ANNUITY_TO_INCOME_RATIO'] = data['AMT_ANNUITY'] / data['AMT_INCOME_TOTAL']\n",
    "data['CREDIT_TO_INCOME_RATIO'] = data['AMT_CREDIT'] / data['AMT_INCOME_TOTAL']\n",
    "data['INCOME_TO_EMPLOYED_RATIO'] = data['AMT_INCOME_TOTAL'] / data['DAYS_EMPLOYED']\n",
    "data['INCOME_TO_BIRTH_RATIO'] = data['AMT_INCOME_TOTAL'] / data['DAYS_BIRTH']\n",
    "data['INCOME_TO_CREDIT_RATION'] = data['AMT_INCOME_TOTAL'] / data['AMT_CREDIT']\n",
    "data['INCOME_PER_PERSON'] = data['AMT_INCOME_TOTAL'] / data['CNT_FAM_MEMBERS']"
   ]
  },
  {
   "cell_type": "code",
   "execution_count": 89,
   "metadata": {},
   "outputs": [],
   "source": [
    "# Time ratios\n",
    "data['EMPLOYED_TO_BIRTH_RATIO'] = data['DAYS_EMPLOYED'] / data['DAYS_BIRTH']\n",
    "data['ID_TO_BIRTH_RATIO'] = data['DAYS_ID_PUBLISH'] / data['DAYS_BIRTH']\n",
    "data['CAR_TO_BIRTH_RATIO'] = data['OWN_CAR_AGE'] / data['DAYS_BIRTH']\n",
    "data['CAR_TO_EMPLOYED_RATIO'] = data['OWN_CAR_AGE'] / data['DAYS_EMPLOYED']\n",
    "data['PHONE_TO_BIRTH_RATIO'] = data['DAYS_LAST_PHONE_CHANGE'] / data['DAYS_BIRTH']"
   ]
  },
  {
   "cell_type": "code",
   "execution_count": 90,
   "metadata": {},
   "outputs": [],
   "source": [
    "# Join data with expected EAR\n",
    "data = data.merge(previous_expected_ear, on='SK_ID_CURR', how='left')"
   ]
  },
  {
   "cell_type": "code",
   "execution_count": 91,
   "metadata": {},
   "outputs": [
    {
     "data": {
      "text/html": [
       "<div>\n",
       "<style scoped>\n",
       "    .dataframe tbody tr th:only-of-type {\n",
       "        vertical-align: middle;\n",
       "    }\n",
       "\n",
       "    .dataframe tbody tr th {\n",
       "        vertical-align: top;\n",
       "    }\n",
       "\n",
       "    .dataframe thead th {\n",
       "        text-align: right;\n",
       "    }\n",
       "</style>\n",
       "<table border=\"1\" class=\"dataframe\">\n",
       "  <thead>\n",
       "    <tr style=\"text-align: right;\">\n",
       "      <th></th>\n",
       "      <th>SK_ID_CURR</th>\n",
       "      <th>NAME_CONTRACT_TYPE</th>\n",
       "      <th>CODE_GENDER</th>\n",
       "      <th>FLAG_OWN_CAR</th>\n",
       "      <th>FLAG_OWN_REALTY</th>\n",
       "      <th>CNT_CHILDREN</th>\n",
       "      <th>AMT_INCOME_TOTAL</th>\n",
       "      <th>AMT_CREDIT</th>\n",
       "      <th>AMT_ANNUITY</th>\n",
       "      <th>AMT_GOODS_PRICE</th>\n",
       "      <th>...</th>\n",
       "      <th>INCOME_TO_CREDIT_RATION</th>\n",
       "      <th>INCOME_PER_PERSON</th>\n",
       "      <th>EMPLOYED_TO_BIRTH_RATIO</th>\n",
       "      <th>ID_TO_BIRTH_RATIO</th>\n",
       "      <th>CAR_TO_BIRTH_RATIO</th>\n",
       "      <th>CAR_TO_EMPLOYED_RATIO</th>\n",
       "      <th>PHONE_TO_BIRTH_RATIO</th>\n",
       "      <th>MEAN_EXPECTED_EAR</th>\n",
       "      <th>MEDIAN_EXPECTED_EAR</th>\n",
       "      <th>STD_EXPECTED_EAR</th>\n",
       "    </tr>\n",
       "  </thead>\n",
       "  <tbody>\n",
       "    <tr>\n",
       "      <th>0</th>\n",
       "      <td>100002</td>\n",
       "      <td>Cash loans</td>\n",
       "      <td>M</td>\n",
       "      <td>N</td>\n",
       "      <td>Y</td>\n",
       "      <td>0</td>\n",
       "      <td>202500.0</td>\n",
       "      <td>406597.5</td>\n",
       "      <td>24700.5</td>\n",
       "      <td>351000.0</td>\n",
       "      <td>...</td>\n",
       "      <td>0.498036</td>\n",
       "      <td>202500.0</td>\n",
       "      <td>0.067329</td>\n",
       "      <td>0.224078</td>\n",
       "      <td>NaN</td>\n",
       "      <td>NaN</td>\n",
       "      <td>0.119860</td>\n",
       "      <td>0.238453</td>\n",
       "      <td>0.238453</td>\n",
       "      <td>0.000000</td>\n",
       "    </tr>\n",
       "    <tr>\n",
       "      <th>1</th>\n",
       "      <td>100003</td>\n",
       "      <td>Cash loans</td>\n",
       "      <td>F</td>\n",
       "      <td>N</td>\n",
       "      <td>N</td>\n",
       "      <td>0</td>\n",
       "      <td>270000.0</td>\n",
       "      <td>1293502.5</td>\n",
       "      <td>35698.5</td>\n",
       "      <td>1129500.0</td>\n",
       "      <td>...</td>\n",
       "      <td>0.208736</td>\n",
       "      <td>135000.0</td>\n",
       "      <td>0.070862</td>\n",
       "      <td>0.017358</td>\n",
       "      <td>NaN</td>\n",
       "      <td>NaN</td>\n",
       "      <td>0.049389</td>\n",
       "      <td>0.368710</td>\n",
       "      <td>0.385640</td>\n",
       "      <td>0.083249</td>\n",
       "    </tr>\n",
       "    <tr>\n",
       "      <th>2</th>\n",
       "      <td>100004</td>\n",
       "      <td>Revolving loans</td>\n",
       "      <td>M</td>\n",
       "      <td>Y</td>\n",
       "      <td>Y</td>\n",
       "      <td>0</td>\n",
       "      <td>67500.0</td>\n",
       "      <td>135000.0</td>\n",
       "      <td>6750.0</td>\n",
       "      <td>135000.0</td>\n",
       "      <td>...</td>\n",
       "      <td>0.500000</td>\n",
       "      <td>67500.0</td>\n",
       "      <td>0.011814</td>\n",
       "      <td>0.132889</td>\n",
       "      <td>-0.001365</td>\n",
       "      <td>-0.115556</td>\n",
       "      <td>0.042791</td>\n",
       "      <td>0.360515</td>\n",
       "      <td>0.360515</td>\n",
       "      <td>0.000000</td>\n",
       "    </tr>\n",
       "    <tr>\n",
       "      <th>3</th>\n",
       "      <td>100006</td>\n",
       "      <td>Cash loans</td>\n",
       "      <td>F</td>\n",
       "      <td>N</td>\n",
       "      <td>Y</td>\n",
       "      <td>0</td>\n",
       "      <td>135000.0</td>\n",
       "      <td>312682.5</td>\n",
       "      <td>29686.5</td>\n",
       "      <td>297000.0</td>\n",
       "      <td>...</td>\n",
       "      <td>0.431748</td>\n",
       "      <td>67500.0</td>\n",
       "      <td>0.159905</td>\n",
       "      <td>0.128229</td>\n",
       "      <td>NaN</td>\n",
       "      <td>NaN</td>\n",
       "      <td>0.032465</td>\n",
       "      <td>0.282858</td>\n",
       "      <td>0.342949</td>\n",
       "      <td>0.294920</td>\n",
       "    </tr>\n",
       "    <tr>\n",
       "      <th>4</th>\n",
       "      <td>100007</td>\n",
       "      <td>Cash loans</td>\n",
       "      <td>M</td>\n",
       "      <td>N</td>\n",
       "      <td>Y</td>\n",
       "      <td>0</td>\n",
       "      <td>121500.0</td>\n",
       "      <td>513000.0</td>\n",
       "      <td>21865.5</td>\n",
       "      <td>513000.0</td>\n",
       "      <td>...</td>\n",
       "      <td>0.236842</td>\n",
       "      <td>121500.0</td>\n",
       "      <td>0.152418</td>\n",
       "      <td>0.173490</td>\n",
       "      <td>NaN</td>\n",
       "      <td>NaN</td>\n",
       "      <td>0.055489</td>\n",
       "      <td>0.690733</td>\n",
       "      <td>0.618032</td>\n",
       "      <td>0.232068</td>\n",
       "    </tr>\n",
       "  </tbody>\n",
       "</table>\n",
       "<p>5 rows × 147 columns</p>\n",
       "</div>"
      ],
      "text/plain": [
       "   SK_ID_CURR NAME_CONTRACT_TYPE CODE_GENDER FLAG_OWN_CAR FLAG_OWN_REALTY  \\\n",
       "0      100002         Cash loans           M            N               Y   \n",
       "1      100003         Cash loans           F            N               N   \n",
       "2      100004    Revolving loans           M            Y               Y   \n",
       "3      100006         Cash loans           F            N               Y   \n",
       "4      100007         Cash loans           M            N               Y   \n",
       "\n",
       "   CNT_CHILDREN  AMT_INCOME_TOTAL  AMT_CREDIT  AMT_ANNUITY  AMT_GOODS_PRICE  \\\n",
       "0             0          202500.0    406597.5      24700.5         351000.0   \n",
       "1             0          270000.0   1293502.5      35698.5        1129500.0   \n",
       "2             0           67500.0    135000.0       6750.0         135000.0   \n",
       "3             0          135000.0    312682.5      29686.5         297000.0   \n",
       "4             0          121500.0    513000.0      21865.5         513000.0   \n",
       "\n",
       "   ... INCOME_TO_CREDIT_RATION INCOME_PER_PERSON EMPLOYED_TO_BIRTH_RATIO  \\\n",
       "0  ...                0.498036          202500.0                0.067329   \n",
       "1  ...                0.208736          135000.0                0.070862   \n",
       "2  ...                0.500000           67500.0                0.011814   \n",
       "3  ...                0.431748           67500.0                0.159905   \n",
       "4  ...                0.236842          121500.0                0.152418   \n",
       "\n",
       "  ID_TO_BIRTH_RATIO CAR_TO_BIRTH_RATIO  CAR_TO_EMPLOYED_RATIO  \\\n",
       "0          0.224078                NaN                    NaN   \n",
       "1          0.017358                NaN                    NaN   \n",
       "2          0.132889          -0.001365              -0.115556   \n",
       "3          0.128229                NaN                    NaN   \n",
       "4          0.173490                NaN                    NaN   \n",
       "\n",
       "   PHONE_TO_BIRTH_RATIO  MEAN_EXPECTED_EAR  MEDIAN_EXPECTED_EAR  \\\n",
       "0              0.119860           0.238453             0.238453   \n",
       "1              0.049389           0.368710             0.385640   \n",
       "2              0.042791           0.360515             0.360515   \n",
       "3              0.032465           0.282858             0.342949   \n",
       "4              0.055489           0.690733             0.618032   \n",
       "\n",
       "   STD_EXPECTED_EAR  \n",
       "0          0.000000  \n",
       "1          0.083249  \n",
       "2          0.000000  \n",
       "3          0.294920  \n",
       "4          0.232068  \n",
       "\n",
       "[5 rows x 147 columns]"
      ]
     },
     "execution_count": 91,
     "metadata": {},
     "output_type": "execute_result"
    }
   ],
   "source": [
    "data.head(5)"
   ]
  },
  {
   "cell_type": "code",
   "execution_count": 92,
   "metadata": {},
   "outputs": [],
   "source": [
    "def do_mean(df, group_cols, counted, agg_name):\n",
    "    gp = df[group_cols + [counted]].groupby(group_cols)[counted].mean().reset_index().rename(\n",
    "        columns={counted: agg_name})\n",
    "    df = df.merge(gp, on=group_cols, how='left')\n",
    "    del gp\n",
    "    gc.collect()\n",
    "    return df\n",
    "\n",
    "\n",
    "def do_median(df, group_cols, counted, agg_name):\n",
    "    gp = df[group_cols + [counted]].groupby(group_cols)[counted].median().reset_index().rename(\n",
    "        columns={counted: agg_name})\n",
    "    df = df.merge(gp, on=group_cols, how='left')\n",
    "    del gp\n",
    "    gc.collect()\n",
    "    return df\n",
    "\n",
    "\n",
    "def do_std(df, group_cols, counted, agg_name):\n",
    "    gp = df[group_cols + [counted]].groupby(group_cols)[counted].std().reset_index().rename(\n",
    "        columns={counted: agg_name})\n",
    "    df = df.merge(gp, on=group_cols, how='left')\n",
    "    del gp\n",
    "    gc.collect()\n",
    "    return df\n",
    "\n",
    "\n",
    "def do_sum(df, group_cols, counted, agg_name):\n",
    "    gp = df[group_cols + [counted]].groupby(group_cols)[counted].sum().reset_index().rename(\n",
    "        columns={counted: agg_name})\n",
    "    df = df.merge(gp, on=group_cols, how='left')\n",
    "    del gp\n",
    "    gc.collect()\n",
    "    return df"
   ]
  },
  {
   "cell_type": "code",
   "execution_count": 93,
   "metadata": {},
   "outputs": [],
   "source": [
    "# Groupby: Statistics for applications in the same group\n",
    "group = ['ORGANIZATION_TYPE', 'NAME_EDUCATION_TYPE', 'OCCUPATION_TYPE', 'AGE_RANGE', 'CODE_GENDER']\n",
    "data = do_median(data, group, 'EXT_SOURCES_MEAN', 'GROUP_EXT_SOURCES_MEDIAN')\n",
    "data = do_std(data, group, 'EXT_SOURCES_MEAN', 'GROUP_EXT_SOURCES_STD')\n",
    "data = do_mean(data, group, 'AMT_INCOME_TOTAL', 'GROUP_INCOME_MEAN')\n",
    "data = do_std(data, group, 'AMT_INCOME_TOTAL', 'GROUP_INCOME_STD')\n",
    "data = do_mean(data, group, 'CREDIT_TO_ANNUITY_RATIO', 'GROUP_CREDIT_TO_ANNUITY_MEAN')\n",
    "data = do_std(data, group, 'CREDIT_TO_ANNUITY_RATIO', 'GROUP_CREDIT_TO_ANNUITY_STD')\n",
    "data = do_mean(data, group, 'AMT_CREDIT', 'GROUP_CREDIT_MEAN')\n",
    "data = do_mean(data, group, 'AMT_ANNUITY', 'GROUP_ANNUITY_MEAN')\n",
    "data = do_std(data, group, 'AMT_ANNUITY', 'GROUP_ANNUITY_STD')\n",
    "data = do_mean(data, group, 'MEAN_EXPECTED_EAR', 'GROUP_MEAN_EXPECTED_EAR')\n",
    "data = do_median(data, group, 'MEDIAN_EXPECTED_EAR', 'GROUP_MEDIAN_EXPECTED_EAR')\n",
    "data = do_mean(data, group, 'STD_EXPECTED_EAR', 'GROUP_STD_EXPECTED_EAR')"
   ]
  },
  {
   "cell_type": "code",
   "execution_count": 94,
   "metadata": {},
   "outputs": [],
   "source": [
    "# one-hot encoding\n",
    "categorical_features = [col for col in data.columns if data[col].dtype == 'object']\n",
    "data = pd.get_dummies(data, columns=categorical_features)"
   ]
  },
  {
   "cell_type": "code",
   "execution_count": 95,
   "metadata": {},
   "outputs": [
    {
     "data": {
      "text/plain": [
       "(356255, 283)"
      ]
     },
     "execution_count": 95,
     "metadata": {},
     "output_type": "execute_result"
    }
   ],
   "source": [
    "data.shape"
   ]
  },
  {
   "cell_type": "code",
   "execution_count": 96,
   "metadata": {},
   "outputs": [
    {
     "name": "stdout",
     "output_type": "stream",
     "text": [
      "Pre-processing previous_application...\n"
     ]
    }
   ],
   "source": [
    "#Pre-processing previous_application\n",
    "print('Pre-processing previous_application...')\n",
    "prev = pd.read_csv('previous_application.csv')\n",
    "prev_cat_features = [pcol for pcol in prev.columns if prev[pcol].dtype == 'object']\n",
    "prev = pd.get_dummies(prev, columns=prev_cat_features)\n",
    "avg_prev = prev.groupby('SK_ID_CURR').mean()\n",
    "cnt_prev = prev[['SK_ID_CURR', 'SK_ID_PREV']].groupby('SK_ID_CURR').count()\n",
    "avg_prev['COUNT_PREV_APP'] = cnt_prev['SK_ID_PREV']\n",
    "del avg_prev['SK_ID_PREV']"
   ]
  },
  {
   "cell_type": "code",
   "execution_count": 97,
   "metadata": {},
   "outputs": [],
   "source": [
    "data = data.merge(right=avg_prev.reset_index(), how='left', on='SK_ID_CURR')"
   ]
  },
  {
   "cell_type": "code",
   "execution_count": 98,
   "metadata": {},
   "outputs": [
    {
     "data": {
      "text/plain": [
       "(356255, 446)"
      ]
     },
     "execution_count": 98,
     "metadata": {},
     "output_type": "execute_result"
    }
   ],
   "source": [
    "data.shape"
   ]
  },
  {
   "cell_type": "code",
   "execution_count": 99,
   "metadata": {},
   "outputs": [],
   "source": [
    "train = data.iloc[:train.shape[0],:]\n",
    "test = data.iloc[train.shape[0]:,]"
   ]
  },
  {
   "cell_type": "code",
   "execution_count": 100,
   "metadata": {},
   "outputs": [
    {
     "data": {
      "text/plain": [
       "((356255, 446), (307511, 446), (48744, 446))"
      ]
     },
     "execution_count": 100,
     "metadata": {},
     "output_type": "execute_result"
    }
   ],
   "source": [
    "data.shape, train.shape, test.shape"
   ]
  },
  {
   "cell_type": "code",
   "execution_count": 101,
   "metadata": {},
   "outputs": [],
   "source": [
    "del train['SK_ID_CURR']\n",
    "del test['SK_ID_CURR']"
   ]
  },
  {
   "cell_type": "code",
   "execution_count": 102,
   "metadata": {},
   "outputs": [],
   "source": [
    "train_x, valid_x, train_y, valid_y = train_test_split(train, target, test_size=0.2, shuffle=True)"
   ]
  },
  {
   "cell_type": "code",
   "execution_count": 103,
   "metadata": {},
   "outputs": [],
   "source": [
    "#------------------------Build LightGBM Model-----------------------\n",
    "train_data=lgb.Dataset(train_x,label=train_y)\n",
    "valid_data=lgb.Dataset(valid_x,label=valid_y)"
   ]
  },
  {
   "cell_type": "code",
   "execution_count": 104,
   "metadata": {},
   "outputs": [],
   "source": [
    "#Select Hyper-Parameters\n",
    "params = {'boosting_type': 'gbdt',\n",
    "          'max_depth' : 10,\n",
    "          'objective': 'binary',\n",
    "          'nthread': 5,\n",
    "          'num_leaves': 64,\n",
    "          'learning_rate': 0.05,\n",
    "          'max_bin': 512,\n",
    "          'subsample_for_bin': 200,\n",
    "          'subsample': 1,\n",
    "          'subsample_freq': 1,\n",
    "          'colsample_bytree': 0.8,\n",
    "          'reg_alpha': 5,\n",
    "          'reg_lambda': 10,\n",
    "          'min_split_gain': 0.5,\n",
    "          'min_child_weight': 1,\n",
    "          'min_child_samples': 5,\n",
    "          'scale_pos_weight': 1,\n",
    "          'num_class' : 1,\n",
    "          'metric' : 'auc'\n",
    "          }"
   ]
  },
  {
   "cell_type": "code",
   "execution_count": 105,
   "metadata": {},
   "outputs": [
    {
     "name": "stdout",
     "output_type": "stream",
     "text": [
      "Training until validation scores don't improve for 40 rounds.\n",
      "[10]\tvalid_0's auc: 0.73667\n",
      "[20]\tvalid_0's auc: 0.74337\n",
      "[30]\tvalid_0's auc: 0.748571\n",
      "[40]\tvalid_0's auc: 0.753047\n",
      "[50]\tvalid_0's auc: 0.756872\n",
      "[60]\tvalid_0's auc: 0.760424\n",
      "[70]\tvalid_0's auc: 0.763093\n",
      "[80]\tvalid_0's auc: 0.765412\n",
      "[90]\tvalid_0's auc: 0.76701\n",
      "[100]\tvalid_0's auc: 0.768191\n",
      "[110]\tvalid_0's auc: 0.769429\n",
      "[120]\tvalid_0's auc: 0.770413\n",
      "[130]\tvalid_0's auc: 0.77108\n",
      "[140]\tvalid_0's auc: 0.771588\n",
      "[150]\tvalid_0's auc: 0.772309\n",
      "[160]\tvalid_0's auc: 0.772763\n",
      "[170]\tvalid_0's auc: 0.773191\n",
      "[180]\tvalid_0's auc: 0.773572\n",
      "[190]\tvalid_0's auc: 0.774061\n",
      "[200]\tvalid_0's auc: 0.774455\n",
      "[210]\tvalid_0's auc: 0.774611\n",
      "[220]\tvalid_0's auc: 0.774724\n",
      "[230]\tvalid_0's auc: 0.774972\n",
      "[240]\tvalid_0's auc: 0.775199\n",
      "[250]\tvalid_0's auc: 0.775217\n",
      "[260]\tvalid_0's auc: 0.775395\n",
      "[270]\tvalid_0's auc: 0.775577\n",
      "[280]\tvalid_0's auc: 0.775674\n",
      "[290]\tvalid_0's auc: 0.775849\n",
      "[300]\tvalid_0's auc: 0.775929\n",
      "[310]\tvalid_0's auc: 0.775974\n",
      "[320]\tvalid_0's auc: 0.776021\n",
      "[330]\tvalid_0's auc: 0.776104\n",
      "[340]\tvalid_0's auc: 0.776143\n",
      "[350]\tvalid_0's auc: 0.776147\n",
      "[360]\tvalid_0's auc: 0.776139\n",
      "[370]\tvalid_0's auc: 0.776155\n",
      "[380]\tvalid_0's auc: 0.776182\n",
      "[390]\tvalid_0's auc: 0.776204\n",
      "[400]\tvalid_0's auc: 0.776127\n",
      "[410]\tvalid_0's auc: 0.776211\n",
      "[420]\tvalid_0's auc: 0.776211\n",
      "[430]\tvalid_0's auc: 0.776369\n",
      "[440]\tvalid_0's auc: 0.77634\n",
      "[450]\tvalid_0's auc: 0.776253\n",
      "[460]\tvalid_0's auc: 0.776164\n",
      "[470]\tvalid_0's auc: 0.776188\n",
      "[480]\tvalid_0's auc: 0.77635\n",
      "Early stopping, best iteration is:\n",
      "[442]\tvalid_0's auc: 0.776372\n"
     ]
    }
   ],
   "source": [
    "#Train model on selected parameters and number of iterations\n",
    "lgbm = lgb.train(params,\n",
    "                 train_data,\n",
    "                 2500,\n",
    "                 valid_sets=valid_data,\n",
    "                 early_stopping_rounds= 40,\n",
    "                 verbose_eval= 10\n",
    "                 )"
   ]
  },
  {
   "cell_type": "code",
   "execution_count": 106,
   "metadata": {},
   "outputs": [
    {
     "data": {
      "text/plain": [
       "array([[56245,   115],\n",
       "       [ 4982,   161]])"
      ]
     },
     "execution_count": 106,
     "metadata": {},
     "output_type": "execute_result"
    }
   ],
   "source": [
    "# Confusion matrix\n",
    "predictions_validy = lgbm.predict(valid_x)\n",
    "p_validy = np.where(predictions_validy > 0.5, 1, 0)\n",
    "\n",
    "from sklearn.metrics import confusion_matrix\n",
    "cm = confusion_matrix(valid_y, p_validy)\n",
    "cm"
   ]
  },
  {
   "cell_type": "code",
   "execution_count": 107,
   "metadata": {},
   "outputs": [
    {
     "data": {
      "text/plain": [
       "<matplotlib.axes._subplots.AxesSubplot at 0x11f3d5f98>"
      ]
     },
     "execution_count": 107,
     "metadata": {},
     "output_type": "execute_result"
    },
    {
     "data": {
      "image/png": "[encoded data removed]",
      "text/plain": [
       "<Figure size 432x288 with 1 Axes>"
      ]
     },
     "metadata": {
      "needs_background": "light"
     },
     "output_type": "display_data"
    },
    {
     "data": {
      "image/png": "[encoded data removed]",
      "text/plain": [
       "<Figure size 432x288 with 1 Axes>"
      ]
     },
     "metadata": {
      "needs_background": "light"
     },
     "output_type": "display_data"
    }
   ],
   "source": [
    "#Plot Variable Importances\n",
    "lgb.plot_importance(lgbm, max_num_features=20, importance_type='split')\n",
    "lgb.plot_importance(lgbm, max_num_features=20, importance_type='gain')"
   ]
  },
  {
   "cell_type": "code",
   "execution_count": 108,
   "metadata": {},
   "outputs": [],
   "source": [
    "predictions_lgbm_prob = lgbm.predict(test)"
   ]
  },
  {
   "cell_type": "code",
   "execution_count": 109,
   "metadata": {},
   "outputs": [],
   "source": [
    "lgbm_submission = pd.read_csv('sample_submission.csv')"
   ]
  },
  {
   "cell_type": "code",
   "execution_count": 110,
   "metadata": {},
   "outputs": [],
   "source": [
    "lgbm_submission.TARGET = predictions_lgbm_prob"
   ]
  },
  {
   "cell_type": "code",
   "execution_count": 111,
   "metadata": {},
   "outputs": [],
   "source": [
    "lgbm_submission.to_csv('lgbm_submission.csv', index=False) #score : 0.774029"
   ]
  },
  {
   "cell_type": "markdown",
   "metadata": {},
   "source": [
    "data columns"
   ]
  },
  {
   "cell_type": "code",
   "execution_count": 112,
   "metadata": {},
   "outputs": [],
   "source": [
    "column_info = pd.read_csv('HomeCredit_columns_description.csv', encoding = 'unicode_escape')"
   ]
  },
  {
   "cell_type": "code",
   "execution_count": 113,
   "metadata": {},
   "outputs": [
    {
     "data": {
      "text/html": [
       "<div>\n",
       "<style scoped>\n",
       "    .dataframe tbody tr th:only-of-type {\n",
       "        vertical-align: middle;\n",
       "    }\n",
       "\n",
       "    .dataframe tbody tr th {\n",
       "        vertical-align: top;\n",
       "    }\n",
       "\n",
       "    .dataframe thead th {\n",
       "        text-align: right;\n",
       "    }\n",
       "</style>\n",
       "<table border=\"1\" class=\"dataframe\">\n",
       "  <thead>\n",
       "    <tr style=\"text-align: right;\">\n",
       "      <th></th>\n",
       "      <th>Unnamed: 0</th>\n",
       "      <th>Table</th>\n",
       "      <th>Row</th>\n",
       "      <th>Description</th>\n",
       "      <th>Special</th>\n",
       "    </tr>\n",
       "  </thead>\n",
       "  <tbody>\n",
       "    <tr>\n",
       "      <th>173</th>\n",
       "      <td>176</td>\n",
       "      <td>previous_application.csv</td>\n",
       "      <td>SK_ID_PREV</td>\n",
       "      <td>ID of previous credit in Home credit related t...</td>\n",
       "      <td>hashed</td>\n",
       "    </tr>\n",
       "    <tr>\n",
       "      <th>174</th>\n",
       "      <td>177</td>\n",
       "      <td>previous_application.csv</td>\n",
       "      <td>SK_ID_CURR</td>\n",
       "      <td>ID of loan in our sample</td>\n",
       "      <td>hashed</td>\n",
       "    </tr>\n",
       "    <tr>\n",
       "      <th>175</th>\n",
       "      <td>178</td>\n",
       "      <td>previous_application.csv</td>\n",
       "      <td>NAME_CONTRACT_TYPE</td>\n",
       "      <td>Contract product type (Cash loan, consumer loa...</td>\n",
       "      <td>NaN</td>\n",
       "    </tr>\n",
       "  </tbody>\n",
       "</table>\n",
       "</div>"
      ],
      "text/plain": [
       "     Unnamed: 0                     Table                 Row  \\\n",
       "173         176  previous_application.csv         SK_ID_PREV    \n",
       "174         177  previous_application.csv          SK_ID_CURR   \n",
       "175         178  previous_application.csv  NAME_CONTRACT_TYPE   \n",
       "\n",
       "                                           Description Special  \n",
       "173  ID of previous credit in Home credit related t...  hashed  \n",
       "174                           ID of loan in our sample  hashed  \n",
       "175  Contract product type (Cash loan, consumer loa...     NaN  "
      ]
     },
     "execution_count": 113,
     "metadata": {},
     "output_type": "execute_result"
    }
   ],
   "source": [
    "column_info[column_info['Table'] == 'previous_application.csv'][:3]"
   ]
  },
  {
   "cell_type": "code",
   "execution_count": null,
   "metadata": {},
   "outputs": [],
   "source": []
  }
 ],
 "metadata": {
  "kernelspec": {
   "display_name": "Python 3",
   "language": "python",
   "name": "python3"
  },
  "language_info": {
   "codemirror_mode": {
    "name": "ipython",
    "version": 3
   },
   "file_extension": ".py",
   "mimetype": "text/x-python",
   "name": "python",
   "nbconvert_exporter": "python",
   "pygments_lexer": "ipython3",
   "version": "3.7.3"
  }
 },
 "nbformat": 4,
 "nbformat_minor": 2
}
