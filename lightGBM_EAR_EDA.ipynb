{
 "cells": [
  {
   "cell_type": "code",
   "execution_count": 10,
   "metadata": {},
   "outputs": [],
   "source": [
    "#EDA for EAR Derivation"
   ]
  },
  {
   "cell_type": "code",
   "execution_count": 11,
   "metadata": {},
   "outputs": [],
   "source": [
    "import pandas as pd\n",
    "import numpy as np\n",
    "from sklearn.preprocessing import MinMaxScaler, LabelEncoder\n",
    "from sklearn.model_selection import train_test_split\n",
    "from sklearn.metrics import accuracy_score, roc_auc_score, confusion_matrix\n",
    "from sklearn.feature_selection import VarianceThreshold\n",
    "import lightgbm as lgb\n",
    "import matplotlib.pyplot as plt\n",
    "import seaborn as sns\n",
    "import warnings\n",
    "import gc\n",
    "from tqdm.auto import tqdm\n",
    "tqdm.pandas()\n",
    "warnings.filterwarnings('ignore')"
   ]
  },
  {
   "cell_type": "markdown",
   "metadata": {},
   "source": [
    "source data data column definations"
   ]
  },
  {
   "cell_type": "code",
   "execution_count": 12,
   "metadata": {},
   "outputs": [],
   "source": [
    "column_info = pd.read_csv('HomeCredit_columns_description.csv', encoding = 'unicode_escape')"
   ]
  },
  {
   "cell_type": "code",
   "execution_count": 13,
   "metadata": {},
   "outputs": [
    {
     "data": {
      "text/html": [
       "<div>\n",
       "<style scoped>\n",
       "    .dataframe tbody tr th:only-of-type {\n",
       "        vertical-align: middle;\n",
       "    }\n",
       "\n",
       "    .dataframe tbody tr th {\n",
       "        vertical-align: top;\n",
       "    }\n",
       "\n",
       "    .dataframe thead th {\n",
       "        text-align: right;\n",
       "    }\n",
       "</style>\n",
       "<table border=\"1\" class=\"dataframe\">\n",
       "  <thead>\n",
       "    <tr style=\"text-align: right;\">\n",
       "      <th></th>\n",
       "      <th>Unnamed: 0</th>\n",
       "      <th>Table</th>\n",
       "      <th>Row</th>\n",
       "      <th>Description</th>\n",
       "      <th>Special</th>\n",
       "    </tr>\n",
       "  </thead>\n",
       "  <tbody>\n",
       "    <tr>\n",
       "      <th>173</th>\n",
       "      <td>176</td>\n",
       "      <td>previous_application.csv</td>\n",
       "      <td>SK_ID_PREV</td>\n",
       "      <td>ID of previous credit in Home credit related t...</td>\n",
       "      <td>hashed</td>\n",
       "    </tr>\n",
       "    <tr>\n",
       "      <th>174</th>\n",
       "      <td>177</td>\n",
       "      <td>previous_application.csv</td>\n",
       "      <td>SK_ID_CURR</td>\n",
       "      <td>ID of loan in our sample</td>\n",
       "      <td>hashed</td>\n",
       "    </tr>\n",
       "    <tr>\n",
       "      <th>175</th>\n",
       "      <td>178</td>\n",
       "      <td>previous_application.csv</td>\n",
       "      <td>NAME_CONTRACT_TYPE</td>\n",
       "      <td>Contract product type (Cash loan, consumer loa...</td>\n",
       "      <td>NaN</td>\n",
       "    </tr>\n",
       "    <tr>\n",
       "      <th>176</th>\n",
       "      <td>179</td>\n",
       "      <td>previous_application.csv</td>\n",
       "      <td>AMT_ANNUITY</td>\n",
       "      <td>Annuity of previous application</td>\n",
       "      <td>NaN</td>\n",
       "    </tr>\n",
       "    <tr>\n",
       "      <th>177</th>\n",
       "      <td>180</td>\n",
       "      <td>previous_application.csv</td>\n",
       "      <td>AMT_APPLICATION</td>\n",
       "      <td>For how much credit did client ask on the prev...</td>\n",
       "      <td>NaN</td>\n",
       "    </tr>\n",
       "  </tbody>\n",
       "</table>\n",
       "</div>"
      ],
      "text/plain": [
       "     Unnamed: 0                     Table                 Row  \\\n",
       "173         176  previous_application.csv         SK_ID_PREV    \n",
       "174         177  previous_application.csv          SK_ID_CURR   \n",
       "175         178  previous_application.csv  NAME_CONTRACT_TYPE   \n",
       "176         179  previous_application.csv         AMT_ANNUITY   \n",
       "177         180  previous_application.csv     AMT_APPLICATION   \n",
       "\n",
       "                                           Description Special  \n",
       "173  ID of previous credit in Home credit related t...  hashed  \n",
       "174                           ID of loan in our sample  hashed  \n",
       "175  Contract product type (Cash loan, consumer loa...     NaN  \n",
       "176                    Annuity of previous application     NaN  \n",
       "177  For how much credit did client ask on the prev...     NaN  "
      ]
     },
     "execution_count": 13,
     "metadata": {},
     "output_type": "execute_result"
    }
   ],
   "source": [
    "column_info[column_info['Table'] == 'previous_application.csv'].head(5)"
   ]
  },
  {
   "cell_type": "markdown",
   "metadata": {},
   "source": [
    "data loading"
   ]
  },
  {
   "cell_type": "code",
   "execution_count": 53,
   "metadata": {},
   "outputs": [
    {
     "data": {
      "text/plain": [
       "((1670214, 37), (13605401, 8))"
      ]
     },
     "execution_count": 53,
     "metadata": {},
     "output_type": "execute_result"
    }
   ],
   "source": [
    "payments_file = 'installments_payments.csv'\n",
    "previous_file = 'previous_application.csv'\n",
    "df_payments = pd.read_csv(payments_file)\n",
    "df_previous = pd.read_csv(previous_file)\n",
    "(df_previous.shape, df_payments.shape)"
   ]
  },
  {
   "cell_type": "markdown",
   "metadata": {},
   "source": [
    "expected EAR"
   ]
  },
  {
   "cell_type": "code",
   "execution_count": 54,
   "metadata": {},
   "outputs": [
    {
     "data": {
      "text/plain": [
       "48"
      ]
     },
     "execution_count": 54,
     "metadata": {},
     "output_type": "execute_result"
    }
   ],
   "source": [
    "# select only required columns for previous applications and clean up unwanted dataframes\n",
    "df_previous_filtered = df_previous[['SK_ID_CURR','SK_ID_PREV','AMT_ANNUITY','AMT_CREDIT','CNT_PAYMENT']]\\\n",
    "[df_previous['SK_ID_CURR'] == 100042]\n",
    "df_previous_filtered.shape\n",
    "del df_previous\n",
    "gc.collect()"
   ]
  },
  {
   "cell_type": "code",
   "execution_count": 55,
   "metadata": {},
   "outputs": [],
   "source": [
    "# handle null values\n",
    "df_previous_filtered['AMT_ANNUITY'] = df_previous_filtered['AMT_ANNUITY'].fillna(0)\n",
    "df_previous_filtered['AMT_CREDIT'] = df_previous_filtered['AMT_CREDIT'].fillna(0)\n",
    "df_previous_filtered['CNT_PAYMENT'] = df_previous_filtered['CNT_PAYMENT'].fillna(0)"
   ]
  },
  {
   "cell_type": "code",
   "execution_count": 56,
   "metadata": {},
   "outputs": [],
   "source": [
    "def get_ear(annuity, credit, no_of_payments):\n",
    "    \"\"\" derives ear and returns\n",
    "    \"\"\"\n",
    "    PMT = [-credit]\n",
    "    PMT = PMT + ([annuity] * int(no_of_payments))\n",
    "    irr = np.irr(PMT)\n",
    "    \n",
    "    return (1+irr)**12 - 1"
   ]
  },
  {
   "cell_type": "code",
   "execution_count": 57,
   "metadata": {},
   "outputs": [
    {
     "data": {
      "application/vnd.jupyter.widget-view+json": {
       "model_id": "370801122ed4440bb9e93697e25f74b3",
       "version_major": 2,
       "version_minor": 0
      },
      "text/plain": [
       "HBox(children=(IntProgress(value=0, max=9), HTML(value='')))"
      ]
     },
     "metadata": {},
     "output_type": "display_data"
    }
   ],
   "source": [
    "df_previous_filtered['EXPECTED_EAR'] = df_previous_filtered\\\n",
    ".progress_apply(lambda x: get_ear(x.AMT_ANNUITY, x.AMT_CREDIT, x.CNT_PAYMENT), axis=1)"
   ]
  },
  {
   "cell_type": "code",
   "execution_count": 58,
   "metadata": {},
   "outputs": [],
   "source": [
    "#df_previous_filtered[df_previous_filtered['EXPECTED_EAR'].isnull()]\n",
    "df_previous_filtered['EXPECTED_EAR'] = df_previous_filtered['EXPECTED_EAR'].fillna(0)"
   ]
  },
  {
   "cell_type": "code",
   "execution_count": 59,
   "metadata": {},
   "outputs": [],
   "source": [
    "# aggregate new column at the current application level.\n",
    "df_expected_ear = df_previous_filtered.groupby('SK_ID_CURR')['EXPECTED_EAR']\\\n",
    ".agg(['mean','median','std'])\\\n",
    ".rename(columns={'mean':'MEAN_EXPECTED_EAR','median':'MEDIAN_EXPECTED_EAR', 'std':'STD_EXPECTED_EAR'})"
   ]
  },
  {
   "cell_type": "code",
   "execution_count": 60,
   "metadata": {},
   "outputs": [
    {
     "data": {
      "text/html": [
       "<div>\n",
       "<style scoped>\n",
       "    .dataframe tbody tr th:only-of-type {\n",
       "        vertical-align: middle;\n",
       "    }\n",
       "\n",
       "    .dataframe tbody tr th {\n",
       "        vertical-align: top;\n",
       "    }\n",
       "\n",
       "    .dataframe thead th {\n",
       "        text-align: right;\n",
       "    }\n",
       "</style>\n",
       "<table border=\"1\" class=\"dataframe\">\n",
       "  <thead>\n",
       "    <tr style=\"text-align: right;\">\n",
       "      <th></th>\n",
       "      <th>MEAN_EXPECTED_EAR</th>\n",
       "      <th>MEDIAN_EXPECTED_EAR</th>\n",
       "      <th>STD_EXPECTED_EAR</th>\n",
       "    </tr>\n",
       "    <tr>\n",
       "      <th>SK_ID_CURR</th>\n",
       "      <th></th>\n",
       "      <th></th>\n",
       "      <th></th>\n",
       "    </tr>\n",
       "  </thead>\n",
       "  <tbody>\n",
       "    <tr>\n",
       "      <th>100042</th>\n",
       "      <td>0.404926</td>\n",
       "      <td>0.413872</td>\n",
       "      <td>0.222628</td>\n",
       "    </tr>\n",
       "  </tbody>\n",
       "</table>\n",
       "</div>"
      ],
      "text/plain": [
       "            MEAN_EXPECTED_EAR  MEDIAN_EXPECTED_EAR  STD_EXPECTED_EAR\n",
       "SK_ID_CURR                                                          \n",
       "100042               0.404926             0.413872          0.222628"
      ]
     },
     "execution_count": 60,
     "metadata": {},
     "output_type": "execute_result"
    }
   ],
   "source": [
    "df_expected_ear.head(6)"
   ]
  },
  {
   "cell_type": "code",
   "execution_count": 61,
   "metadata": {},
   "outputs": [],
   "source": [
    "df_expected_ear['MEAN_EXPECTED_EAR'] = df_expected_ear['MEAN_EXPECTED_EAR'].fillna(0)\n",
    "df_expected_ear['MEDIAN_EXPECTED_EAR'] = df_expected_ear['MEDIAN_EXPECTED_EAR'].fillna(0)\n",
    "df_expected_ear['STD_EXPECTED_EAR'] = df_expected_ear['STD_EXPECTED_EAR'].fillna(0)"
   ]
  },
  {
   "cell_type": "code",
   "execution_count": 62,
   "metadata": {},
   "outputs": [
    {
     "data": {
      "text/html": [
       "<div>\n",
       "<style scoped>\n",
       "    .dataframe tbody tr th:only-of-type {\n",
       "        vertical-align: middle;\n",
       "    }\n",
       "\n",
       "    .dataframe tbody tr th {\n",
       "        vertical-align: top;\n",
       "    }\n",
       "\n",
       "    .dataframe thead th {\n",
       "        text-align: right;\n",
       "    }\n",
       "</style>\n",
       "<table border=\"1\" class=\"dataframe\">\n",
       "  <thead>\n",
       "    <tr style=\"text-align: right;\">\n",
       "      <th></th>\n",
       "      <th>MEAN_EXPECTED_EAR</th>\n",
       "      <th>MEDIAN_EXPECTED_EAR</th>\n",
       "      <th>STD_EXPECTED_EAR</th>\n",
       "    </tr>\n",
       "    <tr>\n",
       "      <th>SK_ID_CURR</th>\n",
       "      <th></th>\n",
       "      <th></th>\n",
       "      <th></th>\n",
       "    </tr>\n",
       "  </thead>\n",
       "  <tbody>\n",
       "    <tr>\n",
       "      <th>100042</th>\n",
       "      <td>0.404926</td>\n",
       "      <td>0.413872</td>\n",
       "      <td>0.222628</td>\n",
       "    </tr>\n",
       "  </tbody>\n",
       "</table>\n",
       "</div>"
      ],
      "text/plain": [
       "            MEAN_EXPECTED_EAR  MEDIAN_EXPECTED_EAR  STD_EXPECTED_EAR\n",
       "SK_ID_CURR                                                          \n",
       "100042               0.404926             0.413872          0.222628"
      ]
     },
     "execution_count": 62,
     "metadata": {},
     "output_type": "execute_result"
    }
   ],
   "source": [
    "df_expected_ear.head(6)"
   ]
  },
  {
   "cell_type": "markdown",
   "metadata": {},
   "source": [
    "Actual EAR"
   ]
  },
  {
   "cell_type": "code",
   "execution_count": 63,
   "metadata": {},
   "outputs": [],
   "source": [
    "# select required installments \n",
    "df_payments_filtered = df_payments[['SK_ID_PREV','DAYS_INSTALMENT','DAYS_ENTRY_PAYMENT','AMT_INSTALMENT']][df_payments['SK_ID_PREV'].isin(df_previous_filtered['SK_ID_PREV'].tolist())]"
   ]
  },
  {
   "cell_type": "code",
   "execution_count": 64,
   "metadata": {},
   "outputs": [
    {
     "data": {
      "text/plain": [
       "(182, 4)"
      ]
     },
     "execution_count": 64,
     "metadata": {},
     "output_type": "execute_result"
    }
   ],
   "source": [
    "df_payments_filtered.shape"
   ]
  },
  {
   "cell_type": "code",
   "execution_count": 65,
   "metadata": {},
   "outputs": [],
   "source": [
    "# merge with previous application to get AMT_CREDIT\n",
    "df_previous_payments = df_payments_filtered\\\n",
    ".merge(df_previous_filtered[['SK_ID_CURR','SK_ID_PREV','EXPECTED_EAR','AMT_CREDIT']], on='SK_ID_PREV', how='inner')"
   ]
  },
  {
   "cell_type": "code",
   "execution_count": 66,
   "metadata": {},
   "outputs": [
    {
     "data": {
      "text/plain": [
       "(182, 7)"
      ]
     },
     "execution_count": 66,
     "metadata": {},
     "output_type": "execute_result"
    }
   ],
   "source": [
    "df_previous_payments.shape"
   ]
  },
  {
   "cell_type": "code",
   "execution_count": 67,
   "metadata": {},
   "outputs": [],
   "source": [
    "# handle nulls\n",
    "df_previous_payments['AMT_CREDIT'] = df_previous_payments['AMT_CREDIT'].fillna(0)\n",
    "df_previous_payments['DAYS_INSTALMENT'] = df_previous_payments['DAYS_INSTALMENT'].fillna(0)\n",
    "df_previous_payments['DAYS_ENTRY_PAYMENT'] = df_previous_payments['DAYS_ENTRY_PAYMENT'].fillna(0)\n",
    "df_previous_payments['AMT_INSTALMENT'] = df_previous_payments['AMT_INSTALMENT'].fillna(0)"
   ]
  },
  {
   "cell_type": "code",
   "execution_count": 68,
   "metadata": {},
   "outputs": [],
   "source": [
    "# derive start date\n",
    "df_previous_payments = df_previous_payments\\\n",
    ".join((df_previous_payments.groupby('SK_ID_PREV')['DAYS_INSTALMENT']\\\n",
    ".agg(['min'])-30).rename(columns={'min':'START_DATE'}), on='SK_ID_PREV')"
   ]
  },
  {
   "cell_type": "code",
   "execution_count": 69,
   "metadata": {},
   "outputs": [],
   "source": [
    "# derive end date\n",
    "df_previous_payments = df_previous_payments\\\n",
    ".join(df_previous_payments.groupby('SK_ID_PREV')['DAYS_ENTRY_PAYMENT']\\\n",
    ".agg(['max']).rename(columns={'max':'END_DATE'}), on='SK_ID_PREV')"
   ]
  },
  {
   "cell_type": "code",
   "execution_count": 70,
   "metadata": {},
   "outputs": [],
   "source": [
    "# index column based on installments to create installaments over time.\n",
    "df_previous_payments['INDEX'] = df_previous_payments['DAYS_ENTRY_PAYMENT'] - df_previous_payments['START_DATE']"
   ]
  },
  {
   "cell_type": "code",
   "execution_count": 71,
   "metadata": {},
   "outputs": [],
   "source": [
    "#df_previous_payments[df_previous_payments['SK_ID_PREV'] == 2604725]"
   ]
  },
  {
   "cell_type": "code",
   "execution_count": 72,
   "metadata": {},
   "outputs": [],
   "source": [
    "def get_dict(df):\n",
    "    keys = df['INDEX'].tolist()\n",
    "    values = df['AMT_INSTALMENT'].tolist()\n",
    "    dictionary = dict(zip(keys, values))\n",
    "    \n",
    "    return dictionary"
   ]
  },
  {
   "cell_type": "code",
   "execution_count": 73,
   "metadata": {},
   "outputs": [
    {
     "data": {
      "application/vnd.jupyter.widget-view+json": {
       "model_id": "2edc1c3b274340e3a0970523c1e8d2eb",
       "version_major": 2,
       "version_minor": 0
      },
      "text/plain": [
       "HBox(children=(IntProgress(value=0, max=7), HTML(value='')))"
      ]
     },
     "metadata": {},
     "output_type": "display_data"
    }
   ],
   "source": [
    "# first prepare the dictionary with index and amount paid at that particular interval\n",
    "df_previous_payments_t = df_previous_payments.groupby(['SK_ID_CURR','SK_ID_PREV','START_DATE','END_DATE', 'AMT_CREDIT'])\\\n",
    ".progress_apply(lambda x: get_dict(x))"
   ]
  },
  {
   "cell_type": "code",
   "execution_count": 74,
   "metadata": {},
   "outputs": [],
   "source": [
    "df_previous_payments_t = df_previous_payments_t.reset_index()\n",
    "df_previous_payments_t.columns = ['SK_ID_CURR','SK_ID_PREV','START_DATE','END_DATE','AMT_CREDIT', 'TMP_EAR_DICT']"
   ]
  },
  {
   "cell_type": "code",
   "execution_count": 78,
   "metadata": {},
   "outputs": [
    {
     "data": {
      "text/html": [
       "<div>\n",
       "<style scoped>\n",
       "    .dataframe tbody tr th:only-of-type {\n",
       "        vertical-align: middle;\n",
       "    }\n",
       "\n",
       "    .dataframe tbody tr th {\n",
       "        vertical-align: top;\n",
       "    }\n",
       "\n",
       "    .dataframe thead th {\n",
       "        text-align: right;\n",
       "    }\n",
       "</style>\n",
       "<table border=\"1\" class=\"dataframe\">\n",
       "  <thead>\n",
       "    <tr style=\"text-align: right;\">\n",
       "      <th></th>\n",
       "      <th>SK_ID_CURR</th>\n",
       "      <th>SK_ID_PREV</th>\n",
       "      <th>START_DATE</th>\n",
       "      <th>END_DATE</th>\n",
       "      <th>AMT_CREDIT</th>\n",
       "      <th>TMP_EAR_DICT</th>\n",
       "    </tr>\n",
       "  </thead>\n",
       "  <tbody>\n",
       "    <tr>\n",
       "      <th>0</th>\n",
       "      <td>100042</td>\n",
       "      <td>1125423</td>\n",
       "      <td>-2749.0</td>\n",
       "      <td>-2461.0</td>\n",
       "      <td>95431.5</td>\n",
       "      <td>{288.0: 10469.34, 78.0: 10602.45, 43.0: 10602....</td>\n",
       "    </tr>\n",
       "    <tr>\n",
       "      <th>1</th>\n",
       "      <td>100042</td>\n",
       "      <td>1643959</td>\n",
       "      <td>-1931.0</td>\n",
       "      <td>-1705.0</td>\n",
       "      <td>247275.0</td>\n",
       "      <td>{120.0: 18619.245, 226.0: 173670.39, 179.0: 18...</td>\n",
       "    </tr>\n",
       "    <tr>\n",
       "      <th>2</th>\n",
       "      <td>100042</td>\n",
       "      <td>1643964</td>\n",
       "      <td>-2337.0</td>\n",
       "      <td>-2012.0</td>\n",
       "      <td>119925.0</td>\n",
       "      <td>{55.0: 13431.6, 204.0: 13431.6, 148.0: 13431.6...</td>\n",
       "    </tr>\n",
       "    <tr>\n",
       "      <th>3</th>\n",
       "      <td>100042</td>\n",
       "      <td>1716930</td>\n",
       "      <td>-1705.0</td>\n",
       "      <td>-1371.0</td>\n",
       "      <td>315000.0</td>\n",
       "      <td>{207.0: 20150.55, 89.0: 20150.55, 326.0: 20150...</td>\n",
       "    </tr>\n",
       "    <tr>\n",
       "      <th>4</th>\n",
       "      <td>100042</td>\n",
       "      <td>2137382</td>\n",
       "      <td>-2556.0</td>\n",
       "      <td>-17.0</td>\n",
       "      <td>90000.0</td>\n",
       "      <td>{61.0: 4500.0, 423.0: 4500.0, 792.0: 4500.0, 2...</td>\n",
       "    </tr>\n",
       "  </tbody>\n",
       "</table>\n",
       "</div>"
      ],
      "text/plain": [
       "   SK_ID_CURR  SK_ID_PREV  START_DATE  END_DATE  AMT_CREDIT  \\\n",
       "0      100042     1125423     -2749.0   -2461.0     95431.5   \n",
       "1      100042     1643959     -1931.0   -1705.0    247275.0   \n",
       "2      100042     1643964     -2337.0   -2012.0    119925.0   \n",
       "3      100042     1716930     -1705.0   -1371.0    315000.0   \n",
       "4      100042     2137382     -2556.0     -17.0     90000.0   \n",
       "\n",
       "                                        TMP_EAR_DICT  \n",
       "0  {288.0: 10469.34, 78.0: 10602.45, 43.0: 10602....  \n",
       "1  {120.0: 18619.245, 226.0: 173670.39, 179.0: 18...  \n",
       "2  {55.0: 13431.6, 204.0: 13431.6, 148.0: 13431.6...  \n",
       "3  {207.0: 20150.55, 89.0: 20150.55, 326.0: 20150...  \n",
       "4  {61.0: 4500.0, 423.0: 4500.0, 792.0: 4500.0, 2...  "
      ]
     },
     "execution_count": 78,
     "metadata": {},
     "output_type": "execute_result"
    }
   ],
   "source": [
    "df_previous_payments_t.head(5)"
   ]
  },
  {
   "cell_type": "code",
   "execution_count": 79,
   "metadata": {},
   "outputs": [],
   "source": [
    "# there are a few cases where the length of the cashflow does not match with installments.\n",
    "def get_cf(SK_ID_CURR, SK_ID_PREV, START_DATE, END_DATE, AMT_CREDIT, TMP_EAR_DICT):\n",
    "    credit = AMT_CREDIT\n",
    "    period_length = int(END_DATE - START_DATE)\n",
    "    d = TMP_EAR_DICT\n",
    "    if period_length > 0:\n",
    "        cf = [0] * (period_length + 1)\n",
    "        cf[0] = -credit\n",
    "        for index, amount in d.items():\n",
    "            try:\n",
    "                cf[int(index)] = amount\n",
    "            except Exception as e:\n",
    "                print(SK_ID_CURR, SK_ID_PREV, START_DATE, END_DATE, AMT_CREDIT, TMP_EAR_DICT)\n",
    "    else:\n",
    "        return [0]\n",
    "    return cf"
   ]
  },
  {
   "cell_type": "code",
   "execution_count": 80,
   "metadata": {},
   "outputs": [
    {
     "data": {
      "application/vnd.jupyter.widget-view+json": {
       "model_id": "d402b93d79f648178e585214b27e102a",
       "version_major": 2,
       "version_minor": 0
      },
      "text/plain": [
       "HBox(children=(IntProgress(value=0, max=7), HTML(value='')))"
      ]
     },
     "metadata": {},
     "output_type": "display_data"
    }
   ],
   "source": [
    "df_previous_payments_tt = df_previous_payments_t\\\n",
    ".progress_apply(lambda x: get_cf(x.SK_ID_CURR, x.SK_ID_PREV, x.START_DATE, x.END_DATE, x.AMT_CREDIT, x.TMP_EAR_DICT), axis=1)"
   ]
  },
  {
   "cell_type": "code",
   "execution_count": 81,
   "metadata": {},
   "outputs": [],
   "source": [
    "# convert to datafame and join to original dataset using index column\n",
    "df_previous_payments_tt = df_previous_payments_tt.to_frame()\n",
    "df_previous_payments_tt.columns = ['CF']\n",
    "df_previous_payments_tt_j = df_previous_payments_t.join(df_previous_payments_tt, on=None, how='inner')"
   ]
  },
  {
   "cell_type": "code",
   "execution_count": 82,
   "metadata": {},
   "outputs": [
    {
     "data": {
      "text/plain": [
       "(7, 7)"
      ]
     },
     "execution_count": 82,
     "metadata": {},
     "output_type": "execute_result"
    }
   ],
   "source": [
    "df_previous_payments_tt_j.shape"
   ]
  },
  {
   "cell_type": "code",
   "execution_count": 83,
   "metadata": {},
   "outputs": [],
   "source": [
    "def get_actual_ear(cf):\n",
    "    \"\"\" derives actual EAR based on all payments based on previous application\n",
    "    \"\"\"\n",
    "    irr = np.irr(cf)\n",
    "    ear = (1+irr)**360 - 1 # we take 1 year to be 360 days\n",
    "    return ear"
   ]
  },
  {
   "cell_type": "code",
   "execution_count": 84,
   "metadata": {},
   "outputs": [
    {
     "data": {
      "application/vnd.jupyter.widget-view+json": {
       "model_id": "9c802211cb7e4f7f9d422e8082607c2f",
       "version_major": 2,
       "version_minor": 0
      },
      "text/plain": [
       "HBox(children=(IntProgress(value=0, max=7), HTML(value='')))"
      ]
     },
     "metadata": {},
     "output_type": "display_data"
    }
   ],
   "source": [
    "# derive ear based on cashflow column\n",
    "df_actual_ear = df_previous_payments_tt_j\\\n",
    ".progress_apply(lambda x: get_actual_ear(x.CF), axis=1)"
   ]
  },
  {
   "cell_type": "code",
   "execution_count": 85,
   "metadata": {},
   "outputs": [
    {
     "data": {
      "text/html": [
       "<div>\n",
       "<style scoped>\n",
       "    .dataframe tbody tr th:only-of-type {\n",
       "        vertical-align: middle;\n",
       "    }\n",
       "\n",
       "    .dataframe tbody tr th {\n",
       "        vertical-align: top;\n",
       "    }\n",
       "\n",
       "    .dataframe thead th {\n",
       "        text-align: right;\n",
       "    }\n",
       "</style>\n",
       "<table border=\"1\" class=\"dataframe\">\n",
       "  <thead>\n",
       "    <tr style=\"text-align: right;\">\n",
       "      <th></th>\n",
       "      <th>ACTUAL_EAR</th>\n",
       "    </tr>\n",
       "  </thead>\n",
       "  <tbody>\n",
       "    <tr>\n",
       "      <th>0</th>\n",
       "      <td>0.293995</td>\n",
       "    </tr>\n",
       "    <tr>\n",
       "      <th>1</th>\n",
       "      <td>0.524947</td>\n",
       "    </tr>\n",
       "    <tr>\n",
       "      <th>2</th>\n",
       "      <td>0.802244</td>\n",
       "    </tr>\n",
       "    <tr>\n",
       "      <th>3</th>\n",
       "      <td>0.594947</td>\n",
       "    </tr>\n",
       "    <tr>\n",
       "      <th>4</th>\n",
       "      <td>1.360314</td>\n",
       "    </tr>\n",
       "    <tr>\n",
       "      <th>5</th>\n",
       "      <td>0.513768</td>\n",
       "    </tr>\n",
       "  </tbody>\n",
       "</table>\n",
       "</div>"
      ],
      "text/plain": [
       "   ACTUAL_EAR\n",
       "0    0.293995\n",
       "1    0.524947\n",
       "2    0.802244\n",
       "3    0.594947\n",
       "4    1.360314\n",
       "5    0.513768"
      ]
     },
     "execution_count": 85,
     "metadata": {},
     "output_type": "execute_result"
    }
   ],
   "source": [
    "df_final = df_actual_ear.to_frame()\n",
    "df_final.columns = ['ACTUAL_EAR']\n",
    "df_final.head(6)"
   ]
  },
  {
   "cell_type": "code",
   "execution_count": 86,
   "metadata": {},
   "outputs": [],
   "source": [
    "# join results to main dataset using index column\n",
    "df_final_j = df_previous_payments_tt_j[['SK_ID_CURR','SK_ID_PREV']]\\\n",
    ".join(df_final, on=None, how='inner')"
   ]
  },
  {
   "cell_type": "code",
   "execution_count": 87,
   "metadata": {},
   "outputs": [
    {
     "data": {
      "text/html": [
       "<div>\n",
       "<style scoped>\n",
       "    .dataframe tbody tr th:only-of-type {\n",
       "        vertical-align: middle;\n",
       "    }\n",
       "\n",
       "    .dataframe tbody tr th {\n",
       "        vertical-align: top;\n",
       "    }\n",
       "\n",
       "    .dataframe thead th {\n",
       "        text-align: right;\n",
       "    }\n",
       "</style>\n",
       "<table border=\"1\" class=\"dataframe\">\n",
       "  <thead>\n",
       "    <tr style=\"text-align: right;\">\n",
       "      <th></th>\n",
       "      <th>SK_ID_CURR</th>\n",
       "      <th>SK_ID_PREV</th>\n",
       "      <th>ACTUAL_EAR</th>\n",
       "    </tr>\n",
       "  </thead>\n",
       "  <tbody>\n",
       "    <tr>\n",
       "      <th>0</th>\n",
       "      <td>100042</td>\n",
       "      <td>1125423</td>\n",
       "      <td>0.293995</td>\n",
       "    </tr>\n",
       "    <tr>\n",
       "      <th>1</th>\n",
       "      <td>100042</td>\n",
       "      <td>1643959</td>\n",
       "      <td>0.524947</td>\n",
       "    </tr>\n",
       "    <tr>\n",
       "      <th>2</th>\n",
       "      <td>100042</td>\n",
       "      <td>1643964</td>\n",
       "      <td>0.802244</td>\n",
       "    </tr>\n",
       "    <tr>\n",
       "      <th>3</th>\n",
       "      <td>100042</td>\n",
       "      <td>1716930</td>\n",
       "      <td>0.594947</td>\n",
       "    </tr>\n",
       "    <tr>\n",
       "      <th>4</th>\n",
       "      <td>100042</td>\n",
       "      <td>2137382</td>\n",
       "      <td>1.360314</td>\n",
       "    </tr>\n",
       "    <tr>\n",
       "      <th>5</th>\n",
       "      <td>100042</td>\n",
       "      <td>2535181</td>\n",
       "      <td>0.513768</td>\n",
       "    </tr>\n",
       "    <tr>\n",
       "      <th>6</th>\n",
       "      <td>100042</td>\n",
       "      <td>2604725</td>\n",
       "      <td>0.287169</td>\n",
       "    </tr>\n",
       "  </tbody>\n",
       "</table>\n",
       "</div>"
      ],
      "text/plain": [
       "   SK_ID_CURR  SK_ID_PREV  ACTUAL_EAR\n",
       "0      100042     1125423    0.293995\n",
       "1      100042     1643959    0.524947\n",
       "2      100042     1643964    0.802244\n",
       "3      100042     1716930    0.594947\n",
       "4      100042     2137382    1.360314\n",
       "5      100042     2535181    0.513768\n",
       "6      100042     2604725    0.287169"
      ]
     },
     "execution_count": 87,
     "metadata": {},
     "output_type": "execute_result"
    }
   ],
   "source": [
    "df_final_j"
   ]
  },
  {
   "cell_type": "code",
   "execution_count": 88,
   "metadata": {},
   "outputs": [],
   "source": [
    "# aggregate ear at current application level\n",
    "df_final_j = df_final_j.groupby('SK_ID_CURR')['ACTUAL_EAR']\\\n",
    ".agg(['mean','median','std'])\\\n",
    ".rename(columns={'mean':'MEAN_ACTUAL_EAR','median':'MEDIAN_ACTUAL_EAR', 'std':'STD_ACTUAL_EAR'})"
   ]
  },
  {
   "cell_type": "code",
   "execution_count": 89,
   "metadata": {},
   "outputs": [
    {
     "data": {
      "text/html": [
       "<div>\n",
       "<style scoped>\n",
       "    .dataframe tbody tr th:only-of-type {\n",
       "        vertical-align: middle;\n",
       "    }\n",
       "\n",
       "    .dataframe tbody tr th {\n",
       "        vertical-align: top;\n",
       "    }\n",
       "\n",
       "    .dataframe thead th {\n",
       "        text-align: right;\n",
       "    }\n",
       "</style>\n",
       "<table border=\"1\" class=\"dataframe\">\n",
       "  <thead>\n",
       "    <tr style=\"text-align: right;\">\n",
       "      <th></th>\n",
       "      <th>MEAN_ACTUAL_EAR</th>\n",
       "      <th>MEDIAN_ACTUAL_EAR</th>\n",
       "      <th>STD_ACTUAL_EAR</th>\n",
       "    </tr>\n",
       "    <tr>\n",
       "      <th>SK_ID_CURR</th>\n",
       "      <th></th>\n",
       "      <th></th>\n",
       "      <th></th>\n",
       "    </tr>\n",
       "  </thead>\n",
       "  <tbody>\n",
       "    <tr>\n",
       "      <th>100042</th>\n",
       "      <td>0.625341</td>\n",
       "      <td>0.524947</td>\n",
       "      <td>0.369478</td>\n",
       "    </tr>\n",
       "  </tbody>\n",
       "</table>\n",
       "</div>"
      ],
      "text/plain": [
       "            MEAN_ACTUAL_EAR  MEDIAN_ACTUAL_EAR  STD_ACTUAL_EAR\n",
       "SK_ID_CURR                                                    \n",
       "100042             0.625341           0.524947        0.369478"
      ]
     },
     "execution_count": 89,
     "metadata": {},
     "output_type": "execute_result"
    }
   ],
   "source": [
    "df_final_j"
   ]
  },
  {
   "cell_type": "code",
   "execution_count": 90,
   "metadata": {},
   "outputs": [],
   "source": [
    "# joining expected and actual ear\n",
    "df_expected_actual = df_final_j.join(df_expected_ear, on='SK_ID_CURR', how='inner')"
   ]
  },
  {
   "cell_type": "code",
   "execution_count": 91,
   "metadata": {},
   "outputs": [
    {
     "data": {
      "text/html": [
       "<div>\n",
       "<style scoped>\n",
       "    .dataframe tbody tr th:only-of-type {\n",
       "        vertical-align: middle;\n",
       "    }\n",
       "\n",
       "    .dataframe tbody tr th {\n",
       "        vertical-align: top;\n",
       "    }\n",
       "\n",
       "    .dataframe thead th {\n",
       "        text-align: right;\n",
       "    }\n",
       "</style>\n",
       "<table border=\"1\" class=\"dataframe\">\n",
       "  <thead>\n",
       "    <tr style=\"text-align: right;\">\n",
       "      <th></th>\n",
       "      <th>MEAN_ACTUAL_EAR</th>\n",
       "      <th>MEDIAN_ACTUAL_EAR</th>\n",
       "      <th>STD_ACTUAL_EAR</th>\n",
       "      <th>MEAN_EXPECTED_EAR</th>\n",
       "      <th>MEDIAN_EXPECTED_EAR</th>\n",
       "      <th>STD_EXPECTED_EAR</th>\n",
       "    </tr>\n",
       "    <tr>\n",
       "      <th>SK_ID_CURR</th>\n",
       "      <th></th>\n",
       "      <th></th>\n",
       "      <th></th>\n",
       "      <th></th>\n",
       "      <th></th>\n",
       "      <th></th>\n",
       "    </tr>\n",
       "  </thead>\n",
       "  <tbody>\n",
       "    <tr>\n",
       "      <th>100042</th>\n",
       "      <td>0.625341</td>\n",
       "      <td>0.524947</td>\n",
       "      <td>0.369478</td>\n",
       "      <td>0.404926</td>\n",
       "      <td>0.413872</td>\n",
       "      <td>0.222628</td>\n",
       "    </tr>\n",
       "  </tbody>\n",
       "</table>\n",
       "</div>"
      ],
      "text/plain": [
       "            MEAN_ACTUAL_EAR  MEDIAN_ACTUAL_EAR  STD_ACTUAL_EAR  \\\n",
       "SK_ID_CURR                                                       \n",
       "100042             0.625341           0.524947        0.369478   \n",
       "\n",
       "            MEAN_EXPECTED_EAR  MEDIAN_EXPECTED_EAR  STD_EXPECTED_EAR  \n",
       "SK_ID_CURR                                                            \n",
       "100042               0.404926             0.413872          0.222628  "
      ]
     },
     "execution_count": 91,
     "metadata": {},
     "output_type": "execute_result"
    }
   ],
   "source": [
    "df_expected_actual"
   ]
  },
  {
   "cell_type": "code",
   "execution_count": 92,
   "metadata": {},
   "outputs": [],
   "source": [
    "# writing only expected ear\n",
    "expected_ear_csv = '/ws_nparigi/01_Work/04_mba/Year2/Block1/valuation/datascience-assignment/home-credit-default-risk/expected_ear.csv'\n",
    "#df_expected_ear.to_csv(expected_ear_csv, index=True)\n"
   ]
  },
  {
   "cell_type": "code",
   "execution_count": null,
   "metadata": {},
   "outputs": [],
   "source": []
  }
 ],
 "metadata": {
  "kernelspec": {
   "display_name": "Python 3",
   "language": "python",
   "name": "python3"
  },
  "language_info": {
   "codemirror_mode": {
    "name": "ipython",
    "version": 3
   },
   "file_extension": ".py",
   "mimetype": "text/x-python",
   "name": "python",
   "nbconvert_exporter": "python",
   "pygments_lexer": "ipython3",
   "version": "3.7.3"
  }
 },
 "nbformat": 4,
 "nbformat_minor": 2
}
