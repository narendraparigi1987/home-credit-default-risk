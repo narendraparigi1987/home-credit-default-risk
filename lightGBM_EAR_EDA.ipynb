{
 "cells": [
  {
   "cell_type": "code",
   "execution_count": 1,
   "metadata": {},
   "outputs": [],
   "source": [
    "#EDA for EAR Derivation"
   ]
  },
  {
   "cell_type": "code",
   "execution_count": 3,
   "metadata": {},
   "outputs": [],
   "source": [
    "import pandas as pd\n",
    "import numpy as np\n",
    "from sklearn.preprocessing import MinMaxScaler, LabelEncoder\n",
    "from sklearn.model_selection import train_test_split\n",
    "from sklearn.metrics import accuracy_score, roc_auc_score, confusion_matrix\n",
    "from sklearn.feature_selection import VarianceThreshold\n",
    "import lightgbm as lgb\n",
    "import matplotlib.pyplot as plt\n",
    "import seaborn as sns\n",
    "import warnings\n",
    "import gc\n",
    "\n",
    "import irr\n",
    "from multiprocessing import  Pool\n",
    "\n",
    "from tqdm.auto import tqdm\n",
    "tqdm.pandas()\n",
    "\n",
    "warnings.filterwarnings('ignore')"
   ]
  },
  {
   "cell_type": "markdown",
   "metadata": {},
   "source": [
    "source data data column definations"
   ]
  },
  {
   "cell_type": "code",
   "execution_count": 4,
   "metadata": {},
   "outputs": [],
   "source": [
    "column_info = pd.read_csv('HomeCredit_columns_description.csv', encoding = 'unicode_escape')"
   ]
  },
  {
   "cell_type": "code",
   "execution_count": 5,
   "metadata": {},
   "outputs": [
    {
     "data": {
      "text/html": [
       "<div>\n",
       "<style scoped>\n",
       "    .dataframe tbody tr th:only-of-type {\n",
       "        vertical-align: middle;\n",
       "    }\n",
       "\n",
       "    .dataframe tbody tr th {\n",
       "        vertical-align: top;\n",
       "    }\n",
       "\n",
       "    .dataframe thead th {\n",
       "        text-align: right;\n",
       "    }\n",
       "</style>\n",
       "<table border=\"1\" class=\"dataframe\">\n",
       "  <thead>\n",
       "    <tr style=\"text-align: right;\">\n",
       "      <th></th>\n",
       "      <th>Unnamed: 0</th>\n",
       "      <th>Table</th>\n",
       "      <th>Row</th>\n",
       "      <th>Description</th>\n",
       "      <th>Special</th>\n",
       "    </tr>\n",
       "  </thead>\n",
       "  <tbody>\n",
       "    <tr>\n",
       "      <th>173</th>\n",
       "      <td>176</td>\n",
       "      <td>previous_application.csv</td>\n",
       "      <td>SK_ID_PREV</td>\n",
       "      <td>ID of previous credit in Home credit related t...</td>\n",
       "      <td>hashed</td>\n",
       "    </tr>\n",
       "    <tr>\n",
       "      <th>174</th>\n",
       "      <td>177</td>\n",
       "      <td>previous_application.csv</td>\n",
       "      <td>SK_ID_CURR</td>\n",
       "      <td>ID of loan in our sample</td>\n",
       "      <td>hashed</td>\n",
       "    </tr>\n",
       "    <tr>\n",
       "      <th>175</th>\n",
       "      <td>178</td>\n",
       "      <td>previous_application.csv</td>\n",
       "      <td>NAME_CONTRACT_TYPE</td>\n",
       "      <td>Contract product type (Cash loan, consumer loa...</td>\n",
       "      <td>NaN</td>\n",
       "    </tr>\n",
       "    <tr>\n",
       "      <th>176</th>\n",
       "      <td>179</td>\n",
       "      <td>previous_application.csv</td>\n",
       "      <td>AMT_ANNUITY</td>\n",
       "      <td>Annuity of previous application</td>\n",
       "      <td>NaN</td>\n",
       "    </tr>\n",
       "    <tr>\n",
       "      <th>177</th>\n",
       "      <td>180</td>\n",
       "      <td>previous_application.csv</td>\n",
       "      <td>AMT_APPLICATION</td>\n",
       "      <td>For how much credit did client ask on the prev...</td>\n",
       "      <td>NaN</td>\n",
       "    </tr>\n",
       "  </tbody>\n",
       "</table>\n",
       "</div>"
      ],
      "text/plain": [
       "     Unnamed: 0                     Table                 Row  \\\n",
       "173         176  previous_application.csv         SK_ID_PREV    \n",
       "174         177  previous_application.csv          SK_ID_CURR   \n",
       "175         178  previous_application.csv  NAME_CONTRACT_TYPE   \n",
       "176         179  previous_application.csv         AMT_ANNUITY   \n",
       "177         180  previous_application.csv     AMT_APPLICATION   \n",
       "\n",
       "                                           Description Special  \n",
       "173  ID of previous credit in Home credit related t...  hashed  \n",
       "174                           ID of loan in our sample  hashed  \n",
       "175  Contract product type (Cash loan, consumer loa...     NaN  \n",
       "176                    Annuity of previous application     NaN  \n",
       "177  For how much credit did client ask on the prev...     NaN  "
      ]
     },
     "execution_count": 5,
     "metadata": {},
     "output_type": "execute_result"
    }
   ],
   "source": [
    "column_info[column_info['Table'] == 'previous_application.csv'].head(5)"
   ]
  },
  {
   "cell_type": "markdown",
   "metadata": {},
   "source": [
    "data loading"
   ]
  },
  {
   "cell_type": "code",
   "execution_count": 42,
   "metadata": {},
   "outputs": [
    {
     "data": {
      "text/plain": [
       "((1670214, 37), (13605401, 8))"
      ]
     },
     "execution_count": 42,
     "metadata": {},
     "output_type": "execute_result"
    }
   ],
   "source": [
    "payments_file = 'installments_payments.csv'\n",
    "previous_file = 'previous_application.csv'\n",
    "df_payments = pd.read_csv(payments_file)\n",
    "df_previous = pd.read_csv(previous_file)\n",
    "(df_previous.shape, df_payments.shape)"
   ]
  },
  {
   "cell_type": "markdown",
   "metadata": {},
   "source": [
    "expected EAR"
   ]
  },
  {
   "cell_type": "code",
   "execution_count": 43,
   "metadata": {},
   "outputs": [
    {
     "data": {
      "text/plain": [
       "55"
      ]
     },
     "execution_count": 43,
     "metadata": {},
     "output_type": "execute_result"
    }
   ],
   "source": [
    "# select only required columns for previous applications and clean up unwanted dataframes\n",
    "df_previous_filtered = df_previous[['SK_ID_CURR','SK_ID_PREV','AMT_ANNUITY','AMT_CREDIT','CNT_PAYMENT']]\n",
    "#[df_previous['SK_ID_CURR'] == 100042]\n",
    "df_previous_filtered.shape\n",
    "del df_previous\n",
    "gc.collect()"
   ]
  },
  {
   "cell_type": "code",
   "execution_count": 44,
   "metadata": {},
   "outputs": [],
   "source": [
    "# handle null values\n",
    "df_previous_filtered['AMT_ANNUITY'] = df_previous_filtered['AMT_ANNUITY'].fillna(0)\n",
    "df_previous_filtered['AMT_CREDIT'] = df_previous_filtered['AMT_CREDIT'].fillna(0)\n",
    "df_previous_filtered['CNT_PAYMENT'] = df_previous_filtered['CNT_PAYMENT'].fillna(0)"
   ]
  },
  {
   "cell_type": "code",
   "execution_count": 57,
   "metadata": {},
   "outputs": [],
   "source": [
    "def get_ear(annuity, credit, no_of_payments):\n",
    "    \"\"\" derives ear and returns\n",
    "    \"\"\"\n",
    "    PMT = [-credit]\n",
    "    PMT = PMT + ([annuity] * int(no_of_payments))\n",
    "    d_irr = np.irr(PMT)\n",
    "    \n",
    "    return (1+d_irr)**12 - 1"
   ]
  },
  {
   "cell_type": "code",
   "execution_count": 58,
   "metadata": {},
   "outputs": [
    {
     "data": {
      "application/vnd.jupyter.widget-view+json": {
       "model_id": "88d1686de2b44ae88d8f490d6ff2f7f6",
       "version_major": 2,
       "version_minor": 0
      },
      "text/plain": [
       "HBox(children=(IntProgress(value=0, max=1670214), HTML(value='')))"
      ]
     },
     "metadata": {},
     "output_type": "display_data"
    }
   ],
   "source": [
    "df_previous_filtered['EXPECTED_EAR'] = df_previous_filtered\\\n",
    ".progress_apply(lambda x: get_ear(x.AMT_ANNUITY, x.AMT_CREDIT, x.CNT_PAYMENT), axis=1)"
   ]
  },
  {
   "cell_type": "code",
   "execution_count": 59,
   "metadata": {},
   "outputs": [],
   "source": [
    "#df_previous_filtered[df_previous_filtered['EXPECTED_EAR'].isnull()]\n",
    "df_previous_filtered['EXPECTED_EAR'] = df_previous_filtered['EXPECTED_EAR'].fillna(0)"
   ]
  },
  {
   "cell_type": "code",
   "execution_count": 60,
   "metadata": {},
   "outputs": [],
   "source": [
    "# aggregate new column at the current application level.\n",
    "df_expected_ear = df_previous_filtered.groupby('SK_ID_CURR')['EXPECTED_EAR']\\\n",
    ".agg(['mean','median','std'])\\\n",
    ".rename(columns={'mean':'MEAN_EXPECTED_EAR','median':'MEDIAN_EXPECTED_EAR', 'std':'STD_EXPECTED_EAR'})"
   ]
  },
  {
   "cell_type": "code",
   "execution_count": 61,
   "metadata": {},
   "outputs": [
    {
     "data": {
      "text/html": [
       "<div>\n",
       "<style scoped>\n",
       "    .dataframe tbody tr th:only-of-type {\n",
       "        vertical-align: middle;\n",
       "    }\n",
       "\n",
       "    .dataframe tbody tr th {\n",
       "        vertical-align: top;\n",
       "    }\n",
       "\n",
       "    .dataframe thead th {\n",
       "        text-align: right;\n",
       "    }\n",
       "</style>\n",
       "<table border=\"1\" class=\"dataframe\">\n",
       "  <thead>\n",
       "    <tr style=\"text-align: right;\">\n",
       "      <th></th>\n",
       "      <th>MEAN_EXPECTED_EAR</th>\n",
       "      <th>MEDIAN_EXPECTED_EAR</th>\n",
       "      <th>STD_EXPECTED_EAR</th>\n",
       "    </tr>\n",
       "    <tr>\n",
       "      <th>SK_ID_CURR</th>\n",
       "      <th></th>\n",
       "      <th></th>\n",
       "      <th></th>\n",
       "    </tr>\n",
       "  </thead>\n",
       "  <tbody>\n",
       "    <tr>\n",
       "      <th>100001</th>\n",
       "      <td>1.199400</td>\n",
       "      <td>1.199400</td>\n",
       "      <td>NaN</td>\n",
       "    </tr>\n",
       "    <tr>\n",
       "      <th>100002</th>\n",
       "      <td>0.238453</td>\n",
       "      <td>0.238453</td>\n",
       "      <td>NaN</td>\n",
       "    </tr>\n",
       "    <tr>\n",
       "      <th>100003</th>\n",
       "      <td>0.368710</td>\n",
       "      <td>0.385640</td>\n",
       "      <td>0.083249</td>\n",
       "    </tr>\n",
       "    <tr>\n",
       "      <th>100004</th>\n",
       "      <td>0.360515</td>\n",
       "      <td>0.360515</td>\n",
       "      <td>NaN</td>\n",
       "    </tr>\n",
       "    <tr>\n",
       "      <th>100005</th>\n",
       "      <td>0.516463</td>\n",
       "      <td>0.516463</td>\n",
       "      <td>0.730389</td>\n",
       "    </tr>\n",
       "    <tr>\n",
       "      <th>100006</th>\n",
       "      <td>0.282858</td>\n",
       "      <td>0.342949</td>\n",
       "      <td>0.294920</td>\n",
       "    </tr>\n",
       "  </tbody>\n",
       "</table>\n",
       "</div>"
      ],
      "text/plain": [
       "            MEAN_EXPECTED_EAR  MEDIAN_EXPECTED_EAR  STD_EXPECTED_EAR\n",
       "SK_ID_CURR                                                          \n",
       "100001               1.199400             1.199400               NaN\n",
       "100002               0.238453             0.238453               NaN\n",
       "100003               0.368710             0.385640          0.083249\n",
       "100004               0.360515             0.360515               NaN\n",
       "100005               0.516463             0.516463          0.730389\n",
       "100006               0.282858             0.342949          0.294920"
      ]
     },
     "execution_count": 61,
     "metadata": {},
     "output_type": "execute_result"
    }
   ],
   "source": [
    "df_expected_ear.head(6)"
   ]
  },
  {
   "cell_type": "code",
   "execution_count": 62,
   "metadata": {},
   "outputs": [],
   "source": [
    "df_expected_ear['MEAN_EXPECTED_EAR'] = df_expected_ear['MEAN_EXPECTED_EAR'].fillna(0)\n",
    "df_expected_ear['MEDIAN_EXPECTED_EAR'] = df_expected_ear['MEDIAN_EXPECTED_EAR'].fillna(0)\n",
    "df_expected_ear['STD_EXPECTED_EAR'] = df_expected_ear['STD_EXPECTED_EAR'].fillna(0)"
   ]
  },
  {
   "cell_type": "code",
   "execution_count": 63,
   "metadata": {},
   "outputs": [
    {
     "data": {
      "text/html": [
       "<div>\n",
       "<style scoped>\n",
       "    .dataframe tbody tr th:only-of-type {\n",
       "        vertical-align: middle;\n",
       "    }\n",
       "\n",
       "    .dataframe tbody tr th {\n",
       "        vertical-align: top;\n",
       "    }\n",
       "\n",
       "    .dataframe thead th {\n",
       "        text-align: right;\n",
       "    }\n",
       "</style>\n",
       "<table border=\"1\" class=\"dataframe\">\n",
       "  <thead>\n",
       "    <tr style=\"text-align: right;\">\n",
       "      <th></th>\n",
       "      <th>MEAN_EXPECTED_EAR</th>\n",
       "      <th>MEDIAN_EXPECTED_EAR</th>\n",
       "      <th>STD_EXPECTED_EAR</th>\n",
       "    </tr>\n",
       "    <tr>\n",
       "      <th>SK_ID_CURR</th>\n",
       "      <th></th>\n",
       "      <th></th>\n",
       "      <th></th>\n",
       "    </tr>\n",
       "  </thead>\n",
       "  <tbody>\n",
       "    <tr>\n",
       "      <th>100001</th>\n",
       "      <td>1.199400</td>\n",
       "      <td>1.199400</td>\n",
       "      <td>0.000000</td>\n",
       "    </tr>\n",
       "    <tr>\n",
       "      <th>100002</th>\n",
       "      <td>0.238453</td>\n",
       "      <td>0.238453</td>\n",
       "      <td>0.000000</td>\n",
       "    </tr>\n",
       "    <tr>\n",
       "      <th>100003</th>\n",
       "      <td>0.368710</td>\n",
       "      <td>0.385640</td>\n",
       "      <td>0.083249</td>\n",
       "    </tr>\n",
       "    <tr>\n",
       "      <th>100004</th>\n",
       "      <td>0.360515</td>\n",
       "      <td>0.360515</td>\n",
       "      <td>0.000000</td>\n",
       "    </tr>\n",
       "    <tr>\n",
       "      <th>100005</th>\n",
       "      <td>0.516463</td>\n",
       "      <td>0.516463</td>\n",
       "      <td>0.730389</td>\n",
       "    </tr>\n",
       "    <tr>\n",
       "      <th>100006</th>\n",
       "      <td>0.282858</td>\n",
       "      <td>0.342949</td>\n",
       "      <td>0.294920</td>\n",
       "    </tr>\n",
       "  </tbody>\n",
       "</table>\n",
       "</div>"
      ],
      "text/plain": [
       "            MEAN_EXPECTED_EAR  MEDIAN_EXPECTED_EAR  STD_EXPECTED_EAR\n",
       "SK_ID_CURR                                                          \n",
       "100001               1.199400             1.199400          0.000000\n",
       "100002               0.238453             0.238453          0.000000\n",
       "100003               0.368710             0.385640          0.083249\n",
       "100004               0.360515             0.360515          0.000000\n",
       "100005               0.516463             0.516463          0.730389\n",
       "100006               0.282858             0.342949          0.294920"
      ]
     },
     "execution_count": 63,
     "metadata": {},
     "output_type": "execute_result"
    }
   ],
   "source": [
    "df_expected_ear.head(6)"
   ]
  },
  {
   "cell_type": "markdown",
   "metadata": {},
   "source": [
    "Actual EAR"
   ]
  },
  {
   "cell_type": "code",
   "execution_count": 64,
   "metadata": {},
   "outputs": [],
   "source": [
    "# select required installments \n",
    "df_payments_filtered = df_payments[['SK_ID_PREV','DAYS_INSTALMENT','DAYS_ENTRY_PAYMENT','AMT_INSTALMENT']][df_payments['SK_ID_PREV'].isin(df_previous_filtered['SK_ID_PREV'].tolist())]"
   ]
  },
  {
   "cell_type": "code",
   "execution_count": 65,
   "metadata": {},
   "outputs": [
    {
     "data": {
      "text/plain": [
       "(12354575, 4)"
      ]
     },
     "execution_count": 65,
     "metadata": {},
     "output_type": "execute_result"
    }
   ],
   "source": [
    "df_payments_filtered.shape"
   ]
  },
  {
   "cell_type": "code",
   "execution_count": 66,
   "metadata": {},
   "outputs": [],
   "source": [
    "# merge with previous application to get AMT_CREDIT\n",
    "df_previous_payments = df_payments_filtered\\\n",
    ".merge(df_previous_filtered[['SK_ID_CURR','SK_ID_PREV','EXPECTED_EAR','AMT_CREDIT']], on='SK_ID_PREV', how='inner')"
   ]
  },
  {
   "cell_type": "code",
   "execution_count": 67,
   "metadata": {},
   "outputs": [
    {
     "data": {
      "text/plain": [
       "(12354575, 7)"
      ]
     },
     "execution_count": 67,
     "metadata": {},
     "output_type": "execute_result"
    }
   ],
   "source": [
    "df_previous_payments.shape"
   ]
  },
  {
   "cell_type": "code",
   "execution_count": 68,
   "metadata": {},
   "outputs": [],
   "source": [
    "# handle nulls\n",
    "df_previous_payments['AMT_CREDIT'] = df_previous_payments['AMT_CREDIT'].fillna(0)\n",
    "df_previous_payments['DAYS_INSTALMENT'] = df_previous_payments['DAYS_INSTALMENT'].fillna(0)\n",
    "df_previous_payments['DAYS_ENTRY_PAYMENT'] = df_previous_payments['DAYS_ENTRY_PAYMENT'].fillna(0)\n",
    "df_previous_payments['AMT_INSTALMENT'] = df_previous_payments['AMT_INSTALMENT'].fillna(0)"
   ]
  },
  {
   "cell_type": "code",
   "execution_count": 69,
   "metadata": {},
   "outputs": [],
   "source": [
    "# derive start date\n",
    "df_previous_payments = df_previous_payments\\\n",
    ".join((df_previous_payments.groupby('SK_ID_PREV')['DAYS_INSTALMENT']\\\n",
    ".agg(['min'])-30).rename(columns={'min':'START_DATE'}), on='SK_ID_PREV')"
   ]
  },
  {
   "cell_type": "code",
   "execution_count": 70,
   "metadata": {},
   "outputs": [],
   "source": [
    "# derive end date\n",
    "df_previous_payments = df_previous_payments\\\n",
    ".join(df_previous_payments.groupby('SK_ID_PREV')['DAYS_ENTRY_PAYMENT']\\\n",
    ".agg(['max']).rename(columns={'max':'END_DATE'}), on='SK_ID_PREV')"
   ]
  },
  {
   "cell_type": "code",
   "execution_count": 71,
   "metadata": {},
   "outputs": [],
   "source": [
    "# index column based on installments to create installaments over time.\n",
    "df_previous_payments['INDEX'] = df_previous_payments['DAYS_ENTRY_PAYMENT'] - df_previous_payments['START_DATE']"
   ]
  },
  {
   "cell_type": "code",
   "execution_count": 72,
   "metadata": {},
   "outputs": [],
   "source": [
    "#df_previous_payments[df_previous_payments['SK_ID_PREV'] == 2604725]"
   ]
  },
  {
   "cell_type": "code",
   "execution_count": 73,
   "metadata": {},
   "outputs": [],
   "source": [
    "def get_dict(df):\n",
    "    keys = df['INDEX'].tolist()\n",
    "    values = df['AMT_INSTALMENT'].tolist()\n",
    "    dictionary = dict(zip(keys, values))\n",
    "    \n",
    "    return dictionary"
   ]
  },
  {
   "cell_type": "code",
   "execution_count": 74,
   "metadata": {},
   "outputs": [
    {
     "data": {
      "application/vnd.jupyter.widget-view+json": {
       "model_id": "2e8f4d3c14c147aebab675ae1ab648ee",
       "version_major": 2,
       "version_minor": 0
      },
      "text/plain": [
       "HBox(children=(IntProgress(value=0, max=958905), HTML(value='')))"
      ]
     },
     "metadata": {},
     "output_type": "display_data"
    }
   ],
   "source": [
    "# first prepare the dictionary with index and amount paid at that particular interval\n",
    "df_previous_payments_t = df_previous_payments.groupby(['SK_ID_CURR','SK_ID_PREV','START_DATE','END_DATE', 'AMT_CREDIT'])\\\n",
    ".progress_apply(lambda x: get_dict(x))"
   ]
  },
  {
   "cell_type": "code",
   "execution_count": 75,
   "metadata": {},
   "outputs": [],
   "source": [
    "df_previous_payments_t = df_previous_payments_t.reset_index()\n",
    "df_previous_payments_t.columns = ['SK_ID_CURR','SK_ID_PREV','START_DATE','END_DATE','AMT_CREDIT', 'TMP_EAR_DICT']"
   ]
  },
  {
   "cell_type": "code",
   "execution_count": 76,
   "metadata": {},
   "outputs": [
    {
     "data": {
      "text/html": [
       "<div>\n",
       "<style scoped>\n",
       "    .dataframe tbody tr th:only-of-type {\n",
       "        vertical-align: middle;\n",
       "    }\n",
       "\n",
       "    .dataframe tbody tr th {\n",
       "        vertical-align: top;\n",
       "    }\n",
       "\n",
       "    .dataframe thead th {\n",
       "        text-align: right;\n",
       "    }\n",
       "</style>\n",
       "<table border=\"1\" class=\"dataframe\">\n",
       "  <thead>\n",
       "    <tr style=\"text-align: right;\">\n",
       "      <th></th>\n",
       "      <th>SK_ID_CURR</th>\n",
       "      <th>SK_ID_PREV</th>\n",
       "      <th>START_DATE</th>\n",
       "      <th>END_DATE</th>\n",
       "      <th>AMT_CREDIT</th>\n",
       "      <th>TMP_EAR_DICT</th>\n",
       "    </tr>\n",
       "  </thead>\n",
       "  <tbody>\n",
       "    <tr>\n",
       "      <th>0</th>\n",
       "      <td>100001</td>\n",
       "      <td>1369693</td>\n",
       "      <td>-1739.0</td>\n",
       "      <td>-1628.0</td>\n",
       "      <td>23787.0</td>\n",
       "      <td>{24.0: 3951.0, 111.0: 17397.9, 79.0: 3951.0}</td>\n",
       "    </tr>\n",
       "    <tr>\n",
       "      <th>1</th>\n",
       "      <td>100002</td>\n",
       "      <td>1038818</td>\n",
       "      <td>-595.0</td>\n",
       "      <td>-49.0</td>\n",
       "      <td>179055.0</td>\n",
       "      <td>{462.0: 9251.775, 220.0: 9251.775, 546.0: 5309...</td>\n",
       "    </tr>\n",
       "    <tr>\n",
       "      <th>2</th>\n",
       "      <td>100003</td>\n",
       "      <td>1810518</td>\n",
       "      <td>-746.0</td>\n",
       "      <td>-544.0</td>\n",
       "      <td>1035882.0</td>\n",
       "      <td>{56.0: 98356.995, 85.0: 98356.995, 202.0: 5608...</td>\n",
       "    </tr>\n",
       "    <tr>\n",
       "      <th>3</th>\n",
       "      <td>100003</td>\n",
       "      <td>2396755</td>\n",
       "      <td>-2340.0</td>\n",
       "      <td>-1985.0</td>\n",
       "      <td>68053.5</td>\n",
       "      <td>{114.0: 6737.31, 269.0: 6737.31, 141.0: 6737.3...</td>\n",
       "    </tr>\n",
       "    <tr>\n",
       "      <th>4</th>\n",
       "      <td>100003</td>\n",
       "      <td>2636178</td>\n",
       "      <td>-827.0</td>\n",
       "      <td>-661.0</td>\n",
       "      <td>348637.5</td>\n",
       "      <td>{137.0: 64567.665, 21.0: 64567.665, 108.0: 645...</td>\n",
       "    </tr>\n",
       "  </tbody>\n",
       "</table>\n",
       "</div>"
      ],
      "text/plain": [
       "   SK_ID_CURR  SK_ID_PREV  START_DATE  END_DATE  AMT_CREDIT  \\\n",
       "0      100001     1369693     -1739.0   -1628.0     23787.0   \n",
       "1      100002     1038818      -595.0     -49.0    179055.0   \n",
       "2      100003     1810518      -746.0    -544.0   1035882.0   \n",
       "3      100003     2396755     -2340.0   -1985.0     68053.5   \n",
       "4      100003     2636178      -827.0    -661.0    348637.5   \n",
       "\n",
       "                                        TMP_EAR_DICT  \n",
       "0       {24.0: 3951.0, 111.0: 17397.9, 79.0: 3951.0}  \n",
       "1  {462.0: 9251.775, 220.0: 9251.775, 546.0: 5309...  \n",
       "2  {56.0: 98356.995, 85.0: 98356.995, 202.0: 5608...  \n",
       "3  {114.0: 6737.31, 269.0: 6737.31, 141.0: 6737.3...  \n",
       "4  {137.0: 64567.665, 21.0: 64567.665, 108.0: 645...  "
      ]
     },
     "execution_count": 76,
     "metadata": {},
     "output_type": "execute_result"
    }
   ],
   "source": [
    "df_previous_payments_t.head(5)"
   ]
  },
  {
   "cell_type": "code",
   "execution_count": 77,
   "metadata": {},
   "outputs": [],
   "source": [
    "# there are a few cases where the length of the cashflow does not match with installments.\n",
    "def get_cf(SK_ID_CURR, SK_ID_PREV, START_DATE, END_DATE, AMT_CREDIT, TMP_EAR_DICT):\n",
    "    credit = AMT_CREDIT\n",
    "    period_length = int(END_DATE - START_DATE)\n",
    "    d = TMP_EAR_DICT\n",
    "    if period_length > 0:\n",
    "        cf = [0] * (period_length + 1)\n",
    "        cf[0] = -credit\n",
    "        for index, amount in d.items():\n",
    "            try:\n",
    "                cf[int(index)] = amount\n",
    "            except Exception as e:\n",
    "                print(SK_ID_CURR, SK_ID_PREV, START_DATE, END_DATE, AMT_CREDIT, TMP_EAR_DICT)\n",
    "    else:\n",
    "        return [0]\n",
    "    return cf"
   ]
  },
  {
   "cell_type": "code",
   "execution_count": 78,
   "metadata": {},
   "outputs": [
    {
     "data": {
      "application/vnd.jupyter.widget-view+json": {
       "model_id": "748c8a784dbf41caa19f77d9dada0feb",
       "version_major": 2,
       "version_minor": 0
      },
      "text/plain": [
       "HBox(children=(IntProgress(value=0, max=958905), HTML(value='')))"
      ]
     },
     "metadata": {},
     "output_type": "display_data"
    },
    {
     "name": "stdout",
     "output_type": "stream",
     "text": [
      "108966 2805403 -170.0 -159.0 47290.5 {-20.0: 8744.94, 11.0: 33455.655, 0.0: 8744.94}\n",
      "123458 2755582 -1838.0 -1787.0 30195.0 {-274.0: 5652.495, 0.0: 5652.495, 51.0: 16403.67, -239.0: 5652.495}\n",
      "123458 2755582 -1838.0 -1787.0 30195.0 {-274.0: 5652.495, 0.0: 5652.495, 51.0: 16403.67, -239.0: 5652.495}\n",
      "125014 1181029 -1177.0 -1163.0 32184.0 {0.0: 3858.84, -22.0: 3858.84, 14.0: 27725.355}\n",
      "152554 1377212 -444.0 -443.0 17347.5 {-20.0: 3567.015, 1.0: 15827.58}\n",
      "163044 2346107 -617.0 -572.0 148365.0 {45.0: 144025.785, -67.0: 10704.555}\n",
      "171336 2049507 -938.0 -881.0 24682.5 {57.0: 4361.4, 27.0: 4361.4, -98.0: 4361.4}\n",
      "174087 1214702 -1284.0 -1268.0 18351.0 {0.0: 3993.39, -9.0: 3993.39, -23.0: 3993.39, 16.0: 3990.105}\n",
      "188263 2617776 -1220.0 -1209.0 26284.5 {11.0: 22766.985, -20.0: 3196.215, 0.0: 3196.215}\n",
      "192645 1850683 -820.0 -798.0 15246.0 {22.0: 7864.515, -46.0: 3964.095, 0.0: 3964.095}\n",
      "195834 2044431 -719.0 -634.0 67828.5 {-177.0: 12285.36, -173.0: 12285.36, 85.0: 47251.44}\n",
      "195834 2044431 -719.0 -634.0 67828.5 {-177.0: 12285.36, -173.0: 12285.36, 85.0: 47251.44}\n",
      "197377 1107745 -663.0 -627.0 15156.0 {-25.0: 3246.885, 5.0: 3246.885, 36.0: 6176.52, 0.0: 3246.885, -55.0: 3246.885}\n",
      "221933 2024587 -853.0 -761.0 52092.0 {92.0: 6592.23, -112.0: 6592.23, 45.0: 6592.23, -22.0: 6592.23, 6.0: 6592.23, 0.0: 6592.23}\n",
      "222624 2495732 -761.0 -727.0 52051.5 {-55.0: 9989.19, 34.0: 46090.89}\n",
      "227295 1760753 -1044.0 -995.0 87646.5 {49.0: 74878.155, -130.0: 15487.155}\n",
      "235143 1102621 -2206.0 -1998.0 14836.5 {0.0: 1762.56, -428.0: 1762.56, 208.0: 9169.56, 88.0: 1762.56}\n",
      "256295 1005314 -168.0 -15.0 32823.0 {-250.0: 6145.785, 41.0: 6145.785, 153.0: 6145.785}\n",
      "256787 1467184 -1250.0 -1234.0 30037.5 {-2.0: 3304.125, 0.0: 3304.125, -18.0: 3304.125, 16.0: 3304.125}\n",
      "271413 2057133 -1475.0 -1468.0 62964.0 {0.0: 7656.435, 7.0: 54537.93, -486.0: 7656.435}\n",
      "280714 1463597 -1568.0 -1541.0 29866.5 {0.0: 6089.76, 27.0: 6098.13, 3.0: 6089.76, -64.0: 6089.76, -99.0: 6089.76}\n",
      "280714 1463597 -1568.0 -1541.0 29866.5 {0.0: 6089.76, 27.0: 6098.13, 3.0: 6089.76, -64.0: 6089.76, -99.0: 6089.76}\n",
      "294349 2327516 -2211.0 -2153.0 36936.0 {-92.0: 5784.165, 58.0: 27907.335}\n",
      "296197 1170570 -484.0 -483.0 9000.0 {-28.0: 1810.53, 1.0: 8133.93}\n",
      "316798 1217580 -95.0 -89.0 59022.0 {-24.0: 5957.1, 0.0: 5957.1, 6.0: 5957.1}\n",
      "316835 2458657 -2298.0 -2261.0 25605.0 {0.0: 3415.725, 37.0: 22541.535, -163.0: 3415.725}\n",
      "321143 1555489 -1025.0 -967.0 221031.0 {-178.0: 11301.3, 58.0: 225624.69}\n",
      "329682 1593222 -1286.0 -1188.0 17694.0 {-119.0: 3607.785, 98.0: 10218.42, 34.0: 3607.785, 7.0: 3607.785}\n",
      "350385 1471228 -397.0 -388.0 16560.0 {9.0: 15055.56, -13.0: 3377.25}\n",
      "350736 1931973 -1372.0 -1281.0 30339.0 {43.0: 6186.105, 91.0: 17520.885, -129.0: 6186.105}\n",
      "351763 2821114 -351.0 -344.0 85207.5 {7.0: 82132.065, -10.0: 8810.46}\n",
      "377461 2172791 -817.0 -759.0 221031.0 {-178.0: 11301.3, 58.0: 225624.69}\n",
      "387309 1537157 -904.0 -847.0 24682.5 {27.0: 4361.4, -98.0: 4361.4, 57.0: 4361.4}\n",
      "400480 1000648 -126.0 -100.0 17361.0 {-5.0: 3540.6, 26.0: 3540.6, -35.0: 3540.6, 0.0: 3540.6}\n",
      "408583 1435480 -1381.0 -1210.0 26635.5 {0.0: 5537.52, -178.0: 5537.52, 164.0: 5537.52, 118.0: 5537.52, 11.0: 5537.52, 171.0: 5530.725}\n",
      "416829 1709984 -331.0 -326.0 66280.5 {-1.0: 12041.82, -17.0: 12041.82, 5.0: 46416.6}\n",
      "417143 1915314 -668.0 -667.0 17347.5 {-20.0: 3567.015, 1.0: 15827.58}\n",
      "421693 1154005 -313.0 -261.0 52051.5 {52.0: 45488.97, -56.0: 9755.865}\n",
      "429838 1895650 -77.0 -62.0 23274.0 {-18.0: 6315.345, 15.0: 6315.345}\n",
      "432279 2119766 -1324.0 -1293.0 32818.5 {-136.0: 6691.68, 0.0: 6691.68, 31.0: 18952.83}\n",
      "434437 1460972 -403.0 -375.0 47578.5 {-139.0: 8644.05, 28.0: 8641.17, -4.0: 8644.05, 0.0: 8644.05}\n",
      "434903 2448531 -1961.0 -1944.0 31108.5 {-176.0: 3608.595, 0.0: 3608.595, 17.0: 26455.905}\n",
      "437792 1128954 -491.0 -459.0 30483.0 {-65.0: 7925.895, 32.0: 7925.445, 4.0: 7925.895, 0.0: 7925.895}\n",
      "439196 2802906 -458.0 -433.0 41436.0 {-1.0: 3733.38, 25.0: 35367.48, -29.0: 3733.38}\n",
      "443844 1760463 -786.0 -728.0 221031.0 {58.0: 225624.69, -178.0: 11301.3}\n",
      "447329 1752167 -1942.0 -1582.0 108522.0 {180.0: 11401.335, 150.0: 11401.335, -2979.0: 11401.335, 330.0: 11401.335, 360.0: 11393.505, 120.0: 11401.335, 300.0: 11401.335, 210.0: 11401.335, 270.0: 11401.335, 60.0: 11401.335, 30.0: 11401.335}\n",
      "447651 1331584 -1254.0 -1240.0 14593.5 {0.0: 2921.625, 14.0: 2908.44, -49.0: 2921.625}\n",
      "451845 2797298 -1392.0 -1376.0 195133.5 {-61.0: 18225.45, 0.0: 18225.45, 16.0: 134594.82}\n"
     ]
    }
   ],
   "source": [
    "df_previous_payments_tt = df_previous_payments_t\\\n",
    ".progress_apply(lambda x: get_cf(x.SK_ID_CURR, x.SK_ID_PREV, x.START_DATE, x.END_DATE, x.AMT_CREDIT, x.TMP_EAR_DICT), axis=1)"
   ]
  },
  {
   "cell_type": "code",
   "execution_count": 79,
   "metadata": {},
   "outputs": [],
   "source": [
    "# convert to datafame and join to original dataset using index column\n",
    "df_previous_payments_tt = df_previous_payments_tt.to_frame()\n",
    "df_previous_payments_tt.columns = ['CF']\n",
    "df_previous_payments_tt_j = df_previous_payments_t.join(df_previous_payments_tt, on=None, how='inner')"
   ]
  },
  {
   "cell_type": "code",
   "execution_count": 80,
   "metadata": {},
   "outputs": [
    {
     "data": {
      "text/plain": [
       "(958905, 7)"
      ]
     },
     "execution_count": 80,
     "metadata": {},
     "output_type": "execute_result"
    }
   ],
   "source": [
    "df_previous_payments_tt_j.shape"
   ]
  },
  {
   "cell_type": "code",
   "execution_count": 98,
   "metadata": {},
   "outputs": [],
   "source": [
    "def get_actual_ear(cf):\n",
    "    \"\"\" derives actual EAR based on all payments based on previous application\n",
    "    \"\"\"\n",
    "    n_irr = irr.irr(cf)\n",
    "    try:\n",
    "        ear = (1+n_irr)**360 - 1 # we take 1 year to be 360 days\n",
    "    except Exception as e:\n",
    "        ear = 0\n",
    "    return ear"
   ]
  },
  {
   "cell_type": "code",
   "execution_count": 99,
   "metadata": {},
   "outputs": [
    {
     "data": {
      "application/vnd.jupyter.widget-view+json": {
       "model_id": "345a7d8c0c01485a8bb4503b5e839a90",
       "version_major": 2,
       "version_minor": 0
      },
      "text/plain": [
       "HBox(children=(IntProgress(value=0, max=958905), HTML(value='')))"
      ]
     },
     "metadata": {},
     "output_type": "display_data"
    },
    {
     "name": "stderr",
     "output_type": "stream",
     "text": [
      "IOPub message rate exceeded.\n",
      "The notebook server will temporarily stop sending output\n",
      "to the client in order to avoid crashing it.\n",
      "To change this limit, set the config variable\n",
      "`--NotebookApp.iopub_msg_rate_limit`.\n",
      "\n",
      "Current values:\n",
      "NotebookApp.iopub_msg_rate_limit=1000.0 (msgs/sec)\n",
      "NotebookApp.rate_limit_window=3.0 (secs)\n",
      "\n"
     ]
    }
   ],
   "source": [
    "# derive ear based on cashflow column (took 12 hours)\n",
    "# df_actual_ear = df_previous_payments_tt_j.progress_apply(lambda x: get_actual_ear(x.CF), axis=1)"
   ]
  },
  {
   "cell_type": "code",
   "execution_count": 101,
   "metadata": {},
   "outputs": [
    {
     "data": {
      "text/plain": [
       "(958905, 1)"
      ]
     },
     "execution_count": 101,
     "metadata": {},
     "output_type": "execute_result"
    }
   ],
   "source": [
    "df_final = df_actual_ear.to_frame()\n",
    "df_final.columns = ['ACTUAL_EAR']\n",
    "df_final.shape"
   ]
  },
  {
   "cell_type": "code",
   "execution_count": 102,
   "metadata": {},
   "outputs": [],
   "source": [
    "# join results to main dataset using index column\n",
    "df_final_j = df_previous_payments_tt_j[['SK_ID_CURR','SK_ID_PREV']]\\\n",
    ".join(df_final, on=None, how='inner')"
   ]
  },
  {
   "cell_type": "code",
   "execution_count": 104,
   "metadata": {},
   "outputs": [
    {
     "data": {
      "text/plain": [
       "(958905, 3)"
      ]
     },
     "execution_count": 104,
     "metadata": {},
     "output_type": "execute_result"
    }
   ],
   "source": [
    "df_final_j.shape"
   ]
  },
  {
   "cell_type": "code",
   "execution_count": 105,
   "metadata": {},
   "outputs": [],
   "source": [
    "# aggregate ear at current application level\n",
    "df_final_j = df_final_j.groupby('SK_ID_CURR')['ACTUAL_EAR']\\\n",
    ".agg(['mean','median','std'])\\\n",
    ".rename(columns={'mean':'MEAN_ACTUAL_EAR','median':'MEDIAN_ACTUAL_EAR', 'std':'STD_ACTUAL_EAR'})"
   ]
  },
  {
   "cell_type": "code",
   "execution_count": 107,
   "metadata": {},
   "outputs": [],
   "source": [
    "df_final_j['STD_ACTUAL_EAR'] = df_final_j['STD_ACTUAL_EAR'].fillna(0)"
   ]
  },
  {
   "cell_type": "code",
   "execution_count": 109,
   "metadata": {},
   "outputs": [
    {
     "data": {
      "text/plain": [
       "(336935, 3)"
      ]
     },
     "execution_count": 109,
     "metadata": {},
     "output_type": "execute_result"
    }
   ],
   "source": [
    "df_final_j.shape"
   ]
  },
  {
   "cell_type": "code",
   "execution_count": 110,
   "metadata": {},
   "outputs": [],
   "source": [
    "# joining expected and actual ear\n",
    "df_expected_actual = df_final_j.join(df_expected_ear, on='SK_ID_CURR', how='inner')"
   ]
  },
  {
   "cell_type": "code",
   "execution_count": 114,
   "metadata": {},
   "outputs": [
    {
     "data": {
      "text/plain": [
       "(336935, 6)"
      ]
     },
     "execution_count": 114,
     "metadata": {},
     "output_type": "execute_result"
    }
   ],
   "source": [
    "df_expected_actual.shape"
   ]
  },
  {
   "cell_type": "code",
   "execution_count": 115,
   "metadata": {},
   "outputs": [],
   "source": [
    "# writing both actual and expected ear\n",
    "actual_expected_ear_csv = '/ws_nparigi/01_Work/04_mba/Year2/Block1/valuation/datascience-assignment/home-credit-default-risk/actual_expected_ear.csv'\n",
    "df_expected_actual.to_csv(actual_expected_ear_csv, index=True)"
   ]
  },
  {
   "cell_type": "code",
   "execution_count": 116,
   "metadata": {},
   "outputs": [],
   "source": [
    "# writing only expected ear\n",
    "expected_ear_csv = '/ws_nparigi/01_Work/04_mba/Year2/Block1/valuation/datascience-assignment/home-credit-default-risk/expected_ear.csv'\n",
    "df_expected_ear.to_csv(expected_ear_csv, index=True)\n"
   ]
  },
  {
   "cell_type": "code",
   "execution_count": 117,
   "metadata": {},
   "outputs": [],
   "source": [
    "# writing only actual ear\n",
    "actual_ear_csv = '/ws_nparigi/01_Work/04_mba/Year2/Block1/valuation/datascience-assignment/home-credit-default-risk/actual_ear.csv'\n",
    "df_final_j.to_csv(actual_ear_csv, index=True)\n"
   ]
  },
  {
   "cell_type": "code",
   "execution_count": null,
   "metadata": {},
   "outputs": [],
   "source": []
  }
 ],
 "metadata": {
  "kernelspec": {
   "display_name": "Python 3",
   "language": "python",
   "name": "python3"
  },
  "language_info": {
   "codemirror_mode": {
    "name": "ipython",
    "version": 3
   },
   "file_extension": ".py",
   "mimetype": "text/x-python",
   "name": "python",
   "nbconvert_exporter": "python",
   "pygments_lexer": "ipython3",
   "version": "3.7.3"
  }
 },
 "nbformat": 4,
 "nbformat_minor": 2
}
