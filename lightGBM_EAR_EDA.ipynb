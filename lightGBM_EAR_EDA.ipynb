{
 "cells": [
  {
   "cell_type": "code",
   "execution_count": 666,
   "metadata": {},
   "outputs": [],
   "source": [
    "#EDA for deriving Expected EAR and Actual EAR"
   ]
  },
  {
   "cell_type": "code",
   "execution_count": 4,
   "metadata": {},
   "outputs": [],
   "source": [
    "import pandas as pd\n",
    "import numpy as np\n",
    "from sklearn.preprocessing import MinMaxScaler, LabelEncoder\n",
    "from sklearn.model_selection import train_test_split\n",
    "from sklearn.metrics import accuracy_score, roc_auc_score, confusion_matrix\n",
    "from sklearn.feature_selection import VarianceThreshold\n",
    "import lightgbm as lgb\n",
    "import matplotlib.pyplot as plt\n",
    "import seaborn as sns\n",
    "import warnings\n",
    "import gc\n",
    "from tqdm.auto import tqdm\n",
    "tqdm.pandas()\n",
    "warnings.filterwarnings('ignore')"
   ]
  },
  {
   "cell_type": "markdown",
   "metadata": {},
   "source": [
    "data columns"
   ]
  },
  {
   "cell_type": "code",
   "execution_count": 35,
   "metadata": {},
   "outputs": [],
   "source": [
    "column_info = pd.read_csv('HomeCredit_columns_description.csv', encoding = 'unicode_escape')"
   ]
  },
  {
   "cell_type": "code",
   "execution_count": 37,
   "metadata": {},
   "outputs": [
    {
     "data": {
      "text/html": [
       "<div>\n",
       "<style scoped>\n",
       "    .dataframe tbody tr th:only-of-type {\n",
       "        vertical-align: middle;\n",
       "    }\n",
       "\n",
       "    .dataframe tbody tr th {\n",
       "        vertical-align: top;\n",
       "    }\n",
       "\n",
       "    .dataframe thead th {\n",
       "        text-align: right;\n",
       "    }\n",
       "</style>\n",
       "<table border=\"1\" class=\"dataframe\">\n",
       "  <thead>\n",
       "    <tr style=\"text-align: right;\">\n",
       "      <th></th>\n",
       "      <th>Unnamed: 0</th>\n",
       "      <th>Table</th>\n",
       "      <th>Row</th>\n",
       "      <th>Description</th>\n",
       "      <th>Special</th>\n",
       "    </tr>\n",
       "  </thead>\n",
       "  <tbody>\n",
       "    <tr>\n",
       "      <th>173</th>\n",
       "      <td>176</td>\n",
       "      <td>previous_application.csv</td>\n",
       "      <td>SK_ID_PREV</td>\n",
       "      <td>ID of previous credit in Home credit related t...</td>\n",
       "      <td>hashed</td>\n",
       "    </tr>\n",
       "    <tr>\n",
       "      <th>174</th>\n",
       "      <td>177</td>\n",
       "      <td>previous_application.csv</td>\n",
       "      <td>SK_ID_CURR</td>\n",
       "      <td>ID of loan in our sample</td>\n",
       "      <td>hashed</td>\n",
       "    </tr>\n",
       "    <tr>\n",
       "      <th>175</th>\n",
       "      <td>178</td>\n",
       "      <td>previous_application.csv</td>\n",
       "      <td>NAME_CONTRACT_TYPE</td>\n",
       "      <td>Contract product type (Cash loan, consumer loa...</td>\n",
       "      <td>NaN</td>\n",
       "    </tr>\n",
       "    <tr>\n",
       "      <th>176</th>\n",
       "      <td>179</td>\n",
       "      <td>previous_application.csv</td>\n",
       "      <td>AMT_ANNUITY</td>\n",
       "      <td>Annuity of previous application</td>\n",
       "      <td>NaN</td>\n",
       "    </tr>\n",
       "    <tr>\n",
       "      <th>177</th>\n",
       "      <td>180</td>\n",
       "      <td>previous_application.csv</td>\n",
       "      <td>AMT_APPLICATION</td>\n",
       "      <td>For how much credit did client ask on the prev...</td>\n",
       "      <td>NaN</td>\n",
       "    </tr>\n",
       "  </tbody>\n",
       "</table>\n",
       "</div>"
      ],
      "text/plain": [
       "     Unnamed: 0                     Table                 Row  \\\n",
       "173         176  previous_application.csv         SK_ID_PREV    \n",
       "174         177  previous_application.csv          SK_ID_CURR   \n",
       "175         178  previous_application.csv  NAME_CONTRACT_TYPE   \n",
       "176         179  previous_application.csv         AMT_ANNUITY   \n",
       "177         180  previous_application.csv     AMT_APPLICATION   \n",
       "\n",
       "                                           Description Special  \n",
       "173  ID of previous credit in Home credit related t...  hashed  \n",
       "174                           ID of loan in our sample  hashed  \n",
       "175  Contract product type (Cash loan, consumer loa...     NaN  \n",
       "176                    Annuity of previous application     NaN  \n",
       "177  For how much credit did client ask on the prev...     NaN  "
      ]
     },
     "execution_count": 37,
     "metadata": {},
     "output_type": "execute_result"
    }
   ],
   "source": [
    "column_info[column_info['Table'] == 'previous_application.csv'].head(5)"
   ]
  },
  {
   "cell_type": "code",
   "execution_count": 600,
   "metadata": {},
   "outputs": [],
   "source": [
    "import pandas as pd\n",
    "import numpy as np"
   ]
  },
  {
   "cell_type": "code",
   "execution_count": 601,
   "metadata": {},
   "outputs": [],
   "source": [
    "payments_file = 'installments_payments.csv'\n",
    "previous_file = 'previous_application.csv'\n",
    "df_payments = pd.read_csv(payments_file)\n",
    "df_previous = pd.read_csv(previous_file)"
   ]
  },
  {
   "cell_type": "code",
   "execution_count": 602,
   "metadata": {},
   "outputs": [
    {
     "data": {
      "text/plain": [
       "((1670214, 37), (13605401, 8))"
      ]
     },
     "execution_count": 602,
     "metadata": {},
     "output_type": "execute_result"
    }
   ],
   "source": [
    "(df_previous.shape, df_payments.shape)"
   ]
  },
  {
   "cell_type": "code",
   "execution_count": 603,
   "metadata": {},
   "outputs": [],
   "source": [
    "df_previous_filtered = df_previous[['SK_ID_CURR','SK_ID_PREV','AMT_ANNUITY','AMT_CREDIT','CNT_PAYMENT']]\n",
    "#[df_previous['SK_ID_CURR'] == 100042]"
   ]
  },
  {
   "cell_type": "code",
   "execution_count": 604,
   "metadata": {},
   "outputs": [
    {
     "data": {
      "text/plain": [
       "(1670214, 5)"
      ]
     },
     "execution_count": 604,
     "metadata": {},
     "output_type": "execute_result"
    }
   ],
   "source": [
    "df_previous_filtered.shape"
   ]
  },
  {
   "cell_type": "code",
   "execution_count": 605,
   "metadata": {},
   "outputs": [],
   "source": [
    "#df_previous_filtered[['AMT_ANNUITY','AMT_CREDIT','CNT_PAYMENT']]"
   ]
  },
  {
   "cell_type": "code",
   "execution_count": 606,
   "metadata": {},
   "outputs": [
    {
     "data": {
      "text/plain": [
       "128"
      ]
     },
     "execution_count": 606,
     "metadata": {},
     "output_type": "execute_result"
    }
   ],
   "source": [
    "del df_previous\n",
    "gc.collect()"
   ]
  },
  {
   "cell_type": "code",
   "execution_count": 607,
   "metadata": {},
   "outputs": [],
   "source": [
    "df_previous_filtered['AMT_ANNUITY'] = df_previous_filtered['AMT_ANNUITY'].fillna(0)\n",
    "df_previous_filtered['AMT_CREDIT'] = df_previous_filtered['AMT_CREDIT'].fillna(0)\n",
    "df_previous_filtered['CNT_PAYMENT'] = df_previous_filtered['CNT_PAYMENT'].fillna(0)"
   ]
  },
  {
   "cell_type": "code",
   "execution_count": 608,
   "metadata": {},
   "outputs": [],
   "source": [
    "def get_ear(annuity, credit, no_of_payments):\n",
    "    \"\"\" derives ear and returns\n",
    "    \"\"\"\n",
    "    PMT = [-credit]\n",
    "    PMT = PMT + ([annuity] * int(no_of_payments))\n",
    "    irr = np.irr(PMT)\n",
    "    \n",
    "    return (1+irr)**12 - 1"
   ]
  },
  {
   "cell_type": "code",
   "execution_count": 609,
   "metadata": {},
   "outputs": [
    {
     "data": {
      "application/vnd.jupyter.widget-view+json": {
       "model_id": "8f408731aff340c5be217bc8d12722cd",
       "version_major": 2,
       "version_minor": 0
      },
      "text/plain": [
       "HBox(children=(IntProgress(value=0, max=1670214), HTML(value='')))"
      ]
     },
     "metadata": {},
     "output_type": "display_data"
    }
   ],
   "source": [
    "df_previous_filtered['EXPECTED_EAR'] = df_previous_filtered\\\n",
    ".progress_apply(lambda x: get_ear(x.AMT_ANNUITY, x.AMT_CREDIT, x.CNT_PAYMENT), axis=1)"
   ]
  },
  {
   "cell_type": "code",
   "execution_count": 610,
   "metadata": {},
   "outputs": [],
   "source": [
    "df_previous_filtered['EXPECTED_EAR'] = df_previous_filtered['EXPECTED_EAR'].fillna(0)"
   ]
  },
  {
   "cell_type": "code",
   "execution_count": 611,
   "metadata": {},
   "outputs": [],
   "source": [
    "#df_previous_filtered[df_previous_filtered['EXPECTED_EAR'].isnull()]"
   ]
  },
  {
   "cell_type": "code",
   "execution_count": 612,
   "metadata": {},
   "outputs": [],
   "source": [
    "df_expected_ear = df_previous_filtered.groupby('SK_ID_CURR')['EXPECTED_EAR']\\\n",
    ".agg(['mean','median','std'])\\\n",
    ".rename(columns={'mean':'MEAN_EXPECTED_EAR','median':'MEDIAN_EXPECTED_EAR', 'std':'STD_EXPECTED_EAR'})"
   ]
  },
  {
   "cell_type": "code",
   "execution_count": 613,
   "metadata": {},
   "outputs": [],
   "source": [
    "#del df_previous_filtered\n",
    "#gc.collect()"
   ]
  },
  {
   "cell_type": "code",
   "execution_count": 614,
   "metadata": {},
   "outputs": [
    {
     "data": {
      "text/html": [
       "<div>\n",
       "<style scoped>\n",
       "    .dataframe tbody tr th:only-of-type {\n",
       "        vertical-align: middle;\n",
       "    }\n",
       "\n",
       "    .dataframe tbody tr th {\n",
       "        vertical-align: top;\n",
       "    }\n",
       "\n",
       "    .dataframe thead th {\n",
       "        text-align: right;\n",
       "    }\n",
       "</style>\n",
       "<table border=\"1\" class=\"dataframe\">\n",
       "  <thead>\n",
       "    <tr style=\"text-align: right;\">\n",
       "      <th></th>\n",
       "      <th>MEAN_EXPECTED_EAR</th>\n",
       "      <th>MEDIAN_EXPECTED_EAR</th>\n",
       "      <th>STD_EXPECTED_EAR</th>\n",
       "    </tr>\n",
       "    <tr>\n",
       "      <th>SK_ID_CURR</th>\n",
       "      <th></th>\n",
       "      <th></th>\n",
       "      <th></th>\n",
       "    </tr>\n",
       "  </thead>\n",
       "  <tbody>\n",
       "    <tr>\n",
       "      <th>100001</th>\n",
       "      <td>1.199400</td>\n",
       "      <td>1.199400</td>\n",
       "      <td>NaN</td>\n",
       "    </tr>\n",
       "    <tr>\n",
       "      <th>100002</th>\n",
       "      <td>0.238453</td>\n",
       "      <td>0.238453</td>\n",
       "      <td>NaN</td>\n",
       "    </tr>\n",
       "    <tr>\n",
       "      <th>100003</th>\n",
       "      <td>0.368710</td>\n",
       "      <td>0.385640</td>\n",
       "      <td>0.083249</td>\n",
       "    </tr>\n",
       "    <tr>\n",
       "      <th>100004</th>\n",
       "      <td>0.360515</td>\n",
       "      <td>0.360515</td>\n",
       "      <td>NaN</td>\n",
       "    </tr>\n",
       "    <tr>\n",
       "      <th>100005</th>\n",
       "      <td>0.516463</td>\n",
       "      <td>0.516463</td>\n",
       "      <td>0.730389</td>\n",
       "    </tr>\n",
       "    <tr>\n",
       "      <th>100006</th>\n",
       "      <td>0.282858</td>\n",
       "      <td>0.342949</td>\n",
       "      <td>0.294920</td>\n",
       "    </tr>\n",
       "  </tbody>\n",
       "</table>\n",
       "</div>"
      ],
      "text/plain": [
       "            MEAN_EXPECTED_EAR  MEDIAN_EXPECTED_EAR  STD_EXPECTED_EAR\n",
       "SK_ID_CURR                                                          \n",
       "100001               1.199400             1.199400               NaN\n",
       "100002               0.238453             0.238453               NaN\n",
       "100003               0.368710             0.385640          0.083249\n",
       "100004               0.360515             0.360515               NaN\n",
       "100005               0.516463             0.516463          0.730389\n",
       "100006               0.282858             0.342949          0.294920"
      ]
     },
     "execution_count": 614,
     "metadata": {},
     "output_type": "execute_result"
    }
   ],
   "source": [
    "df_expected_ear.head(6)"
   ]
  },
  {
   "cell_type": "code",
   "execution_count": 620,
   "metadata": {},
   "outputs": [],
   "source": [
    "df_expected_ear['MEAN_EXPECTED_EAR'] = df_expected_ear['MEAN_EXPECTED_EAR'].fillna(0)\n",
    "df_expected_ear['MEDIAN_EXPECTED_EAR'] = df_expected_ear['MEDIAN_EXPECTED_EAR'].fillna(0)\n",
    "df_expected_ear['STD_EXPECTED_EAR'] = df_expected_ear['STD_EXPECTED_EAR'].fillna(0)"
   ]
  },
  {
   "cell_type": "code",
   "execution_count": 621,
   "metadata": {},
   "outputs": [],
   "source": [
    "#df_previous_payments = df_previous.merge(df_payments, on='SK_ID_CURR', how='inner')"
   ]
  },
  {
   "cell_type": "code",
   "execution_count": 622,
   "metadata": {},
   "outputs": [],
   "source": [
    "#df_previous_payments.shape"
   ]
  },
  {
   "cell_type": "code",
   "execution_count": 623,
   "metadata": {},
   "outputs": [],
   "source": [
    "#df_previous_10 = df_previous[df_previous['SK_ID_PREV'] == 2604725]"
   ]
  },
  {
   "cell_type": "code",
   "execution_count": 624,
   "metadata": {},
   "outputs": [],
   "source": [
    "df_payments_filtered = df_payments[['SK_ID_PREV','DAYS_INSTALMENT','DAYS_ENTRY_PAYMENT','AMT_INSTALMENT']][df_payments['SK_ID_PREV'].isin(df_previous_filtered['SK_ID_PREV'].tolist())]\n",
    "#df_payments_filtered = df_payments[['SK_ID_PREV','DAYS_INSTALMENT','DAYS_ENTRY_PAYMENT','AMT_INSTALMENT']][df_payments['SK_ID_PREV'].isin(['1125423'])]"
   ]
  },
  {
   "cell_type": "code",
   "execution_count": 625,
   "metadata": {},
   "outputs": [
    {
     "data": {
      "text/plain": [
       "(12354575, 4)"
      ]
     },
     "execution_count": 625,
     "metadata": {},
     "output_type": "execute_result"
    }
   ],
   "source": [
    "df_payments_filtered.shape"
   ]
  },
  {
   "cell_type": "code",
   "execution_count": 626,
   "metadata": {},
   "outputs": [],
   "source": [
    "df_previous_payments = df_payments_filtered.merge(df_previous_filtered[['SK_ID_CURR','SK_ID_PREV','EXPECTED_EAR','AMT_CREDIT']], on='SK_ID_PREV', how='inner')"
   ]
  },
  {
   "cell_type": "code",
   "execution_count": 627,
   "metadata": {},
   "outputs": [
    {
     "data": {
      "text/plain": [
       "(12354575, 7)"
      ]
     },
     "execution_count": 627,
     "metadata": {},
     "output_type": "execute_result"
    }
   ],
   "source": [
    "df_previous_payments.shape"
   ]
  },
  {
   "cell_type": "code",
   "execution_count": 628,
   "metadata": {},
   "outputs": [],
   "source": [
    "df_previous_payments['AMT_CREDIT'] = df_previous_payments['AMT_CREDIT'].fillna(0)\n",
    "df_previous_payments['DAYS_INSTALMENT'] = df_previous_payments['DAYS_INSTALMENT'].fillna(0)\n",
    "df_previous_payments['DAYS_ENTRY_PAYMENT'] = df_previous_payments['DAYS_ENTRY_PAYMENT'].fillna(0)\n",
    "df_previous_payments['AMT_INSTALMENT'] = df_previous_payments['AMT_INSTALMENT'].fillna(0)"
   ]
  },
  {
   "cell_type": "code",
   "execution_count": 629,
   "metadata": {},
   "outputs": [],
   "source": [
    "df_previous_payments = df_previous_payments\\\n",
    ".join((df_previous_payments.groupby('SK_ID_PREV')['DAYS_INSTALMENT']\\\n",
    ".agg(['min'])-30).rename(columns={'min':'START_DATE'}), on='SK_ID_PREV')"
   ]
  },
  {
   "cell_type": "code",
   "execution_count": 630,
   "metadata": {},
   "outputs": [],
   "source": [
    "df_previous_payments = df_previous_payments\\\n",
    ".join(df_previous_payments.groupby('SK_ID_PREV')['DAYS_ENTRY_PAYMENT']\\\n",
    ".agg(['max']).rename(columns={'max':'END_DATE'}), on='SK_ID_PREV')"
   ]
  },
  {
   "cell_type": "code",
   "execution_count": 631,
   "metadata": {},
   "outputs": [],
   "source": [
    "df_previous_payments['INDEX'] = df_previous_payments['DAYS_ENTRY_PAYMENT'] - df_previous_payments['START_DATE']"
   ]
  },
  {
   "cell_type": "code",
   "execution_count": 632,
   "metadata": {},
   "outputs": [
    {
     "data": {
      "text/html": [
       "<div>\n",
       "<style scoped>\n",
       "    .dataframe tbody tr th:only-of-type {\n",
       "        vertical-align: middle;\n",
       "    }\n",
       "\n",
       "    .dataframe tbody tr th {\n",
       "        vertical-align: top;\n",
       "    }\n",
       "\n",
       "    .dataframe thead th {\n",
       "        text-align: right;\n",
       "    }\n",
       "</style>\n",
       "<table border=\"1\" class=\"dataframe\">\n",
       "  <thead>\n",
       "    <tr style=\"text-align: right;\">\n",
       "      <th></th>\n",
       "      <th>SK_ID_PREV</th>\n",
       "      <th>DAYS_INSTALMENT</th>\n",
       "      <th>DAYS_ENTRY_PAYMENT</th>\n",
       "      <th>AMT_INSTALMENT</th>\n",
       "      <th>SK_ID_CURR</th>\n",
       "      <th>EXPECTED_EAR</th>\n",
       "      <th>AMT_CREDIT</th>\n",
       "      <th>START_DATE</th>\n",
       "      <th>END_DATE</th>\n",
       "      <th>INDEX</th>\n",
       "    </tr>\n",
       "  </thead>\n",
       "  <tbody>\n",
       "    <tr>\n",
       "      <th>1459036</th>\n",
       "      <td>2604725</td>\n",
       "      <td>-1094.0</td>\n",
       "      <td>-1126.0</td>\n",
       "      <td>38934.18</td>\n",
       "      <td>100042</td>\n",
       "      <td>0.281528</td>\n",
       "      <td>978408.0</td>\n",
       "      <td>-1244.0</td>\n",
       "      <td>-740.0</td>\n",
       "      <td>118.0</td>\n",
       "    </tr>\n",
       "    <tr>\n",
       "      <th>1459037</th>\n",
       "      <td>2604725</td>\n",
       "      <td>-764.0</td>\n",
       "      <td>-763.0</td>\n",
       "      <td>38934.18</td>\n",
       "      <td>100042</td>\n",
       "      <td>0.281528</td>\n",
       "      <td>978408.0</td>\n",
       "      <td>-1244.0</td>\n",
       "      <td>-740.0</td>\n",
       "      <td>481.0</td>\n",
       "    </tr>\n",
       "    <tr>\n",
       "      <th>1459038</th>\n",
       "      <td>2604725</td>\n",
       "      <td>-914.0</td>\n",
       "      <td>-945.0</td>\n",
       "      <td>38934.18</td>\n",
       "      <td>100042</td>\n",
       "      <td>0.281528</td>\n",
       "      <td>978408.0</td>\n",
       "      <td>-1244.0</td>\n",
       "      <td>-740.0</td>\n",
       "      <td>299.0</td>\n",
       "    </tr>\n",
       "    <tr>\n",
       "      <th>1459039</th>\n",
       "      <td>2604725</td>\n",
       "      <td>-1064.0</td>\n",
       "      <td>-1064.0</td>\n",
       "      <td>38934.18</td>\n",
       "      <td>100042</td>\n",
       "      <td>0.281528</td>\n",
       "      <td>978408.0</td>\n",
       "      <td>-1244.0</td>\n",
       "      <td>-740.0</td>\n",
       "      <td>180.0</td>\n",
       "    </tr>\n",
       "    <tr>\n",
       "      <th>1459040</th>\n",
       "      <td>2604725</td>\n",
       "      <td>-1184.0</td>\n",
       "      <td>-1185.0</td>\n",
       "      <td>38934.18</td>\n",
       "      <td>100042</td>\n",
       "      <td>0.281528</td>\n",
       "      <td>978408.0</td>\n",
       "      <td>-1244.0</td>\n",
       "      <td>-740.0</td>\n",
       "      <td>59.0</td>\n",
       "    </tr>\n",
       "    <tr>\n",
       "      <th>1459041</th>\n",
       "      <td>2604725</td>\n",
       "      <td>-734.0</td>\n",
       "      <td>-740.0</td>\n",
       "      <td>642481.83</td>\n",
       "      <td>100042</td>\n",
       "      <td>0.281528</td>\n",
       "      <td>978408.0</td>\n",
       "      <td>-1244.0</td>\n",
       "      <td>-740.0</td>\n",
       "      <td>504.0</td>\n",
       "    </tr>\n",
       "    <tr>\n",
       "      <th>1459042</th>\n",
       "      <td>2604725</td>\n",
       "      <td>-1154.0</td>\n",
       "      <td>-1155.0</td>\n",
       "      <td>38934.18</td>\n",
       "      <td>100042</td>\n",
       "      <td>0.281528</td>\n",
       "      <td>978408.0</td>\n",
       "      <td>-1244.0</td>\n",
       "      <td>-740.0</td>\n",
       "      <td>89.0</td>\n",
       "    </tr>\n",
       "    <tr>\n",
       "      <th>1459043</th>\n",
       "      <td>2604725</td>\n",
       "      <td>-824.0</td>\n",
       "      <td>-854.0</td>\n",
       "      <td>38934.18</td>\n",
       "      <td>100042</td>\n",
       "      <td>0.281528</td>\n",
       "      <td>978408.0</td>\n",
       "      <td>-1244.0</td>\n",
       "      <td>-740.0</td>\n",
       "      <td>390.0</td>\n",
       "    </tr>\n",
       "    <tr>\n",
       "      <th>1459044</th>\n",
       "      <td>2604725</td>\n",
       "      <td>-794.0</td>\n",
       "      <td>-822.0</td>\n",
       "      <td>38934.18</td>\n",
       "      <td>100042</td>\n",
       "      <td>0.281528</td>\n",
       "      <td>978408.0</td>\n",
       "      <td>-1244.0</td>\n",
       "      <td>-740.0</td>\n",
       "      <td>422.0</td>\n",
       "    </tr>\n",
       "    <tr>\n",
       "      <th>1459045</th>\n",
       "      <td>2604725</td>\n",
       "      <td>-1094.0</td>\n",
       "      <td>-1092.0</td>\n",
       "      <td>38934.18</td>\n",
       "      <td>100042</td>\n",
       "      <td>0.281528</td>\n",
       "      <td>978408.0</td>\n",
       "      <td>-1244.0</td>\n",
       "      <td>-740.0</td>\n",
       "      <td>152.0</td>\n",
       "    </tr>\n",
       "    <tr>\n",
       "      <th>1459046</th>\n",
       "      <td>2604725</td>\n",
       "      <td>-1124.0</td>\n",
       "      <td>-1126.0</td>\n",
       "      <td>38934.18</td>\n",
       "      <td>100042</td>\n",
       "      <td>0.281528</td>\n",
       "      <td>978408.0</td>\n",
       "      <td>-1244.0</td>\n",
       "      <td>-740.0</td>\n",
       "      <td>118.0</td>\n",
       "    </tr>\n",
       "    <tr>\n",
       "      <th>1459047</th>\n",
       "      <td>2604725</td>\n",
       "      <td>-854.0</td>\n",
       "      <td>-885.0</td>\n",
       "      <td>38934.18</td>\n",
       "      <td>100042</td>\n",
       "      <td>0.281528</td>\n",
       "      <td>978408.0</td>\n",
       "      <td>-1244.0</td>\n",
       "      <td>-740.0</td>\n",
       "      <td>359.0</td>\n",
       "    </tr>\n",
       "    <tr>\n",
       "      <th>1459048</th>\n",
       "      <td>2604725</td>\n",
       "      <td>-974.0</td>\n",
       "      <td>-977.0</td>\n",
       "      <td>38934.18</td>\n",
       "      <td>100042</td>\n",
       "      <td>0.281528</td>\n",
       "      <td>978408.0</td>\n",
       "      <td>-1244.0</td>\n",
       "      <td>-740.0</td>\n",
       "      <td>267.0</td>\n",
       "    </tr>\n",
       "    <tr>\n",
       "      <th>1459049</th>\n",
       "      <td>2604725</td>\n",
       "      <td>-1034.0</td>\n",
       "      <td>-1034.0</td>\n",
       "      <td>38934.18</td>\n",
       "      <td>100042</td>\n",
       "      <td>0.281528</td>\n",
       "      <td>978408.0</td>\n",
       "      <td>-1244.0</td>\n",
       "      <td>-740.0</td>\n",
       "      <td>210.0</td>\n",
       "    </tr>\n",
       "    <tr>\n",
       "      <th>1459050</th>\n",
       "      <td>2604725</td>\n",
       "      <td>-1004.0</td>\n",
       "      <td>-1005.0</td>\n",
       "      <td>38934.18</td>\n",
       "      <td>100042</td>\n",
       "      <td>0.281528</td>\n",
       "      <td>978408.0</td>\n",
       "      <td>-1244.0</td>\n",
       "      <td>-740.0</td>\n",
       "      <td>239.0</td>\n",
       "    </tr>\n",
       "    <tr>\n",
       "      <th>1459051</th>\n",
       "      <td>2604725</td>\n",
       "      <td>-1214.0</td>\n",
       "      <td>-1218.0</td>\n",
       "      <td>38934.18</td>\n",
       "      <td>100042</td>\n",
       "      <td>0.281528</td>\n",
       "      <td>978408.0</td>\n",
       "      <td>-1244.0</td>\n",
       "      <td>-740.0</td>\n",
       "      <td>26.0</td>\n",
       "    </tr>\n",
       "    <tr>\n",
       "      <th>1459052</th>\n",
       "      <td>2604725</td>\n",
       "      <td>-884.0</td>\n",
       "      <td>-914.0</td>\n",
       "      <td>38934.18</td>\n",
       "      <td>100042</td>\n",
       "      <td>0.281528</td>\n",
       "      <td>978408.0</td>\n",
       "      <td>-1244.0</td>\n",
       "      <td>-740.0</td>\n",
       "      <td>330.0</td>\n",
       "    </tr>\n",
       "    <tr>\n",
       "      <th>1459053</th>\n",
       "      <td>2604725</td>\n",
       "      <td>-944.0</td>\n",
       "      <td>-963.0</td>\n",
       "      <td>38934.18</td>\n",
       "      <td>100042</td>\n",
       "      <td>0.281528</td>\n",
       "      <td>978408.0</td>\n",
       "      <td>-1244.0</td>\n",
       "      <td>-740.0</td>\n",
       "      <td>281.0</td>\n",
       "    </tr>\n",
       "  </tbody>\n",
       "</table>\n",
       "</div>"
      ],
      "text/plain": [
       "         SK_ID_PREV  DAYS_INSTALMENT  DAYS_ENTRY_PAYMENT  AMT_INSTALMENT  \\\n",
       "1459036     2604725          -1094.0             -1126.0        38934.18   \n",
       "1459037     2604725           -764.0              -763.0        38934.18   \n",
       "1459038     2604725           -914.0              -945.0        38934.18   \n",
       "1459039     2604725          -1064.0             -1064.0        38934.18   \n",
       "1459040     2604725          -1184.0             -1185.0        38934.18   \n",
       "1459041     2604725           -734.0              -740.0       642481.83   \n",
       "1459042     2604725          -1154.0             -1155.0        38934.18   \n",
       "1459043     2604725           -824.0              -854.0        38934.18   \n",
       "1459044     2604725           -794.0              -822.0        38934.18   \n",
       "1459045     2604725          -1094.0             -1092.0        38934.18   \n",
       "1459046     2604725          -1124.0             -1126.0        38934.18   \n",
       "1459047     2604725           -854.0              -885.0        38934.18   \n",
       "1459048     2604725           -974.0              -977.0        38934.18   \n",
       "1459049     2604725          -1034.0             -1034.0        38934.18   \n",
       "1459050     2604725          -1004.0             -1005.0        38934.18   \n",
       "1459051     2604725          -1214.0             -1218.0        38934.18   \n",
       "1459052     2604725           -884.0              -914.0        38934.18   \n",
       "1459053     2604725           -944.0              -963.0        38934.18   \n",
       "\n",
       "         SK_ID_CURR  EXPECTED_EAR  AMT_CREDIT  START_DATE  END_DATE  INDEX  \n",
       "1459036      100042      0.281528    978408.0     -1244.0    -740.0  118.0  \n",
       "1459037      100042      0.281528    978408.0     -1244.0    -740.0  481.0  \n",
       "1459038      100042      0.281528    978408.0     -1244.0    -740.0  299.0  \n",
       "1459039      100042      0.281528    978408.0     -1244.0    -740.0  180.0  \n",
       "1459040      100042      0.281528    978408.0     -1244.0    -740.0   59.0  \n",
       "1459041      100042      0.281528    978408.0     -1244.0    -740.0  504.0  \n",
       "1459042      100042      0.281528    978408.0     -1244.0    -740.0   89.0  \n",
       "1459043      100042      0.281528    978408.0     -1244.0    -740.0  390.0  \n",
       "1459044      100042      0.281528    978408.0     -1244.0    -740.0  422.0  \n",
       "1459045      100042      0.281528    978408.0     -1244.0    -740.0  152.0  \n",
       "1459046      100042      0.281528    978408.0     -1244.0    -740.0  118.0  \n",
       "1459047      100042      0.281528    978408.0     -1244.0    -740.0  359.0  \n",
       "1459048      100042      0.281528    978408.0     -1244.0    -740.0  267.0  \n",
       "1459049      100042      0.281528    978408.0     -1244.0    -740.0  210.0  \n",
       "1459050      100042      0.281528    978408.0     -1244.0    -740.0  239.0  \n",
       "1459051      100042      0.281528    978408.0     -1244.0    -740.0   26.0  \n",
       "1459052      100042      0.281528    978408.0     -1244.0    -740.0  330.0  \n",
       "1459053      100042      0.281528    978408.0     -1244.0    -740.0  281.0  "
      ]
     },
     "execution_count": 632,
     "metadata": {},
     "output_type": "execute_result"
    }
   ],
   "source": [
    "df_previous_payments[df_previous_payments['SK_ID_PREV'] == 2604725]"
   ]
  },
  {
   "cell_type": "code",
   "execution_count": 633,
   "metadata": {},
   "outputs": [],
   "source": [
    "def get_dict(df):\n",
    "    keys = df['INDEX'].tolist()\n",
    "    values = df['AMT_INSTALMENT'].tolist()\n",
    "    dictionary = dict(zip(keys, values))\n",
    "    \n",
    "    return dictionary"
   ]
  },
  {
   "cell_type": "code",
   "execution_count": 634,
   "metadata": {},
   "outputs": [
    {
     "data": {
      "application/vnd.jupyter.widget-view+json": {
       "model_id": "83e1756809b144c8b2587035badcc696",
       "version_major": 2,
       "version_minor": 0
      },
      "text/plain": [
       "HBox(children=(IntProgress(value=0, max=958905), HTML(value='')))"
      ]
     },
     "metadata": {},
     "output_type": "display_data"
    }
   ],
   "source": [
    "df_previous_payments_t = df_previous_payments.groupby(['SK_ID_CURR','SK_ID_PREV','START_DATE','END_DATE', 'AMT_CREDIT'])\\\n",
    ".progress_apply(lambda x: get_dict(x))"
   ]
  },
  {
   "cell_type": "code",
   "execution_count": 635,
   "metadata": {},
   "outputs": [],
   "source": [
    "df_previous_payments_t = df_previous_payments_t.reset_index()"
   ]
  },
  {
   "cell_type": "code",
   "execution_count": 636,
   "metadata": {},
   "outputs": [],
   "source": [
    "df_previous_payments_t.columns = ['SK_ID_CURR','SK_ID_PREV','START_DATE','END_DATE','AMT_CREDIT', 'TMP_EAR_DICT']"
   ]
  },
  {
   "cell_type": "code",
   "execution_count": 638,
   "metadata": {},
   "outputs": [
    {
     "data": {
      "text/html": [
       "<div>\n",
       "<style scoped>\n",
       "    .dataframe tbody tr th:only-of-type {\n",
       "        vertical-align: middle;\n",
       "    }\n",
       "\n",
       "    .dataframe tbody tr th {\n",
       "        vertical-align: top;\n",
       "    }\n",
       "\n",
       "    .dataframe thead th {\n",
       "        text-align: right;\n",
       "    }\n",
       "</style>\n",
       "<table border=\"1\" class=\"dataframe\">\n",
       "  <thead>\n",
       "    <tr style=\"text-align: right;\">\n",
       "      <th></th>\n",
       "      <th>SK_ID_CURR</th>\n",
       "      <th>SK_ID_PREV</th>\n",
       "      <th>START_DATE</th>\n",
       "      <th>END_DATE</th>\n",
       "      <th>AMT_CREDIT</th>\n",
       "      <th>TMP_EAR_DICT</th>\n",
       "    </tr>\n",
       "  </thead>\n",
       "  <tbody>\n",
       "    <tr>\n",
       "      <th>0</th>\n",
       "      <td>100001</td>\n",
       "      <td>1369693</td>\n",
       "      <td>-1739.0</td>\n",
       "      <td>-1628.0</td>\n",
       "      <td>23787.0</td>\n",
       "      <td>{24.0: 3951.0, 111.0: 17397.9, 79.0: 3951.0}</td>\n",
       "    </tr>\n",
       "    <tr>\n",
       "      <th>1</th>\n",
       "      <td>100002</td>\n",
       "      <td>1038818</td>\n",
       "      <td>-595.0</td>\n",
       "      <td>-49.0</td>\n",
       "      <td>179055.0</td>\n",
       "      <td>{462.0: 9251.775, 220.0: 9251.775, 546.0: 5309...</td>\n",
       "    </tr>\n",
       "    <tr>\n",
       "      <th>2</th>\n",
       "      <td>100003</td>\n",
       "      <td>1810518</td>\n",
       "      <td>-746.0</td>\n",
       "      <td>-544.0</td>\n",
       "      <td>1035882.0</td>\n",
       "      <td>{56.0: 98356.995, 85.0: 98356.995, 202.0: 5608...</td>\n",
       "    </tr>\n",
       "    <tr>\n",
       "      <th>3</th>\n",
       "      <td>100003</td>\n",
       "      <td>2396755</td>\n",
       "      <td>-2340.0</td>\n",
       "      <td>-1985.0</td>\n",
       "      <td>68053.5</td>\n",
       "      <td>{114.0: 6737.31, 269.0: 6737.31, 141.0: 6737.3...</td>\n",
       "    </tr>\n",
       "    <tr>\n",
       "      <th>4</th>\n",
       "      <td>100003</td>\n",
       "      <td>2636178</td>\n",
       "      <td>-827.0</td>\n",
       "      <td>-661.0</td>\n",
       "      <td>348637.5</td>\n",
       "      <td>{137.0: 64567.665, 21.0: 64567.665, 108.0: 645...</td>\n",
       "    </tr>\n",
       "  </tbody>\n",
       "</table>\n",
       "</div>"
      ],
      "text/plain": [
       "   SK_ID_CURR  SK_ID_PREV  START_DATE  END_DATE  AMT_CREDIT  \\\n",
       "0      100001     1369693     -1739.0   -1628.0     23787.0   \n",
       "1      100002     1038818      -595.0     -49.0    179055.0   \n",
       "2      100003     1810518      -746.0    -544.0   1035882.0   \n",
       "3      100003     2396755     -2340.0   -1985.0     68053.5   \n",
       "4      100003     2636178      -827.0    -661.0    348637.5   \n",
       "\n",
       "                                        TMP_EAR_DICT  \n",
       "0       {24.0: 3951.0, 111.0: 17397.9, 79.0: 3951.0}  \n",
       "1  {462.0: 9251.775, 220.0: 9251.775, 546.0: 5309...  \n",
       "2  {56.0: 98356.995, 85.0: 98356.995, 202.0: 5608...  \n",
       "3  {114.0: 6737.31, 269.0: 6737.31, 141.0: 6737.3...  \n",
       "4  {137.0: 64567.665, 21.0: 64567.665, 108.0: 645...  "
      ]
     },
     "execution_count": 638,
     "metadata": {},
     "output_type": "execute_result"
    }
   ],
   "source": [
    "df_previous_payments_t.head(5)"
   ]
  },
  {
   "cell_type": "code",
   "execution_count": 639,
   "metadata": {},
   "outputs": [
    {
     "data": {
      "text/plain": [
       "(958905, 6)"
      ]
     },
     "execution_count": 639,
     "metadata": {},
     "output_type": "execute_result"
    }
   ],
   "source": [
    "df_previous_payments_t.shape"
   ]
  },
  {
   "cell_type": "code",
   "execution_count": 647,
   "metadata": {},
   "outputs": [
    {
     "data": {
      "text/html": [
       "<div>\n",
       "<style scoped>\n",
       "    .dataframe tbody tr th:only-of-type {\n",
       "        vertical-align: middle;\n",
       "    }\n",
       "\n",
       "    .dataframe tbody tr th {\n",
       "        vertical-align: top;\n",
       "    }\n",
       "\n",
       "    .dataframe thead th {\n",
       "        text-align: right;\n",
       "    }\n",
       "</style>\n",
       "<table border=\"1\" class=\"dataframe\">\n",
       "  <thead>\n",
       "    <tr style=\"text-align: right;\">\n",
       "      <th></th>\n",
       "      <th>SK_ID_CURR</th>\n",
       "      <th>SK_ID_PREV</th>\n",
       "      <th>START_DATE</th>\n",
       "      <th>END_DATE</th>\n",
       "      <th>AMT_CREDIT</th>\n",
       "      <th>TMP_EAR_DICT</th>\n",
       "    </tr>\n",
       "  </thead>\n",
       "  <tbody>\n",
       "    <tr>\n",
       "      <th>0</th>\n",
       "      <td>100001</td>\n",
       "      <td>1369693</td>\n",
       "      <td>-1739.0</td>\n",
       "      <td>-1628.0</td>\n",
       "      <td>23787.0</td>\n",
       "      <td>{24.0: 3951.0, 111.0: 17397.9, 79.0: 3951.0}</td>\n",
       "    </tr>\n",
       "    <tr>\n",
       "      <th>1</th>\n",
       "      <td>100002</td>\n",
       "      <td>1038818</td>\n",
       "      <td>-595.0</td>\n",
       "      <td>-49.0</td>\n",
       "      <td>179055.0</td>\n",
       "      <td>{462.0: 9251.775, 220.0: 9251.775, 546.0: 5309...</td>\n",
       "    </tr>\n",
       "    <tr>\n",
       "      <th>2</th>\n",
       "      <td>100003</td>\n",
       "      <td>1810518</td>\n",
       "      <td>-746.0</td>\n",
       "      <td>-544.0</td>\n",
       "      <td>1035882.0</td>\n",
       "      <td>{56.0: 98356.995, 85.0: 98356.995, 202.0: 5608...</td>\n",
       "    </tr>\n",
       "    <tr>\n",
       "      <th>3</th>\n",
       "      <td>100003</td>\n",
       "      <td>2396755</td>\n",
       "      <td>-2340.0</td>\n",
       "      <td>-1985.0</td>\n",
       "      <td>68053.5</td>\n",
       "      <td>{114.0: 6737.31, 269.0: 6737.31, 141.0: 6737.3...</td>\n",
       "    </tr>\n",
       "    <tr>\n",
       "      <th>4</th>\n",
       "      <td>100003</td>\n",
       "      <td>2636178</td>\n",
       "      <td>-827.0</td>\n",
       "      <td>-661.0</td>\n",
       "      <td>348637.5</td>\n",
       "      <td>{137.0: 64567.665, 21.0: 64567.665, 108.0: 645...</td>\n",
       "    </tr>\n",
       "  </tbody>\n",
       "</table>\n",
       "</div>"
      ],
      "text/plain": [
       "   SK_ID_CURR  SK_ID_PREV  START_DATE  END_DATE  AMT_CREDIT  \\\n",
       "0      100001     1369693     -1739.0   -1628.0     23787.0   \n",
       "1      100002     1038818      -595.0     -49.0    179055.0   \n",
       "2      100003     1810518      -746.0    -544.0   1035882.0   \n",
       "3      100003     2396755     -2340.0   -1985.0     68053.5   \n",
       "4      100003     2636178      -827.0    -661.0    348637.5   \n",
       "\n",
       "                                        TMP_EAR_DICT  \n",
       "0       {24.0: 3951.0, 111.0: 17397.9, 79.0: 3951.0}  \n",
       "1  {462.0: 9251.775, 220.0: 9251.775, 546.0: 5309...  \n",
       "2  {56.0: 98356.995, 85.0: 98356.995, 202.0: 5608...  \n",
       "3  {114.0: 6737.31, 269.0: 6737.31, 141.0: 6737.3...  \n",
       "4  {137.0: 64567.665, 21.0: 64567.665, 108.0: 645...  "
      ]
     },
     "execution_count": 647,
     "metadata": {},
     "output_type": "execute_result"
    }
   ],
   "source": [
    "df_previous_payments_t.head(5)"
   ]
  },
  {
   "cell_type": "code",
   "execution_count": 651,
   "metadata": {},
   "outputs": [],
   "source": [
    "# look at the exceptions\n",
    "def get_new_dict(SK_ID_CURR, SK_ID_PREV, START_DATE, END_DATE, AMT_CREDIT, TMP_EAR_DICT):\n",
    "    credit = AMT_CREDIT\n",
    "    period_length = int(END_DATE - START_DATE)\n",
    "    d = TMP_EAR_DICT\n",
    "    if period_length > 0:\n",
    "        cf = [0] * (period_length + 1)\n",
    "        cf[0] = -credit\n",
    "        for index, amount in d.items():\n",
    "            try:\n",
    "                cf[int(index)] = amount\n",
    "            except Exception as e:\n",
    "                print(SK_ID_CURR, SK_ID_PREV, START_DATE, END_DATE, AMT_CREDIT, TMP_EAR_DICT)\n",
    "    else:\n",
    "        return [0]\n",
    "    return cf"
   ]
  },
  {
   "cell_type": "code",
   "execution_count": 652,
   "metadata": {},
   "outputs": [
    {
     "data": {
      "application/vnd.jupyter.widget-view+json": {
       "model_id": "317075fd0e3a44b0ab25ca519d275e72",
       "version_major": 2,
       "version_minor": 0
      },
      "text/plain": [
       "HBox(children=(IntProgress(value=0, max=958905), HTML(value='')))"
      ]
     },
     "metadata": {},
     "output_type": "display_data"
    },
    {
     "name": "stdout",
     "output_type": "stream",
     "text": [
      "108966 2805403 -170.0 -159.0 47290.5 {-20.0: 8744.94, 11.0: 33455.655, 0.0: 8744.94}\n",
      "123458 2755582 -1838.0 -1787.0 30195.0 {-274.0: 5652.495, 0.0: 5652.495, 51.0: 16403.67, -239.0: 5652.495}\n",
      "123458 2755582 -1838.0 -1787.0 30195.0 {-274.0: 5652.495, 0.0: 5652.495, 51.0: 16403.67, -239.0: 5652.495}\n",
      "125014 1181029 -1177.0 -1163.0 32184.0 {0.0: 3858.84, -22.0: 3858.84, 14.0: 27725.355}\n",
      "152554 1377212 -444.0 -443.0 17347.5 {-20.0: 3567.015, 1.0: 15827.58}\n",
      "163044 2346107 -617.0 -572.0 148365.0 {45.0: 144025.785, -67.0: 10704.555}\n",
      "171336 2049507 -938.0 -881.0 24682.5 {57.0: 4361.4, 27.0: 4361.4, -98.0: 4361.4}\n",
      "174087 1214702 -1284.0 -1268.0 18351.0 {0.0: 3993.39, -9.0: 3993.39, -23.0: 3993.39, 16.0: 3990.105}\n",
      "188263 2617776 -1220.0 -1209.0 26284.5 {11.0: 22766.985, -20.0: 3196.215, 0.0: 3196.215}\n",
      "192645 1850683 -820.0 -798.0 15246.0 {22.0: 7864.515, -46.0: 3964.095, 0.0: 3964.095}\n",
      "195834 2044431 -719.0 -634.0 67828.5 {-177.0: 12285.36, -173.0: 12285.36, 85.0: 47251.44}\n",
      "195834 2044431 -719.0 -634.0 67828.5 {-177.0: 12285.36, -173.0: 12285.36, 85.0: 47251.44}\n",
      "197377 1107745 -663.0 -627.0 15156.0 {-25.0: 3246.885, 5.0: 3246.885, 36.0: 6176.52, 0.0: 3246.885, -55.0: 3246.885}\n",
      "221933 2024587 -853.0 -761.0 52092.0 {92.0: 6592.23, -112.0: 6592.23, 45.0: 6592.23, -22.0: 6592.23, 6.0: 6592.23, 0.0: 6592.23}\n",
      "222624 2495732 -761.0 -727.0 52051.5 {-55.0: 9989.19, 34.0: 46090.89}\n",
      "227295 1760753 -1044.0 -995.0 87646.5 {49.0: 74878.155, -130.0: 15487.155}\n",
      "235143 1102621 -2206.0 -1998.0 14836.5 {0.0: 1762.56, -428.0: 1762.56, 208.0: 9169.56, 88.0: 1762.56}\n",
      "256295 1005314 -168.0 -15.0 32823.0 {-250.0: 6145.785, 41.0: 6145.785, 153.0: 6145.785}\n",
      "256787 1467184 -1250.0 -1234.0 30037.5 {-2.0: 3304.125, 0.0: 3304.125, -18.0: 3304.125, 16.0: 3304.125}\n",
      "271413 2057133 -1475.0 -1468.0 62964.0 {0.0: 7656.435, 7.0: 54537.93, -486.0: 7656.435}\n",
      "280714 1463597 -1568.0 -1541.0 29866.5 {0.0: 6089.76, 27.0: 6098.13, 3.0: 6089.76, -64.0: 6089.76, -99.0: 6089.76}\n",
      "280714 1463597 -1568.0 -1541.0 29866.5 {0.0: 6089.76, 27.0: 6098.13, 3.0: 6089.76, -64.0: 6089.76, -99.0: 6089.76}\n",
      "294349 2327516 -2211.0 -2153.0 36936.0 {-92.0: 5784.165, 58.0: 27907.335}\n",
      "296197 1170570 -484.0 -483.0 9000.0 {-28.0: 1810.53, 1.0: 8133.93}\n",
      "316798 1217580 -95.0 -89.0 59022.0 {-24.0: 5957.1, 0.0: 5957.1, 6.0: 5957.1}\n",
      "316835 2458657 -2298.0 -2261.0 25605.0 {0.0: 3415.725, 37.0: 22541.535, -163.0: 3415.725}\n",
      "321143 1555489 -1025.0 -967.0 221031.0 {-178.0: 11301.3, 58.0: 225624.69}\n",
      "329682 1593222 -1286.0 -1188.0 17694.0 {-119.0: 3607.785, 98.0: 10218.42, 34.0: 3607.785, 7.0: 3607.785}\n",
      "350385 1471228 -397.0 -388.0 16560.0 {9.0: 15055.56, -13.0: 3377.25}\n",
      "350736 1931973 -1372.0 -1281.0 30339.0 {43.0: 6186.105, 91.0: 17520.885, -129.0: 6186.105}\n",
      "351763 2821114 -351.0 -344.0 85207.5 {7.0: 82132.065, -10.0: 8810.46}\n",
      "377461 2172791 -817.0 -759.0 221031.0 {-178.0: 11301.3, 58.0: 225624.69}\n",
      "387309 1537157 -904.0 -847.0 24682.5 {27.0: 4361.4, -98.0: 4361.4, 57.0: 4361.4}\n",
      "400480 1000648 -126.0 -100.0 17361.0 {-5.0: 3540.6, 26.0: 3540.6, -35.0: 3540.6, 0.0: 3540.6}\n",
      "408583 1435480 -1381.0 -1210.0 26635.5 {0.0: 5537.52, -178.0: 5537.52, 164.0: 5537.52, 118.0: 5537.52, 11.0: 5537.52, 171.0: 5530.725}\n",
      "416829 1709984 -331.0 -326.0 66280.5 {-1.0: 12041.82, -17.0: 12041.82, 5.0: 46416.6}\n",
      "417143 1915314 -668.0 -667.0 17347.5 {-20.0: 3567.015, 1.0: 15827.58}\n",
      "421693 1154005 -313.0 -261.0 52051.5 {52.0: 45488.97, -56.0: 9755.865}\n",
      "429838 1895650 -77.0 -62.0 23274.0 {-18.0: 6315.345, 15.0: 6315.345}\n",
      "432279 2119766 -1324.0 -1293.0 32818.5 {-136.0: 6691.68, 0.0: 6691.68, 31.0: 18952.83}\n",
      "434437 1460972 -403.0 -375.0 47578.5 {-139.0: 8644.05, 28.0: 8641.17, -4.0: 8644.05, 0.0: 8644.05}\n",
      "434903 2448531 -1961.0 -1944.0 31108.5 {-176.0: 3608.595, 0.0: 3608.595, 17.0: 26455.905}\n",
      "437792 1128954 -491.0 -459.0 30483.0 {-65.0: 7925.895, 32.0: 7925.445, 4.0: 7925.895, 0.0: 7925.895}\n",
      "439196 2802906 -458.0 -433.0 41436.0 {-1.0: 3733.38, 25.0: 35367.48, -29.0: 3733.38}\n",
      "443844 1760463 -786.0 -728.0 221031.0 {58.0: 225624.69, -178.0: 11301.3}\n",
      "447329 1752167 -1942.0 -1582.0 108522.0 {180.0: 11401.335, 150.0: 11401.335, -2979.0: 11401.335, 330.0: 11401.335, 360.0: 11393.505, 120.0: 11401.335, 300.0: 11401.335, 210.0: 11401.335, 270.0: 11401.335, 60.0: 11401.335, 30.0: 11401.335}\n",
      "447651 1331584 -1254.0 -1240.0 14593.5 {0.0: 2921.625, 14.0: 2908.44, -49.0: 2921.625}\n",
      "451845 2797298 -1392.0 -1376.0 195133.5 {-61.0: 18225.45, 0.0: 18225.45, 16.0: 134594.82}\n"
     ]
    }
   ],
   "source": [
    "df_previous_payments_tt = df_previous_payments_t\\\n",
    ".progress_apply(lambda x: get_new_dict(x.SK_ID_CURR, x.SK_ID_PREV, x.START_DATE, x.END_DATE, x.AMT_CREDIT, x.TMP_EAR_DICT), axis=1)"
   ]
  },
  {
   "cell_type": "code",
   "execution_count": 653,
   "metadata": {},
   "outputs": [],
   "source": [
    "df_previous_payments_tt = df_previous_payments_tt.to_frame()"
   ]
  },
  {
   "cell_type": "code",
   "execution_count": 654,
   "metadata": {},
   "outputs": [],
   "source": [
    "df_previous_payments_tt.columns = ['CF']"
   ]
  },
  {
   "cell_type": "code",
   "execution_count": 655,
   "metadata": {},
   "outputs": [],
   "source": [
    "df_previous_payments_tt_j = df_previous_payments_t.join(df_previous_payments_tt, on=None, how='inner')"
   ]
  },
  {
   "cell_type": "code",
   "execution_count": 657,
   "metadata": {},
   "outputs": [
    {
     "data": {
      "text/plain": [
       "(958905, 7)"
      ]
     },
     "execution_count": 657,
     "metadata": {},
     "output_type": "execute_result"
    }
   ],
   "source": [
    "df_previous_payments_tt_j.shape"
   ]
  },
  {
   "cell_type": "code",
   "execution_count": 658,
   "metadata": {},
   "outputs": [],
   "source": [
    "d = {288.0: 10469.34,\n",
    " 78.0: 10602.45,\n",
    " 43.0: 10602.45,\n",
    " 126.0: 10602.45,\n",
    " 229.0: 10602.45,\n",
    " 195.0: 10602.45,\n",
    " 167.0: 10602.45,\n",
    " 13.0: 10602.45,\n",
    " 251.0: 10602.45,\n",
    " 92.0: 10602.45}"
   ]
  },
  {
   "cell_type": "code",
   "execution_count": 659,
   "metadata": {},
   "outputs": [
    {
     "name": "stdout",
     "output_type": "stream",
     "text": [
      "288 10469.34\n",
      "78 10602.45\n",
      "43 10602.45\n",
      "126 10602.45\n",
      "229 10602.45\n",
      "195 10602.45\n",
      "167 10602.45\n",
      "13 10602.45\n",
      "251 10602.45\n",
      "92 10602.45\n"
     ]
    }
   ],
   "source": [
    "for key, value in d.items():\n",
    "    print (int(key), value)"
   ]
  },
  {
   "cell_type": "code",
   "execution_count": 660,
   "metadata": {},
   "outputs": [],
   "source": [
    "def get_actual_ear(cf):\n",
    "    \"\"\" derives actual EAR based on all payments based on previous application\n",
    "    \"\"\"\n",
    "    irr = np.irr(cf)\n",
    "    ear = (1+irr)**360 - 1 # we take 1 year to be 360 days\n",
    "    return ear"
   ]
  },
  {
   "cell_type": "code",
   "execution_count": 661,
   "metadata": {},
   "outputs": [
    {
     "data": {
      "application/vnd.jupyter.widget-view+json": {
       "model_id": "26e5ce7a08e64a5a89e4963a47a57512",
       "version_major": 2,
       "version_minor": 0
      },
      "text/plain": [
       "HBox(children=(IntProgress(value=0, max=958905), HTML(value='')))"
      ]
     },
     "metadata": {},
     "output_type": "display_data"
    },
    {
     "ename": "KeyboardInterrupt",
     "evalue": "",
     "output_type": "error",
     "traceback": [
      "\u001b[0;31m---------------------------------------------------------------------------\u001b[0m",
      "\u001b[0;31mKeyboardInterrupt\u001b[0m                         Traceback (most recent call last)",
      "\u001b[0;32m<ipython-input-661-c437bca47149>\u001b[0m in \u001b[0;36m<module>\u001b[0;34m\u001b[0m\n\u001b[1;32m      1\u001b[0m \u001b[0mdf_actual_ear\u001b[0m \u001b[0;34m=\u001b[0m \u001b[0mdf_previous_payments_tt_j\u001b[0m\u001b[0;31m\\\u001b[0m\u001b[0;34m\u001b[0m\u001b[0;34m\u001b[0m\u001b[0m\n\u001b[0;32m----> 2\u001b[0;31m \u001b[0;34m.\u001b[0m\u001b[0mprogress_apply\u001b[0m\u001b[0;34m(\u001b[0m\u001b[0;32mlambda\u001b[0m \u001b[0mx\u001b[0m\u001b[0;34m:\u001b[0m \u001b[0mget_actual_ear\u001b[0m\u001b[0;34m(\u001b[0m\u001b[0mx\u001b[0m\u001b[0;34m.\u001b[0m\u001b[0mCF\u001b[0m\u001b[0;34m)\u001b[0m\u001b[0;34m,\u001b[0m \u001b[0maxis\u001b[0m\u001b[0;34m=\u001b[0m\u001b[0;36m1\u001b[0m\u001b[0;34m)\u001b[0m\u001b[0;34m\u001b[0m\u001b[0;34m\u001b[0m\u001b[0m\n\u001b[0m",
      "\u001b[0;32m/anaconda3/envs/nlp/lib/python3.7/site-packages/tqdm/_tqdm.py\u001b[0m in \u001b[0;36minner\u001b[0;34m(df, func, *args, **kwargs)\u001b[0m\n\u001b[1;32m    675\u001b[0m                 \u001b[0;31m# Apply the provided function (in **kwargs)\u001b[0m\u001b[0;34m\u001b[0m\u001b[0;34m\u001b[0m\u001b[0;34m\u001b[0m\u001b[0m\n\u001b[1;32m    676\u001b[0m                 \u001b[0;31m# on the df using our wrapper (which provides bar updating)\u001b[0m\u001b[0;34m\u001b[0m\u001b[0;34m\u001b[0m\u001b[0;34m\u001b[0m\u001b[0m\n\u001b[0;32m--> 677\u001b[0;31m                 \u001b[0mresult\u001b[0m \u001b[0;34m=\u001b[0m \u001b[0mgetattr\u001b[0m\u001b[0;34m(\u001b[0m\u001b[0mdf\u001b[0m\u001b[0;34m,\u001b[0m \u001b[0mdf_function\u001b[0m\u001b[0;34m)\u001b[0m\u001b[0;34m(\u001b[0m\u001b[0mwrapper\u001b[0m\u001b[0;34m,\u001b[0m \u001b[0;34m**\u001b[0m\u001b[0mkwargs\u001b[0m\u001b[0;34m)\u001b[0m\u001b[0;34m\u001b[0m\u001b[0;34m\u001b[0m\u001b[0m\n\u001b[0m\u001b[1;32m    678\u001b[0m \u001b[0;34m\u001b[0m\u001b[0m\n\u001b[1;32m    679\u001b[0m                 \u001b[0;31m# Close bar and return pandas calculation result\u001b[0m\u001b[0;34m\u001b[0m\u001b[0;34m\u001b[0m\u001b[0;34m\u001b[0m\u001b[0m\n",
      "\u001b[0;32m/anaconda3/envs/nlp/lib/python3.7/site-packages/pandas/core/frame.py\u001b[0m in \u001b[0;36mapply\u001b[0;34m(self, func, axis, broadcast, raw, reduce, result_type, args, **kwds)\u001b[0m\n\u001b[1;32m   6485\u001b[0m                          \u001b[0margs\u001b[0m\u001b[0;34m=\u001b[0m\u001b[0margs\u001b[0m\u001b[0;34m,\u001b[0m\u001b[0;34m\u001b[0m\u001b[0;34m\u001b[0m\u001b[0m\n\u001b[1;32m   6486\u001b[0m                          kwds=kwds)\n\u001b[0;32m-> 6487\u001b[0;31m         \u001b[0;32mreturn\u001b[0m \u001b[0mop\u001b[0m\u001b[0;34m.\u001b[0m\u001b[0mget_result\u001b[0m\u001b[0;34m(\u001b[0m\u001b[0;34m)\u001b[0m\u001b[0;34m\u001b[0m\u001b[0;34m\u001b[0m\u001b[0m\n\u001b[0m\u001b[1;32m   6488\u001b[0m \u001b[0;34m\u001b[0m\u001b[0m\n\u001b[1;32m   6489\u001b[0m     \u001b[0;32mdef\u001b[0m \u001b[0mapplymap\u001b[0m\u001b[0;34m(\u001b[0m\u001b[0mself\u001b[0m\u001b[0;34m,\u001b[0m \u001b[0mfunc\u001b[0m\u001b[0;34m)\u001b[0m\u001b[0;34m:\u001b[0m\u001b[0;34m\u001b[0m\u001b[0;34m\u001b[0m\u001b[0m\n",
      "\u001b[0;32m/anaconda3/envs/nlp/lib/python3.7/site-packages/pandas/core/apply.py\u001b[0m in \u001b[0;36mget_result\u001b[0;34m(self)\u001b[0m\n\u001b[1;32m    149\u001b[0m             \u001b[0;32mreturn\u001b[0m \u001b[0mself\u001b[0m\u001b[0;34m.\u001b[0m\u001b[0mapply_raw\u001b[0m\u001b[0;34m(\u001b[0m\u001b[0;34m)\u001b[0m\u001b[0;34m\u001b[0m\u001b[0;34m\u001b[0m\u001b[0m\n\u001b[1;32m    150\u001b[0m \u001b[0;34m\u001b[0m\u001b[0m\n\u001b[0;32m--> 151\u001b[0;31m         \u001b[0;32mreturn\u001b[0m \u001b[0mself\u001b[0m\u001b[0;34m.\u001b[0m\u001b[0mapply_standard\u001b[0m\u001b[0;34m(\u001b[0m\u001b[0;34m)\u001b[0m\u001b[0;34m\u001b[0m\u001b[0;34m\u001b[0m\u001b[0m\n\u001b[0m\u001b[1;32m    152\u001b[0m \u001b[0;34m\u001b[0m\u001b[0m\n\u001b[1;32m    153\u001b[0m     \u001b[0;32mdef\u001b[0m \u001b[0mapply_empty_result\u001b[0m\u001b[0;34m(\u001b[0m\u001b[0mself\u001b[0m\u001b[0;34m)\u001b[0m\u001b[0;34m:\u001b[0m\u001b[0;34m\u001b[0m\u001b[0;34m\u001b[0m\u001b[0m\n",
      "\u001b[0;32m/anaconda3/envs/nlp/lib/python3.7/site-packages/pandas/core/apply.py\u001b[0m in \u001b[0;36mapply_standard\u001b[0;34m(self)\u001b[0m\n\u001b[1;32m    249\u001b[0m                                           \u001b[0maxis\u001b[0m\u001b[0;34m=\u001b[0m\u001b[0mself\u001b[0m\u001b[0;34m.\u001b[0m\u001b[0maxis\u001b[0m\u001b[0;34m,\u001b[0m\u001b[0;34m\u001b[0m\u001b[0;34m\u001b[0m\u001b[0m\n\u001b[1;32m    250\u001b[0m                                           \u001b[0mdummy\u001b[0m\u001b[0;34m=\u001b[0m\u001b[0mdummy\u001b[0m\u001b[0;34m,\u001b[0m\u001b[0;34m\u001b[0m\u001b[0;34m\u001b[0m\u001b[0m\n\u001b[0;32m--> 251\u001b[0;31m                                           labels=labels)\n\u001b[0m\u001b[1;32m    252\u001b[0m                 \u001b[0;32mreturn\u001b[0m \u001b[0mself\u001b[0m\u001b[0;34m.\u001b[0m\u001b[0mobj\u001b[0m\u001b[0;34m.\u001b[0m\u001b[0m_constructor_sliced\u001b[0m\u001b[0;34m(\u001b[0m\u001b[0mresult\u001b[0m\u001b[0;34m,\u001b[0m \u001b[0mindex\u001b[0m\u001b[0;34m=\u001b[0m\u001b[0mlabels\u001b[0m\u001b[0;34m)\u001b[0m\u001b[0;34m\u001b[0m\u001b[0;34m\u001b[0m\u001b[0m\n\u001b[1;32m    253\u001b[0m             \u001b[0;32mexcept\u001b[0m \u001b[0mException\u001b[0m\u001b[0;34m:\u001b[0m\u001b[0;34m\u001b[0m\u001b[0;34m\u001b[0m\u001b[0m\n",
      "\u001b[0;32mpandas/_libs/reduction.pyx\u001b[0m in \u001b[0;36mpandas._libs.reduction.reduce\u001b[0;34m()\u001b[0m\n",
      "\u001b[0;32mpandas/_libs/reduction.pyx\u001b[0m in \u001b[0;36mpandas._libs.reduction.Reducer.get_result\u001b[0;34m()\u001b[0m\n",
      "\u001b[0;32m/anaconda3/envs/nlp/lib/python3.7/site-packages/tqdm/_tqdm.py\u001b[0m in \u001b[0;36mwrapper\u001b[0;34m(*args, **kwargs)\u001b[0m\n\u001b[1;32m    671\u001b[0m                     \u001b[0;31m# take a fast or slow code path; so stop when t.total==t.n\u001b[0m\u001b[0;34m\u001b[0m\u001b[0;34m\u001b[0m\u001b[0;34m\u001b[0m\u001b[0m\n\u001b[1;32m    672\u001b[0m                     \u001b[0mt\u001b[0m\u001b[0;34m.\u001b[0m\u001b[0mupdate\u001b[0m\u001b[0;34m(\u001b[0m\u001b[0mn\u001b[0m\u001b[0;34m=\u001b[0m\u001b[0;36m1\u001b[0m \u001b[0;32mif\u001b[0m \u001b[0;32mnot\u001b[0m \u001b[0mt\u001b[0m\u001b[0;34m.\u001b[0m\u001b[0mtotal\u001b[0m \u001b[0;32mor\u001b[0m \u001b[0mt\u001b[0m\u001b[0;34m.\u001b[0m\u001b[0mn\u001b[0m \u001b[0;34m<\u001b[0m \u001b[0mt\u001b[0m\u001b[0;34m.\u001b[0m\u001b[0mtotal\u001b[0m \u001b[0;32melse\u001b[0m \u001b[0;36m0\u001b[0m\u001b[0;34m)\u001b[0m\u001b[0;34m\u001b[0m\u001b[0;34m\u001b[0m\u001b[0m\n\u001b[0;32m--> 673\u001b[0;31m                     \u001b[0;32mreturn\u001b[0m \u001b[0mfunc\u001b[0m\u001b[0;34m(\u001b[0m\u001b[0;34m*\u001b[0m\u001b[0margs\u001b[0m\u001b[0;34m,\u001b[0m \u001b[0;34m**\u001b[0m\u001b[0mkwargs\u001b[0m\u001b[0;34m)\u001b[0m\u001b[0;34m\u001b[0m\u001b[0;34m\u001b[0m\u001b[0m\n\u001b[0m\u001b[1;32m    674\u001b[0m \u001b[0;34m\u001b[0m\u001b[0m\n\u001b[1;32m    675\u001b[0m                 \u001b[0;31m# Apply the provided function (in **kwargs)\u001b[0m\u001b[0;34m\u001b[0m\u001b[0;34m\u001b[0m\u001b[0;34m\u001b[0m\u001b[0m\n",
      "\u001b[0;32m<ipython-input-661-c437bca47149>\u001b[0m in \u001b[0;36m<lambda>\u001b[0;34m(x)\u001b[0m\n\u001b[1;32m      1\u001b[0m \u001b[0mdf_actual_ear\u001b[0m \u001b[0;34m=\u001b[0m \u001b[0mdf_previous_payments_tt_j\u001b[0m\u001b[0;31m\\\u001b[0m\u001b[0;34m\u001b[0m\u001b[0;34m\u001b[0m\u001b[0m\n\u001b[0;32m----> 2\u001b[0;31m \u001b[0;34m.\u001b[0m\u001b[0mprogress_apply\u001b[0m\u001b[0;34m(\u001b[0m\u001b[0;32mlambda\u001b[0m \u001b[0mx\u001b[0m\u001b[0;34m:\u001b[0m \u001b[0mget_actual_ear\u001b[0m\u001b[0;34m(\u001b[0m\u001b[0mx\u001b[0m\u001b[0;34m.\u001b[0m\u001b[0mCF\u001b[0m\u001b[0;34m)\u001b[0m\u001b[0;34m,\u001b[0m \u001b[0maxis\u001b[0m\u001b[0;34m=\u001b[0m\u001b[0;36m1\u001b[0m\u001b[0;34m)\u001b[0m\u001b[0;34m\u001b[0m\u001b[0;34m\u001b[0m\u001b[0m\n\u001b[0m",
      "\u001b[0;32m<ipython-input-660-26e3dc06d2f8>\u001b[0m in \u001b[0;36mget_actual_ear\u001b[0;34m(cf)\u001b[0m\n\u001b[1;32m      2\u001b[0m     \"\"\" derives actual EAR based on all payments based on previous application\n\u001b[1;32m      3\u001b[0m     \"\"\"\n\u001b[0;32m----> 4\u001b[0;31m     \u001b[0mirr\u001b[0m \u001b[0;34m=\u001b[0m \u001b[0mnp\u001b[0m\u001b[0;34m.\u001b[0m\u001b[0mirr\u001b[0m\u001b[0;34m(\u001b[0m\u001b[0mcf\u001b[0m\u001b[0;34m)\u001b[0m\u001b[0;34m\u001b[0m\u001b[0;34m\u001b[0m\u001b[0m\n\u001b[0m\u001b[1;32m      5\u001b[0m     \u001b[0mear\u001b[0m \u001b[0;34m=\u001b[0m \u001b[0;34m(\u001b[0m\u001b[0;36m1\u001b[0m\u001b[0;34m+\u001b[0m\u001b[0mirr\u001b[0m\u001b[0;34m)\u001b[0m\u001b[0;34m**\u001b[0m\u001b[0;36m360\u001b[0m \u001b[0;34m-\u001b[0m \u001b[0;36m1\u001b[0m \u001b[0;31m# we take 1 year to be 360 days\u001b[0m\u001b[0;34m\u001b[0m\u001b[0;34m\u001b[0m\u001b[0m\n\u001b[1;32m      6\u001b[0m     \u001b[0;32mreturn\u001b[0m \u001b[0mear\u001b[0m\u001b[0;34m\u001b[0m\u001b[0;34m\u001b[0m\u001b[0m\n",
      "\u001b[0;32m/anaconda3/envs/nlp/lib/python3.7/site-packages/numpy/lib/financial.py\u001b[0m in \u001b[0;36mirr\u001b[0;34m(values)\u001b[0m\n\u001b[1;32m    724\u001b[0m     \u001b[0;31m# greater implications on the entire linear algebra module and how it does\u001b[0m\u001b[0;34m\u001b[0m\u001b[0;34m\u001b[0m\u001b[0;34m\u001b[0m\u001b[0m\n\u001b[1;32m    725\u001b[0m     \u001b[0;31m# eigenvalue computations.\u001b[0m\u001b[0;34m\u001b[0m\u001b[0;34m\u001b[0m\u001b[0;34m\u001b[0m\u001b[0m\n\u001b[0;32m--> 726\u001b[0;31m     \u001b[0mres\u001b[0m \u001b[0;34m=\u001b[0m \u001b[0mnp\u001b[0m\u001b[0;34m.\u001b[0m\u001b[0mroots\u001b[0m\u001b[0;34m(\u001b[0m\u001b[0mvalues\u001b[0m\u001b[0;34m[\u001b[0m\u001b[0;34m:\u001b[0m\u001b[0;34m:\u001b[0m\u001b[0;34m-\u001b[0m\u001b[0;36m1\u001b[0m\u001b[0;34m]\u001b[0m\u001b[0;34m)\u001b[0m\u001b[0;34m\u001b[0m\u001b[0;34m\u001b[0m\u001b[0m\n\u001b[0m\u001b[1;32m    727\u001b[0m     \u001b[0mmask\u001b[0m \u001b[0;34m=\u001b[0m \u001b[0;34m(\u001b[0m\u001b[0mres\u001b[0m\u001b[0;34m.\u001b[0m\u001b[0mimag\u001b[0m \u001b[0;34m==\u001b[0m \u001b[0;36m0\u001b[0m\u001b[0;34m)\u001b[0m \u001b[0;34m&\u001b[0m \u001b[0;34m(\u001b[0m\u001b[0mres\u001b[0m\u001b[0;34m.\u001b[0m\u001b[0mreal\u001b[0m \u001b[0;34m>\u001b[0m \u001b[0;36m0\u001b[0m\u001b[0;34m)\u001b[0m\u001b[0;34m\u001b[0m\u001b[0;34m\u001b[0m\u001b[0m\n\u001b[1;32m    728\u001b[0m     \u001b[0;32mif\u001b[0m \u001b[0;32mnot\u001b[0m \u001b[0mmask\u001b[0m\u001b[0;34m.\u001b[0m\u001b[0many\u001b[0m\u001b[0;34m(\u001b[0m\u001b[0;34m)\u001b[0m\u001b[0;34m:\u001b[0m\u001b[0;34m\u001b[0m\u001b[0;34m\u001b[0m\u001b[0m\n",
      "\u001b[0;32m/anaconda3/envs/nlp/lib/python3.7/site-packages/numpy/lib/polynomial.py\u001b[0m in \u001b[0;36mroots\u001b[0;34m(p)\u001b[0m\n\u001b[1;32m    243\u001b[0m         \u001b[0mA\u001b[0m \u001b[0;34m=\u001b[0m \u001b[0mdiag\u001b[0m\u001b[0;34m(\u001b[0m\u001b[0mNX\u001b[0m\u001b[0;34m.\u001b[0m\u001b[0mones\u001b[0m\u001b[0;34m(\u001b[0m\u001b[0;34m(\u001b[0m\u001b[0mN\u001b[0m\u001b[0;34m-\u001b[0m\u001b[0;36m2\u001b[0m\u001b[0;34m,\u001b[0m\u001b[0;34m)\u001b[0m\u001b[0;34m,\u001b[0m \u001b[0mp\u001b[0m\u001b[0;34m.\u001b[0m\u001b[0mdtype\u001b[0m\u001b[0;34m)\u001b[0m\u001b[0;34m,\u001b[0m \u001b[0;34m-\u001b[0m\u001b[0;36m1\u001b[0m\u001b[0;34m)\u001b[0m\u001b[0;34m\u001b[0m\u001b[0;34m\u001b[0m\u001b[0m\n\u001b[1;32m    244\u001b[0m         \u001b[0mA\u001b[0m\u001b[0;34m[\u001b[0m\u001b[0;36m0\u001b[0m\u001b[0;34m,\u001b[0m\u001b[0;34m:\u001b[0m\u001b[0;34m]\u001b[0m \u001b[0;34m=\u001b[0m \u001b[0;34m-\u001b[0m\u001b[0mp\u001b[0m\u001b[0;34m[\u001b[0m\u001b[0;36m1\u001b[0m\u001b[0;34m:\u001b[0m\u001b[0;34m]\u001b[0m \u001b[0;34m/\u001b[0m \u001b[0mp\u001b[0m\u001b[0;34m[\u001b[0m\u001b[0;36m0\u001b[0m\u001b[0;34m]\u001b[0m\u001b[0;34m\u001b[0m\u001b[0;34m\u001b[0m\u001b[0m\n\u001b[0;32m--> 245\u001b[0;31m         \u001b[0mroots\u001b[0m \u001b[0;34m=\u001b[0m \u001b[0meigvals\u001b[0m\u001b[0;34m(\u001b[0m\u001b[0mA\u001b[0m\u001b[0;34m)\u001b[0m\u001b[0;34m\u001b[0m\u001b[0;34m\u001b[0m\u001b[0m\n\u001b[0m\u001b[1;32m    246\u001b[0m     \u001b[0;32melse\u001b[0m\u001b[0;34m:\u001b[0m\u001b[0;34m\u001b[0m\u001b[0;34m\u001b[0m\u001b[0m\n\u001b[1;32m    247\u001b[0m         \u001b[0mroots\u001b[0m \u001b[0;34m=\u001b[0m \u001b[0mNX\u001b[0m\u001b[0;34m.\u001b[0m\u001b[0marray\u001b[0m\u001b[0;34m(\u001b[0m\u001b[0;34m[\u001b[0m\u001b[0;34m]\u001b[0m\u001b[0;34m)\u001b[0m\u001b[0;34m\u001b[0m\u001b[0;34m\u001b[0m\u001b[0m\n",
      "\u001b[0;32m/anaconda3/envs/nlp/lib/python3.7/site-packages/numpy/linalg/linalg.py\u001b[0m in \u001b[0;36meigvals\u001b[0;34m(a)\u001b[0m\n\u001b[1;32m   1062\u001b[0m         _raise_linalgerror_eigenvalues_nonconvergence)\n\u001b[1;32m   1063\u001b[0m     \u001b[0msignature\u001b[0m \u001b[0;34m=\u001b[0m \u001b[0;34m'D->D'\u001b[0m \u001b[0;32mif\u001b[0m \u001b[0misComplexType\u001b[0m\u001b[0;34m(\u001b[0m\u001b[0mt\u001b[0m\u001b[0;34m)\u001b[0m \u001b[0;32melse\u001b[0m \u001b[0;34m'd->D'\u001b[0m\u001b[0;34m\u001b[0m\u001b[0;34m\u001b[0m\u001b[0m\n\u001b[0;32m-> 1064\u001b[0;31m     \u001b[0mw\u001b[0m \u001b[0;34m=\u001b[0m \u001b[0m_umath_linalg\u001b[0m\u001b[0;34m.\u001b[0m\u001b[0meigvals\u001b[0m\u001b[0;34m(\u001b[0m\u001b[0ma\u001b[0m\u001b[0;34m,\u001b[0m \u001b[0msignature\u001b[0m\u001b[0;34m=\u001b[0m\u001b[0msignature\u001b[0m\u001b[0;34m,\u001b[0m \u001b[0mextobj\u001b[0m\u001b[0;34m=\u001b[0m\u001b[0mextobj\u001b[0m\u001b[0;34m)\u001b[0m\u001b[0;34m\u001b[0m\u001b[0;34m\u001b[0m\u001b[0m\n\u001b[0m\u001b[1;32m   1065\u001b[0m \u001b[0;34m\u001b[0m\u001b[0m\n\u001b[1;32m   1066\u001b[0m     \u001b[0;32mif\u001b[0m \u001b[0;32mnot\u001b[0m \u001b[0misComplexType\u001b[0m\u001b[0;34m(\u001b[0m\u001b[0mt\u001b[0m\u001b[0;34m)\u001b[0m\u001b[0;34m:\u001b[0m\u001b[0;34m\u001b[0m\u001b[0;34m\u001b[0m\u001b[0m\n",
      "\u001b[0;31mKeyboardInterrupt\u001b[0m: "
     ]
    }
   ],
   "source": [
    "df_actual_ear = df_previous_payments_tt_j\\\n",
    ".progress_apply(lambda x: get_actual_ear(x.CF), axis=1)"
   ]
  },
  {
   "cell_type": "code",
   "execution_count": 573,
   "metadata": {},
   "outputs": [],
   "source": [
    "df_final = df_actual_ear.to_frame()"
   ]
  },
  {
   "cell_type": "code",
   "execution_count": 574,
   "metadata": {},
   "outputs": [],
   "source": [
    "df_final.columns = ['ACTUAL_EAR']"
   ]
  },
  {
   "cell_type": "code",
   "execution_count": 575,
   "metadata": {},
   "outputs": [
    {
     "data": {
      "text/html": [
       "<div>\n",
       "<style scoped>\n",
       "    .dataframe tbody tr th:only-of-type {\n",
       "        vertical-align: middle;\n",
       "    }\n",
       "\n",
       "    .dataframe tbody tr th {\n",
       "        vertical-align: top;\n",
       "    }\n",
       "\n",
       "    .dataframe thead th {\n",
       "        text-align: right;\n",
       "    }\n",
       "</style>\n",
       "<table border=\"1\" class=\"dataframe\">\n",
       "  <thead>\n",
       "    <tr style=\"text-align: right;\">\n",
       "      <th></th>\n",
       "      <th>ACTUAL_EAR</th>\n",
       "    </tr>\n",
       "  </thead>\n",
       "  <tbody>\n",
       "    <tr>\n",
       "      <th>0</th>\n",
       "      <td>0.293995</td>\n",
       "    </tr>\n",
       "    <tr>\n",
       "      <th>1</th>\n",
       "      <td>0.524947</td>\n",
       "    </tr>\n",
       "    <tr>\n",
       "      <th>2</th>\n",
       "      <td>0.802244</td>\n",
       "    </tr>\n",
       "    <tr>\n",
       "      <th>3</th>\n",
       "      <td>0.594947</td>\n",
       "    </tr>\n",
       "    <tr>\n",
       "      <th>4</th>\n",
       "      <td>1.360314</td>\n",
       "    </tr>\n",
       "    <tr>\n",
       "      <th>5</th>\n",
       "      <td>0.513768</td>\n",
       "    </tr>\n",
       "    <tr>\n",
       "      <th>6</th>\n",
       "      <td>0.287169</td>\n",
       "    </tr>\n",
       "  </tbody>\n",
       "</table>\n",
       "</div>"
      ],
      "text/plain": [
       "   ACTUAL_EAR\n",
       "0    0.293995\n",
       "1    0.524947\n",
       "2    0.802244\n",
       "3    0.594947\n",
       "4    1.360314\n",
       "5    0.513768\n",
       "6    0.287169"
      ]
     },
     "execution_count": 575,
     "metadata": {},
     "output_type": "execute_result"
    }
   ],
   "source": [
    "df_final"
   ]
  },
  {
   "cell_type": "code",
   "execution_count": 577,
   "metadata": {},
   "outputs": [],
   "source": [
    "df_final_j = df_previous_payments_tt_j[['SK_ID_CURR','SK_ID_PREV']]\\\n",
    ".join(df_final, on=None, how='inner')"
   ]
  },
  {
   "cell_type": "code",
   "execution_count": 578,
   "metadata": {},
   "outputs": [
    {
     "data": {
      "text/html": [
       "<div>\n",
       "<style scoped>\n",
       "    .dataframe tbody tr th:only-of-type {\n",
       "        vertical-align: middle;\n",
       "    }\n",
       "\n",
       "    .dataframe tbody tr th {\n",
       "        vertical-align: top;\n",
       "    }\n",
       "\n",
       "    .dataframe thead th {\n",
       "        text-align: right;\n",
       "    }\n",
       "</style>\n",
       "<table border=\"1\" class=\"dataframe\">\n",
       "  <thead>\n",
       "    <tr style=\"text-align: right;\">\n",
       "      <th></th>\n",
       "      <th>SK_ID_CURR</th>\n",
       "      <th>SK_ID_PREV</th>\n",
       "      <th>ACTUAL_EAR</th>\n",
       "    </tr>\n",
       "  </thead>\n",
       "  <tbody>\n",
       "    <tr>\n",
       "      <th>0</th>\n",
       "      <td>100042</td>\n",
       "      <td>1125423</td>\n",
       "      <td>0.293995</td>\n",
       "    </tr>\n",
       "    <tr>\n",
       "      <th>1</th>\n",
       "      <td>100042</td>\n",
       "      <td>1643959</td>\n",
       "      <td>0.524947</td>\n",
       "    </tr>\n",
       "    <tr>\n",
       "      <th>2</th>\n",
       "      <td>100042</td>\n",
       "      <td>1643964</td>\n",
       "      <td>0.802244</td>\n",
       "    </tr>\n",
       "    <tr>\n",
       "      <th>3</th>\n",
       "      <td>100042</td>\n",
       "      <td>1716930</td>\n",
       "      <td>0.594947</td>\n",
       "    </tr>\n",
       "    <tr>\n",
       "      <th>4</th>\n",
       "      <td>100042</td>\n",
       "      <td>2137382</td>\n",
       "      <td>1.360314</td>\n",
       "    </tr>\n",
       "    <tr>\n",
       "      <th>5</th>\n",
       "      <td>100042</td>\n",
       "      <td>2535181</td>\n",
       "      <td>0.513768</td>\n",
       "    </tr>\n",
       "    <tr>\n",
       "      <th>6</th>\n",
       "      <td>100042</td>\n",
       "      <td>2604725</td>\n",
       "      <td>0.287169</td>\n",
       "    </tr>\n",
       "  </tbody>\n",
       "</table>\n",
       "</div>"
      ],
      "text/plain": [
       "   SK_ID_CURR  SK_ID_PREV  ACTUAL_EAR\n",
       "0      100042     1125423    0.293995\n",
       "1      100042     1643959    0.524947\n",
       "2      100042     1643964    0.802244\n",
       "3      100042     1716930    0.594947\n",
       "4      100042     2137382    1.360314\n",
       "5      100042     2535181    0.513768\n",
       "6      100042     2604725    0.287169"
      ]
     },
     "execution_count": 578,
     "metadata": {},
     "output_type": "execute_result"
    }
   ],
   "source": [
    "df_final_j"
   ]
  },
  {
   "cell_type": "code",
   "execution_count": 579,
   "metadata": {},
   "outputs": [],
   "source": [
    "#df_actual_ear.columns = ['SK_ID_CURR', 'SK_ID_PREV', 'ACTUAL_EAR']"
   ]
  },
  {
   "cell_type": "code",
   "execution_count": 580,
   "metadata": {},
   "outputs": [],
   "source": [
    "#df_actual_ear"
   ]
  },
  {
   "cell_type": "code",
   "execution_count": 581,
   "metadata": {},
   "outputs": [],
   "source": [
    "df_final_j = df_final_j.groupby('SK_ID_CURR')['ACTUAL_EAR']\\\n",
    ".agg(['mean','median','std'])\\\n",
    ".rename(columns={'mean':'MEAN_ACTUAL_EAR','median':'MEDIAN_ACTUAL_EAR', 'std':'STD_ACTUAL_EAR'})"
   ]
  },
  {
   "cell_type": "code",
   "execution_count": 582,
   "metadata": {},
   "outputs": [
    {
     "data": {
      "text/html": [
       "<div>\n",
       "<style scoped>\n",
       "    .dataframe tbody tr th:only-of-type {\n",
       "        vertical-align: middle;\n",
       "    }\n",
       "\n",
       "    .dataframe tbody tr th {\n",
       "        vertical-align: top;\n",
       "    }\n",
       "\n",
       "    .dataframe thead th {\n",
       "        text-align: right;\n",
       "    }\n",
       "</style>\n",
       "<table border=\"1\" class=\"dataframe\">\n",
       "  <thead>\n",
       "    <tr style=\"text-align: right;\">\n",
       "      <th></th>\n",
       "      <th>MEAN_ACTUAL_EAR</th>\n",
       "      <th>MEDIAN_ACTUAL_EAR</th>\n",
       "      <th>STD_ACTUAL_EAR</th>\n",
       "    </tr>\n",
       "    <tr>\n",
       "      <th>SK_ID_CURR</th>\n",
       "      <th></th>\n",
       "      <th></th>\n",
       "      <th></th>\n",
       "    </tr>\n",
       "  </thead>\n",
       "  <tbody>\n",
       "    <tr>\n",
       "      <th>100042</th>\n",
       "      <td>0.625341</td>\n",
       "      <td>0.524947</td>\n",
       "      <td>0.369478</td>\n",
       "    </tr>\n",
       "  </tbody>\n",
       "</table>\n",
       "</div>"
      ],
      "text/plain": [
       "            MEAN_ACTUAL_EAR  MEDIAN_ACTUAL_EAR  STD_ACTUAL_EAR\n",
       "SK_ID_CURR                                                    \n",
       "100042             0.625341           0.524947        0.369478"
      ]
     },
     "execution_count": 582,
     "metadata": {},
     "output_type": "execute_result"
    }
   ],
   "source": [
    "df_final_j"
   ]
  },
  {
   "cell_type": "code",
   "execution_count": 583,
   "metadata": {},
   "outputs": [],
   "source": [
    "df_expected_actual = df_final_j.join(df_expected_ear, on='SK_ID_CURR', how='inner')"
   ]
  },
  {
   "cell_type": "code",
   "execution_count": 584,
   "metadata": {},
   "outputs": [
    {
     "data": {
      "text/html": [
       "<div>\n",
       "<style scoped>\n",
       "    .dataframe tbody tr th:only-of-type {\n",
       "        vertical-align: middle;\n",
       "    }\n",
       "\n",
       "    .dataframe tbody tr th {\n",
       "        vertical-align: top;\n",
       "    }\n",
       "\n",
       "    .dataframe thead th {\n",
       "        text-align: right;\n",
       "    }\n",
       "</style>\n",
       "<table border=\"1\" class=\"dataframe\">\n",
       "  <thead>\n",
       "    <tr style=\"text-align: right;\">\n",
       "      <th></th>\n",
       "      <th>MEAN_ACTUAL_EAR</th>\n",
       "      <th>MEDIAN_ACTUAL_EAR</th>\n",
       "      <th>STD_ACTUAL_EAR</th>\n",
       "      <th>MEAN_EXPECTED_EAR</th>\n",
       "      <th>MEDIAN_EXPECTED_EAR</th>\n",
       "      <th>STD_EXPECTED_EAR</th>\n",
       "    </tr>\n",
       "    <tr>\n",
       "      <th>SK_ID_CURR</th>\n",
       "      <th></th>\n",
       "      <th></th>\n",
       "      <th></th>\n",
       "      <th></th>\n",
       "      <th></th>\n",
       "      <th></th>\n",
       "    </tr>\n",
       "  </thead>\n",
       "  <tbody>\n",
       "    <tr>\n",
       "      <th>100042</th>\n",
       "      <td>0.625341</td>\n",
       "      <td>0.524947</td>\n",
       "      <td>0.369478</td>\n",
       "      <td>0.404926</td>\n",
       "      <td>0.413872</td>\n",
       "      <td>0.222628</td>\n",
       "    </tr>\n",
       "  </tbody>\n",
       "</table>\n",
       "</div>"
      ],
      "text/plain": [
       "            MEAN_ACTUAL_EAR  MEDIAN_ACTUAL_EAR  STD_ACTUAL_EAR  \\\n",
       "SK_ID_CURR                                                       \n",
       "100042             0.625341           0.524947        0.369478   \n",
       "\n",
       "            MEAN_EXPECTED_EAR  MEDIAN_EXPECTED_EAR  STD_EXPECTED_EAR  \n",
       "SK_ID_CURR                                                            \n",
       "100042               0.404926             0.413872          0.222628  "
      ]
     },
     "execution_count": 584,
     "metadata": {},
     "output_type": "execute_result"
    }
   ],
   "source": [
    "df_expected_actual"
   ]
  },
  {
   "cell_type": "code",
   "execution_count": 665,
   "metadata": {},
   "outputs": [],
   "source": [
    "df_expected_ear.to_csv('/ws_nparigi/01_Work/04_mba/Year2/Block1/valuation/datascience-assignment/home-credit-default-risk/expected_ear.csv', index=True)"
   ]
  },
  {
   "cell_type": "code",
   "execution_count": null,
   "metadata": {},
   "outputs": [],
   "source": []
  }
 ],
 "metadata": {
  "kernelspec": {
   "display_name": "Python 3",
   "language": "python",
   "name": "python3"
  },
  "language_info": {
   "codemirror_mode": {
    "name": "ipython",
    "version": 3
   },
   "file_extension": ".py",
   "mimetype": "text/x-python",
   "name": "python",
   "nbconvert_exporter": "python",
   "pygments_lexer": "ipython3",
   "version": "3.7.3"
  }
 },
 "nbformat": 4,
 "nbformat_minor": 2
}
