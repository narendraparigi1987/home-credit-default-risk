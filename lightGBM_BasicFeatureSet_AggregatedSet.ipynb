{
 "cells": [
  {
   "cell_type": "markdown",
   "metadata": {},
   "source": [
    "working model with basic and aggregated features from application_train.csv"
   ]
  },
  {
   "cell_type": "code",
   "execution_count": 38,
   "metadata": {},
   "outputs": [],
   "source": [
    "import pandas as pd\n",
    "import numpy as np\n",
    "from sklearn.preprocessing import MinMaxScaler, LabelEncoder\n",
    "from sklearn.model_selection import train_test_split\n",
    "from sklearn.metrics import accuracy_score, roc_auc_score, confusion_matrix\n",
    "from sklearn.feature_selection import VarianceThreshold\n",
    "import lightgbm as lgb\n",
    "import matplotlib.pyplot as plt\n",
    "import seaborn as sns\n",
    "import warnings\n",
    "import gc\n",
    "warnings.filterwarnings('ignore')"
   ]
  },
  {
   "cell_type": "code",
   "execution_count": 39,
   "metadata": {},
   "outputs": [
    {
     "name": "stdout",
     "output_type": "stream",
     "text": [
      "Importing data...\n"
     ]
    }
   ],
   "source": [
    "print('Importing data...')\n",
    "train = pd.read_csv('application_train.csv')\n",
    "test = pd.read_csv('application_test.csv')"
   ]
  },
  {
   "cell_type": "markdown",
   "metadata": {},
   "source": [
    "# <a id=1 > 1. Processing test and train dataset </a>"
   ]
  },
  {
   "cell_type": "code",
   "execution_count": 40,
   "metadata": {},
   "outputs": [],
   "source": [
    "target = train['TARGET']\n",
    "del train['TARGET']"
   ]
  },
  {
   "cell_type": "code",
   "execution_count": 41,
   "metadata": {},
   "outputs": [],
   "source": [
    "data = pd.concat([train,test])"
   ]
  },
  {
   "cell_type": "code",
   "execution_count": 42,
   "metadata": {},
   "outputs": [
    {
     "data": {
      "text/plain": [
       "((356255, 121), (307511, 121), (48744, 121))"
      ]
     },
     "execution_count": 42,
     "metadata": {},
     "output_type": "execute_result"
    }
   ],
   "source": [
    "data.shape, train.shape, test.shape"
   ]
  },
  {
   "cell_type": "code",
   "execution_count": 43,
   "metadata": {},
   "outputs": [],
   "source": [
    "docs = [col for col in data.columns if 'FLAG_DOC' in col]\n",
    "# Flag_document features - count and kurtosis\n",
    "data['DOCUMENT_COUNT'] = data[docs].sum(axis=1)\n",
    "data['NEW_DOC_KURT'] = data[docs].kurtosis(axis=1)  #long tails"
   ]
  },
  {
   "cell_type": "code",
   "execution_count": 44,
   "metadata": {},
   "outputs": [],
   "source": [
    "def get_age_label(days_birth):\n",
    "    \"\"\" Return the age group label (int). \"\"\"\n",
    "    age_years = -days_birth / 365\n",
    "    if age_years < 27: return 1\n",
    "    elif age_years < 40: return 2\n",
    "    elif age_years < 50: return 3\n",
    "    elif age_years < 65: return 4\n",
    "    elif age_years < 99: return 5\n",
    "    else: return 0"
   ]
  },
  {
   "cell_type": "code",
   "execution_count": 45,
   "metadata": {},
   "outputs": [],
   "source": [
    "# Categorical age - based on target=1 plot\n",
    "data['AGE_RANGE'] = data['DAYS_BIRTH'].apply(lambda x: get_age_label(x))"
   ]
  },
  {
   "cell_type": "code",
   "execution_count": 46,
   "metadata": {},
   "outputs": [],
   "source": [
    "# New features based on External sources\n",
    "data['EXT_SOURCES_PROD'] = data['EXT_SOURCE_1'] * data['EXT_SOURCE_2'] * data['EXT_SOURCE_3']\n",
    "data['EXT_SOURCES_WEIGHTED'] = data.EXT_SOURCE_1 * 2 + data.EXT_SOURCE_2 * 1 + data.EXT_SOURCE_3 * 3\n",
    "np.warnings.filterwarnings('ignore', r'All-NaN (slice|axis) encountered')\n",
    "for function_name in ['min', 'max', 'mean', 'nanmedian', 'var']:\n",
    "        feature_name = 'EXT_SOURCES_{}'.format(function_name.upper())\n",
    "        data[feature_name] = eval('np.{}'.format(function_name))(\n",
    "            data[['EXT_SOURCE_1', 'EXT_SOURCE_2', 'EXT_SOURCE_3']], axis=1)"
   ]
  },
  {
   "cell_type": "code",
   "execution_count": 47,
   "metadata": {},
   "outputs": [],
   "source": [
    "# Credit ratios\n",
    "data['CREDIT_TO_ANNUITY_RATIO'] = data['AMT_CREDIT'] / data['AMT_ANNUITY']\n",
    "data['CREDIT_TO_GOODS_RATIO'] = data['AMT_CREDIT'] / data['AMT_GOODS_PRICE']"
   ]
  },
  {
   "cell_type": "code",
   "execution_count": 48,
   "metadata": {},
   "outputs": [],
   "source": [
    "# Income ratios\n",
    "data['ANNUITY_TO_INCOME_RATIO'] = data['AMT_ANNUITY'] / data['AMT_INCOME_TOTAL']\n",
    "data['CREDIT_TO_INCOME_RATIO'] = data['AMT_CREDIT'] / data['AMT_INCOME_TOTAL']\n",
    "data['INCOME_TO_EMPLOYED_RATIO'] = data['AMT_INCOME_TOTAL'] / data['DAYS_EMPLOYED']\n",
    "data['INCOME_TO_BIRTH_RATIO'] = data['AMT_INCOME_TOTAL'] / data['DAYS_BIRTH']\n",
    "data['INCOME_TO_CREDIT_RATION'] = data['AMT_INCOME_TOTAL'] / data['AMT_CREDIT']\n",
    "data['INCOME_PER_PERSON'] = data['AMT_INCOME_TOTAL'] / data['CNT_FAM_MEMBERS']"
   ]
  },
  {
   "cell_type": "code",
   "execution_count": 49,
   "metadata": {},
   "outputs": [],
   "source": [
    "# Time ratios\n",
    "data['EMPLOYED_TO_BIRTH_RATIO'] = data['DAYS_EMPLOYED'] / data['DAYS_BIRTH']\n",
    "data['ID_TO_BIRTH_RATIO'] = data['DAYS_ID_PUBLISH'] / data['DAYS_BIRTH']\n",
    "data['CAR_TO_BIRTH_RATIO'] = data['OWN_CAR_AGE'] / data['DAYS_BIRTH']\n",
    "data['CAR_TO_EMPLOYED_RATIO'] = data['OWN_CAR_AGE'] / data['DAYS_EMPLOYED']\n",
    "data['PHONE_TO_BIRTH_RATIO'] = data['DAYS_LAST_PHONE_CHANGE'] / data['DAYS_BIRTH']"
   ]
  },
  {
   "cell_type": "code",
   "execution_count": 50,
   "metadata": {},
   "outputs": [],
   "source": [
    "def do_mean(df, group_cols, counted, agg_name):\n",
    "    gp = df[group_cols + [counted]].groupby(group_cols)[counted].mean().reset_index().rename(\n",
    "        columns={counted: agg_name})\n",
    "    df = df.merge(gp, on=group_cols, how='left')\n",
    "    del gp\n",
    "    gc.collect()\n",
    "    return df\n",
    "\n",
    "\n",
    "def do_median(df, group_cols, counted, agg_name):\n",
    "    gp = df[group_cols + [counted]].groupby(group_cols)[counted].median().reset_index().rename(\n",
    "        columns={counted: agg_name})\n",
    "    df = df.merge(gp, on=group_cols, how='left')\n",
    "    del gp\n",
    "    gc.collect()\n",
    "    return df\n",
    "\n",
    "\n",
    "def do_std(df, group_cols, counted, agg_name):\n",
    "    gp = df[group_cols + [counted]].groupby(group_cols)[counted].std().reset_index().rename(\n",
    "        columns={counted: agg_name})\n",
    "    df = df.merge(gp, on=group_cols, how='left')\n",
    "    del gp\n",
    "    gc.collect()\n",
    "    return df\n",
    "\n",
    "\n",
    "def do_sum(df, group_cols, counted, agg_name):\n",
    "    gp = df[group_cols + [counted]].groupby(group_cols)[counted].sum().reset_index().rename(\n",
    "        columns={counted: agg_name})\n",
    "    df = df.merge(gp, on=group_cols, how='left')\n",
    "    del gp\n",
    "    gc.collect()\n",
    "    return df"
   ]
  },
  {
   "cell_type": "code",
   "execution_count": 51,
   "metadata": {},
   "outputs": [],
   "source": [
    "# Groupby: Statistics for applications in the same group\n",
    "group = ['ORGANIZATION_TYPE', 'NAME_EDUCATION_TYPE', 'OCCUPATION_TYPE', 'AGE_RANGE', 'CODE_GENDER']\n",
    "data = do_median(data, group, 'EXT_SOURCES_MEAN', 'GROUP_EXT_SOURCES_MEDIAN')\n",
    "data = do_std(data, group, 'EXT_SOURCES_MEAN', 'GROUP_EXT_SOURCES_STD')\n",
    "data = do_mean(data, group, 'AMT_INCOME_TOTAL', 'GROUP_INCOME_MEAN')\n",
    "data = do_std(data, group, 'AMT_INCOME_TOTAL', 'GROUP_INCOME_STD')\n",
    "data = do_mean(data, group, 'CREDIT_TO_ANNUITY_RATIO', 'GROUP_CREDIT_TO_ANNUITY_MEAN')\n",
    "data = do_std(data, group, 'CREDIT_TO_ANNUITY_RATIO', 'GROUP_CREDIT_TO_ANNUITY_STD')\n",
    "data = do_mean(data, group, 'AMT_CREDIT', 'GROUP_CREDIT_MEAN')\n",
    "data = do_mean(data, group, 'AMT_ANNUITY', 'GROUP_ANNUITY_MEAN')\n",
    "data = do_std(data, group, 'AMT_ANNUITY', 'GROUP_ANNUITY_STD')"
   ]
  },
  {
   "cell_type": "code",
   "execution_count": 52,
   "metadata": {},
   "outputs": [],
   "source": [
    "# one-hot encoding\n",
    "categorical_features = [col for col in data.columns if data[col].dtype == 'object']\n",
    "data = pd.get_dummies(data, columns=categorical_features)"
   ]
  },
  {
   "cell_type": "code",
   "execution_count": 53,
   "metadata": {},
   "outputs": [
    {
     "data": {
      "text/plain": [
       "(356255, 277)"
      ]
     },
     "execution_count": 53,
     "metadata": {},
     "output_type": "execute_result"
    }
   ],
   "source": [
    "data.shape"
   ]
  },
  {
   "cell_type": "code",
   "execution_count": 54,
   "metadata": {},
   "outputs": [
    {
     "name": "stdout",
     "output_type": "stream",
     "text": [
      "Pre-processing previous_application...\n"
     ]
    }
   ],
   "source": [
    "#Pre-processing previous_application\n",
    "print('Pre-processing previous_application...')\n",
    "prev = pd.read_csv('previous_application.csv')\n",
    "prev_cat_features = [pcol for pcol in prev.columns if prev[pcol].dtype == 'object']\n",
    "prev = pd.get_dummies(prev, columns=prev_cat_features)\n",
    "avg_prev = prev.groupby('SK_ID_CURR').mean()\n",
    "cnt_prev = prev[['SK_ID_CURR', 'SK_ID_PREV']].groupby('SK_ID_CURR').count()\n",
    "avg_prev['COUNT_PREV_APP'] = cnt_prev['SK_ID_PREV']\n",
    "del avg_prev['SK_ID_PREV']"
   ]
  },
  {
   "cell_type": "code",
   "execution_count": 55,
   "metadata": {},
   "outputs": [],
   "source": [
    "data = data.merge(right=avg_prev.reset_index(), how='left', on='SK_ID_CURR')"
   ]
  },
  {
   "cell_type": "code",
   "execution_count": 56,
   "metadata": {},
   "outputs": [
    {
     "data": {
      "text/plain": [
       "(356255, 440)"
      ]
     },
     "execution_count": 56,
     "metadata": {},
     "output_type": "execute_result"
    }
   ],
   "source": [
    "data.shape"
   ]
  },
  {
   "cell_type": "code",
   "execution_count": 57,
   "metadata": {},
   "outputs": [],
   "source": [
    "train = data.iloc[:train.shape[0],:]\n",
    "test = data.iloc[train.shape[0]:,]"
   ]
  },
  {
   "cell_type": "code",
   "execution_count": 58,
   "metadata": {},
   "outputs": [
    {
     "data": {
      "text/plain": [
       "((356255, 440), (307511, 440), (48744, 440))"
      ]
     },
     "execution_count": 58,
     "metadata": {},
     "output_type": "execute_result"
    }
   ],
   "source": [
    "data.shape, train.shape, test.shape"
   ]
  },
  {
   "cell_type": "code",
   "execution_count": 59,
   "metadata": {},
   "outputs": [],
   "source": [
    "del train['SK_ID_CURR']\n",
    "del test['SK_ID_CURR']"
   ]
  },
  {
   "cell_type": "code",
   "execution_count": 60,
   "metadata": {},
   "outputs": [],
   "source": [
    "train_x, valid_x, train_y, valid_y = train_test_split(train, target, test_size=0.2, shuffle=True)"
   ]
  },
  {
   "cell_type": "code",
   "execution_count": 61,
   "metadata": {},
   "outputs": [],
   "source": [
    "#------------------------Build LightGBM Model-----------------------\n",
    "train_data=lgb.Dataset(train_x,label=train_y)\n",
    "valid_data=lgb.Dataset(valid_x,label=valid_y)"
   ]
  },
  {
   "cell_type": "code",
   "execution_count": 62,
   "metadata": {},
   "outputs": [],
   "source": [
    "#Select Hyper-Parameters\n",
    "params = {'boosting_type': 'gbdt',\n",
    "          'max_depth' : 10,\n",
    "          'objective': 'binary',\n",
    "          'nthread': 5,\n",
    "          'num_leaves': 64,\n",
    "          'learning_rate': 0.05,\n",
    "          'max_bin': 512,\n",
    "          'subsample_for_bin': 200,\n",
    "          'subsample': 1,\n",
    "          'subsample_freq': 1,\n",
    "          'colsample_bytree': 0.8,\n",
    "          'reg_alpha': 5,\n",
    "          'reg_lambda': 10,\n",
    "          'min_split_gain': 0.5,\n",
    "          'min_child_weight': 1,\n",
    "          'min_child_samples': 5,\n",
    "          'scale_pos_weight': 1,\n",
    "          'num_class' : 1,\n",
    "          'metric' : 'auc'\n",
    "          }"
   ]
  },
  {
   "cell_type": "code",
   "execution_count": 63,
   "metadata": {},
   "outputs": [
    {
     "name": "stdout",
     "output_type": "stream",
     "text": [
      "Training until validation scores don't improve for 40 rounds.\n",
      "[10]\tvalid_0's auc: 0.739748\n",
      "[20]\tvalid_0's auc: 0.745231\n",
      "[30]\tvalid_0's auc: 0.750115\n",
      "[40]\tvalid_0's auc: 0.75435\n",
      "[50]\tvalid_0's auc: 0.75794\n",
      "[60]\tvalid_0's auc: 0.760673\n",
      "[70]\tvalid_0's auc: 0.763058\n",
      "[80]\tvalid_0's auc: 0.764901\n",
      "[90]\tvalid_0's auc: 0.766622\n",
      "[100]\tvalid_0's auc: 0.767988\n",
      "[110]\tvalid_0's auc: 0.768741\n",
      "[120]\tvalid_0's auc: 0.76971\n",
      "[130]\tvalid_0's auc: 0.770568\n",
      "[140]\tvalid_0's auc: 0.771251\n",
      "[150]\tvalid_0's auc: 0.771778\n",
      "[160]\tvalid_0's auc: 0.772236\n",
      "[170]\tvalid_0's auc: 0.772734\n",
      "[180]\tvalid_0's auc: 0.773128\n",
      "[190]\tvalid_0's auc: 0.773536\n",
      "[200]\tvalid_0's auc: 0.77354\n",
      "[210]\tvalid_0's auc: 0.773577\n",
      "[220]\tvalid_0's auc: 0.773791\n",
      "[230]\tvalid_0's auc: 0.773924\n",
      "[240]\tvalid_0's auc: 0.774109\n",
      "[250]\tvalid_0's auc: 0.774288\n",
      "[260]\tvalid_0's auc: 0.774489\n",
      "[270]\tvalid_0's auc: 0.774561\n",
      "[280]\tvalid_0's auc: 0.774461\n",
      "[290]\tvalid_0's auc: 0.774546\n",
      "[300]\tvalid_0's auc: 0.774533\n",
      "[310]\tvalid_0's auc: 0.774592\n",
      "[320]\tvalid_0's auc: 0.774623\n",
      "[330]\tvalid_0's auc: 0.774634\n",
      "[340]\tvalid_0's auc: 0.774737\n",
      "[350]\tvalid_0's auc: 0.77474\n",
      "[360]\tvalid_0's auc: 0.774841\n",
      "[370]\tvalid_0's auc: 0.774712\n",
      "[380]\tvalid_0's auc: 0.774756\n",
      "[390]\tvalid_0's auc: 0.774861\n",
      "[400]\tvalid_0's auc: 0.774809\n",
      "[410]\tvalid_0's auc: 0.774788\n",
      "[420]\tvalid_0's auc: 0.774798\n",
      "Early stopping, best iteration is:\n",
      "[389]\tvalid_0's auc: 0.774876\n"
     ]
    }
   ],
   "source": [
    "#Train model on selected parameters and number of iterations\n",
    "lgbm = lgb.train(params,\n",
    "                 train_data,\n",
    "                 2500,\n",
    "                 valid_sets=valid_data,\n",
    "                 early_stopping_rounds= 40,\n",
    "                 verbose_eval= 10\n",
    "                 )"
   ]
  },
  {
   "cell_type": "code",
   "execution_count": 64,
   "metadata": {},
   "outputs": [
    {
     "data": {
      "text/plain": [
       "array([[56426,   140],\n",
       "       [ 4753,   184]])"
      ]
     },
     "execution_count": 64,
     "metadata": {},
     "output_type": "execute_result"
    }
   ],
   "source": [
    "# Confusion matrix\n",
    "predictions_validy = lgbm.predict(valid_x)\n",
    "p_validy = np.where(predictions_validy > 0.5, 1, 0)\n",
    "\n",
    "from sklearn.metrics import confusion_matrix\n",
    "cm = confusion_matrix(valid_y, p_validy)\n",
    "cm"
   ]
  },
  {
   "cell_type": "code",
   "execution_count": 65,
   "metadata": {},
   "outputs": [
    {
     "data": {
      "text/plain": [
       "<matplotlib.axes._subplots.AxesSubplot at 0x12c9ab400>"
      ]
     },
     "execution_count": 65,
     "metadata": {},
     "output_type": "execute_result"
    },
    {
     "data": {
      "image/png": "[encoded data removed]",
      "text/plain": [
       "<Figure size 432x288 with 1 Axes>"
      ]
     },
     "metadata": {
      "needs_background": "light"
     },
     "output_type": "display_data"
    },
    {
     "data": {
      "image/png": "[encoded data removed]",
      "text/plain": [
       "<Figure size 432x288 with 1 Axes>"
      ]
     },
     "metadata": {
      "needs_background": "light"
     },
     "output_type": "display_data"
    }
   ],
   "source": [
    "#Plot Variable Importances\n",
    "lgb.plot_importance(lgbm, max_num_features=10, importance_type='split')\n",
    "lgb.plot_importance(lgbm, max_num_features=10, importance_type='gain')"
   ]
  },
  {
   "cell_type": "code",
   "execution_count": 66,
   "metadata": {},
   "outputs": [],
   "source": [
    "predictions_lgbm_prob = lgbm.predict(test)"
   ]
  },
  {
   "cell_type": "code",
   "execution_count": 67,
   "metadata": {},
   "outputs": [],
   "source": [
    "lgbm_submission = pd.read_csv('sample_submission.csv')"
   ]
  },
  {
   "cell_type": "code",
   "execution_count": 68,
   "metadata": {},
   "outputs": [],
   "source": [
    "lgbm_submission.TARGET = predictions_lgbm_prob"
   ]
  },
  {
   "cell_type": "code",
   "execution_count": 69,
   "metadata": {},
   "outputs": [],
   "source": [
    "lgbm_submission.to_csv('lgbm_submission.csv', index=False) #score : 0.774029"
   ]
  },
  {
   "cell_type": "markdown",
   "metadata": {},
   "source": [
    "data columns"
   ]
  },
  {
   "cell_type": "code",
   "execution_count": 70,
   "metadata": {},
   "outputs": [],
   "source": [
    "column_info = pd.read_csv('HomeCredit_columns_description.csv', encoding = 'unicode_escape')"
   ]
  },
  {
   "cell_type": "code",
   "execution_count": 71,
   "metadata": {},
   "outputs": [
    {
     "data": {
      "text/html": [
       "<div>\n",
       "<style scoped>\n",
       "    .dataframe tbody tr th:only-of-type {\n",
       "        vertical-align: middle;\n",
       "    }\n",
       "\n",
       "    .dataframe tbody tr th {\n",
       "        vertical-align: top;\n",
       "    }\n",
       "\n",
       "    .dataframe thead th {\n",
       "        text-align: right;\n",
       "    }\n",
       "</style>\n",
       "<table border=\"1\" class=\"dataframe\">\n",
       "  <thead>\n",
       "    <tr style=\"text-align: right;\">\n",
       "      <th></th>\n",
       "      <th>Unnamed: 0</th>\n",
       "      <th>Table</th>\n",
       "      <th>Row</th>\n",
       "      <th>Description</th>\n",
       "      <th>Special</th>\n",
       "    </tr>\n",
       "  </thead>\n",
       "  <tbody>\n",
       "    <tr>\n",
       "      <th>173</th>\n",
       "      <td>176</td>\n",
       "      <td>previous_application.csv</td>\n",
       "      <td>SK_ID_PREV</td>\n",
       "      <td>ID of previous credit in Home credit related t...</td>\n",
       "      <td>hashed</td>\n",
       "    </tr>\n",
       "    <tr>\n",
       "      <th>174</th>\n",
       "      <td>177</td>\n",
       "      <td>previous_application.csv</td>\n",
       "      <td>SK_ID_CURR</td>\n",
       "      <td>ID of loan in our sample</td>\n",
       "      <td>hashed</td>\n",
       "    </tr>\n",
       "    <tr>\n",
       "      <th>175</th>\n",
       "      <td>178</td>\n",
       "      <td>previous_application.csv</td>\n",
       "      <td>NAME_CONTRACT_TYPE</td>\n",
       "      <td>Contract product type (Cash loan, consumer loa...</td>\n",
       "      <td>NaN</td>\n",
       "    </tr>\n",
       "    <tr>\n",
       "      <th>176</th>\n",
       "      <td>179</td>\n",
       "      <td>previous_application.csv</td>\n",
       "      <td>AMT_ANNUITY</td>\n",
       "      <td>Annuity of previous application</td>\n",
       "      <td>NaN</td>\n",
       "    </tr>\n",
       "    <tr>\n",
       "      <th>177</th>\n",
       "      <td>180</td>\n",
       "      <td>previous_application.csv</td>\n",
       "      <td>AMT_APPLICATION</td>\n",
       "      <td>For how much credit did client ask on the prev...</td>\n",
       "      <td>NaN</td>\n",
       "    </tr>\n",
       "    <tr>\n",
       "      <th>178</th>\n",
       "      <td>181</td>\n",
       "      <td>previous_application.csv</td>\n",
       "      <td>AMT_CREDIT</td>\n",
       "      <td>Final credit amount on the previous applicatio...</td>\n",
       "      <td>NaN</td>\n",
       "    </tr>\n",
       "    <tr>\n",
       "      <th>179</th>\n",
       "      <td>182</td>\n",
       "      <td>previous_application.csv</td>\n",
       "      <td>AMT_DOWN_PAYMENT</td>\n",
       "      <td>Down payment on the previous application</td>\n",
       "      <td>NaN</td>\n",
       "    </tr>\n",
       "    <tr>\n",
       "      <th>180</th>\n",
       "      <td>183</td>\n",
       "      <td>previous_application.csv</td>\n",
       "      <td>AMT_GOODS_PRICE</td>\n",
       "      <td>Goods price of good that client asked for (if ...</td>\n",
       "      <td>NaN</td>\n",
       "    </tr>\n",
       "    <tr>\n",
       "      <th>181</th>\n",
       "      <td>184</td>\n",
       "      <td>previous_application.csv</td>\n",
       "      <td>WEEKDAY_APPR_PROCESS_START</td>\n",
       "      <td>On which day of the week did the client apply ...</td>\n",
       "      <td>NaN</td>\n",
       "    </tr>\n",
       "    <tr>\n",
       "      <th>182</th>\n",
       "      <td>185</td>\n",
       "      <td>previous_application.csv</td>\n",
       "      <td>HOUR_APPR_PROCESS_START</td>\n",
       "      <td>Approximately at what day hour did the client ...</td>\n",
       "      <td>rounded</td>\n",
       "    </tr>\n",
       "    <tr>\n",
       "      <th>183</th>\n",
       "      <td>186</td>\n",
       "      <td>previous_application.csv</td>\n",
       "      <td>FLAG_LAST_APPL_PER_CONTRACT</td>\n",
       "      <td>Flag if it was last application for the previo...</td>\n",
       "      <td>NaN</td>\n",
       "    </tr>\n",
       "    <tr>\n",
       "      <th>184</th>\n",
       "      <td>187</td>\n",
       "      <td>previous_application.csv</td>\n",
       "      <td>NFLAG_LAST_APPL_IN_DAY</td>\n",
       "      <td>Flag if the application was the last applicati...</td>\n",
       "      <td>NaN</td>\n",
       "    </tr>\n",
       "    <tr>\n",
       "      <th>185</th>\n",
       "      <td>188</td>\n",
       "      <td>previous_application.csv</td>\n",
       "      <td>NFLAG_MICRO_CASH</td>\n",
       "      <td>Flag Micro finance loan</td>\n",
       "      <td>NaN</td>\n",
       "    </tr>\n",
       "    <tr>\n",
       "      <th>186</th>\n",
       "      <td>189</td>\n",
       "      <td>previous_application.csv</td>\n",
       "      <td>RATE_DOWN_PAYMENT</td>\n",
       "      <td>Down payment rate normalized on previous credit</td>\n",
       "      <td>normalized</td>\n",
       "    </tr>\n",
       "    <tr>\n",
       "      <th>187</th>\n",
       "      <td>190</td>\n",
       "      <td>previous_application.csv</td>\n",
       "      <td>RATE_INTEREST_PRIMARY</td>\n",
       "      <td>Interest rate normalized on previous credit</td>\n",
       "      <td>normalized</td>\n",
       "    </tr>\n",
       "    <tr>\n",
       "      <th>188</th>\n",
       "      <td>191</td>\n",
       "      <td>previous_application.csv</td>\n",
       "      <td>RATE_INTEREST_PRIVILEGED</td>\n",
       "      <td>Interest rate normalized on previous credit</td>\n",
       "      <td>normalized</td>\n",
       "    </tr>\n",
       "    <tr>\n",
       "      <th>189</th>\n",
       "      <td>192</td>\n",
       "      <td>previous_application.csv</td>\n",
       "      <td>NAME_CASH_LOAN_PURPOSE</td>\n",
       "      <td>Purpose of the cash loan</td>\n",
       "      <td>NaN</td>\n",
       "    </tr>\n",
       "    <tr>\n",
       "      <th>190</th>\n",
       "      <td>193</td>\n",
       "      <td>previous_application.csv</td>\n",
       "      <td>NAME_CONTRACT_STATUS</td>\n",
       "      <td>Contract status (approved, cancelled, ...) of ...</td>\n",
       "      <td>NaN</td>\n",
       "    </tr>\n",
       "    <tr>\n",
       "      <th>191</th>\n",
       "      <td>194</td>\n",
       "      <td>previous_application.csv</td>\n",
       "      <td>DAYS_DECISION</td>\n",
       "      <td>Relative to current application when was the d...</td>\n",
       "      <td>time only relative to the application</td>\n",
       "    </tr>\n",
       "    <tr>\n",
       "      <th>192</th>\n",
       "      <td>195</td>\n",
       "      <td>previous_application.csv</td>\n",
       "      <td>NAME_PAYMENT_TYPE</td>\n",
       "      <td>Payment method that client chose to pay for th...</td>\n",
       "      <td>NaN</td>\n",
       "    </tr>\n",
       "    <tr>\n",
       "      <th>193</th>\n",
       "      <td>196</td>\n",
       "      <td>previous_application.csv</td>\n",
       "      <td>CODE_REJECT_REASON</td>\n",
       "      <td>Why was the previous application rejected</td>\n",
       "      <td>NaN</td>\n",
       "    </tr>\n",
       "    <tr>\n",
       "      <th>194</th>\n",
       "      <td>197</td>\n",
       "      <td>previous_application.csv</td>\n",
       "      <td>NAME_TYPE_SUITE</td>\n",
       "      <td>Who accompanied client when applying for the p...</td>\n",
       "      <td>NaN</td>\n",
       "    </tr>\n",
       "    <tr>\n",
       "      <th>195</th>\n",
       "      <td>198</td>\n",
       "      <td>previous_application.csv</td>\n",
       "      <td>NAME_CLIENT_TYPE</td>\n",
       "      <td>Was the client old or new client when applying...</td>\n",
       "      <td>NaN</td>\n",
       "    </tr>\n",
       "    <tr>\n",
       "      <th>196</th>\n",
       "      <td>199</td>\n",
       "      <td>previous_application.csv</td>\n",
       "      <td>NAME_GOODS_CATEGORY</td>\n",
       "      <td>What kind of goods did the client apply for in...</td>\n",
       "      <td>NaN</td>\n",
       "    </tr>\n",
       "    <tr>\n",
       "      <th>197</th>\n",
       "      <td>200</td>\n",
       "      <td>previous_application.csv</td>\n",
       "      <td>NAME_PORTFOLIO</td>\n",
       "      <td>Was the previous application for CASH, POS, CA...</td>\n",
       "      <td>NaN</td>\n",
       "    </tr>\n",
       "    <tr>\n",
       "      <th>198</th>\n",
       "      <td>201</td>\n",
       "      <td>previous_application.csv</td>\n",
       "      <td>NAME_PRODUCT_TYPE</td>\n",
       "      <td>Was the previous application x-sell o walk-in</td>\n",
       "      <td>NaN</td>\n",
       "    </tr>\n",
       "    <tr>\n",
       "      <th>199</th>\n",
       "      <td>202</td>\n",
       "      <td>previous_application.csv</td>\n",
       "      <td>CHANNEL_TYPE</td>\n",
       "      <td>Through which channel we acquired the client o...</td>\n",
       "      <td>NaN</td>\n",
       "    </tr>\n",
       "    <tr>\n",
       "      <th>200</th>\n",
       "      <td>203</td>\n",
       "      <td>previous_application.csv</td>\n",
       "      <td>SELLERPLACE_AREA</td>\n",
       "      <td>Selling area of seller place of the previous a...</td>\n",
       "      <td>NaN</td>\n",
       "    </tr>\n",
       "    <tr>\n",
       "      <th>201</th>\n",
       "      <td>204</td>\n",
       "      <td>previous_application.csv</td>\n",
       "      <td>NAME_SELLER_INDUSTRY</td>\n",
       "      <td>The industry of the seller</td>\n",
       "      <td>NaN</td>\n",
       "    </tr>\n",
       "    <tr>\n",
       "      <th>202</th>\n",
       "      <td>205</td>\n",
       "      <td>previous_application.csv</td>\n",
       "      <td>CNT_PAYMENT</td>\n",
       "      <td>Term of previous credit at application of the ...</td>\n",
       "      <td>NaN</td>\n",
       "    </tr>\n",
       "    <tr>\n",
       "      <th>203</th>\n",
       "      <td>206</td>\n",
       "      <td>previous_application.csv</td>\n",
       "      <td>NAME_YIELD_GROUP</td>\n",
       "      <td>Grouped interest rate into small medium and hi...</td>\n",
       "      <td>grouped</td>\n",
       "    </tr>\n",
       "    <tr>\n",
       "      <th>204</th>\n",
       "      <td>207</td>\n",
       "      <td>previous_application.csv</td>\n",
       "      <td>PRODUCT_COMBINATION</td>\n",
       "      <td>Detailed product combination of the previous a...</td>\n",
       "      <td>NaN</td>\n",
       "    </tr>\n",
       "    <tr>\n",
       "      <th>205</th>\n",
       "      <td>208</td>\n",
       "      <td>previous_application.csv</td>\n",
       "      <td>DAYS_FIRST_DRAWING</td>\n",
       "      <td>Relative to application date of current applic...</td>\n",
       "      <td>time only relative to the application</td>\n",
       "    </tr>\n",
       "    <tr>\n",
       "      <th>206</th>\n",
       "      <td>209</td>\n",
       "      <td>previous_application.csv</td>\n",
       "      <td>DAYS_FIRST_DUE</td>\n",
       "      <td>Relative to application date of current applic...</td>\n",
       "      <td>time only relative to the application</td>\n",
       "    </tr>\n",
       "    <tr>\n",
       "      <th>207</th>\n",
       "      <td>210</td>\n",
       "      <td>previous_application.csv</td>\n",
       "      <td>DAYS_LAST_DUE_1ST_VERSION</td>\n",
       "      <td>Relative to application date of current applic...</td>\n",
       "      <td>time only relative to the application</td>\n",
       "    </tr>\n",
       "    <tr>\n",
       "      <th>208</th>\n",
       "      <td>211</td>\n",
       "      <td>previous_application.csv</td>\n",
       "      <td>DAYS_LAST_DUE</td>\n",
       "      <td>Relative to application date of current applic...</td>\n",
       "      <td>time only relative to the application</td>\n",
       "    </tr>\n",
       "    <tr>\n",
       "      <th>209</th>\n",
       "      <td>212</td>\n",
       "      <td>previous_application.csv</td>\n",
       "      <td>DAYS_TERMINATION</td>\n",
       "      <td>Relative to application date of current applic...</td>\n",
       "      <td>time only relative to the application</td>\n",
       "    </tr>\n",
       "    <tr>\n",
       "      <th>210</th>\n",
       "      <td>213</td>\n",
       "      <td>previous_application.csv</td>\n",
       "      <td>NFLAG_INSURED_ON_APPROVAL</td>\n",
       "      <td>Did the client requested insurance during the ...</td>\n",
       "      <td>NaN</td>\n",
       "    </tr>\n",
       "  </tbody>\n",
       "</table>\n",
       "</div>"
      ],
      "text/plain": [
       "     Unnamed: 0                     Table                          Row  \\\n",
       "173         176  previous_application.csv                  SK_ID_PREV    \n",
       "174         177  previous_application.csv                   SK_ID_CURR   \n",
       "175         178  previous_application.csv           NAME_CONTRACT_TYPE   \n",
       "176         179  previous_application.csv                  AMT_ANNUITY   \n",
       "177         180  previous_application.csv              AMT_APPLICATION   \n",
       "178         181  previous_application.csv                   AMT_CREDIT   \n",
       "179         182  previous_application.csv             AMT_DOWN_PAYMENT   \n",
       "180         183  previous_application.csv              AMT_GOODS_PRICE   \n",
       "181         184  previous_application.csv   WEEKDAY_APPR_PROCESS_START   \n",
       "182         185  previous_application.csv      HOUR_APPR_PROCESS_START   \n",
       "183         186  previous_application.csv  FLAG_LAST_APPL_PER_CONTRACT   \n",
       "184         187  previous_application.csv       NFLAG_LAST_APPL_IN_DAY   \n",
       "185         188  previous_application.csv             NFLAG_MICRO_CASH   \n",
       "186         189  previous_application.csv            RATE_DOWN_PAYMENT   \n",
       "187         190  previous_application.csv        RATE_INTEREST_PRIMARY   \n",
       "188         191  previous_application.csv     RATE_INTEREST_PRIVILEGED   \n",
       "189         192  previous_application.csv       NAME_CASH_LOAN_PURPOSE   \n",
       "190         193  previous_application.csv         NAME_CONTRACT_STATUS   \n",
       "191         194  previous_application.csv                DAYS_DECISION   \n",
       "192         195  previous_application.csv            NAME_PAYMENT_TYPE   \n",
       "193         196  previous_application.csv           CODE_REJECT_REASON   \n",
       "194         197  previous_application.csv              NAME_TYPE_SUITE   \n",
       "195         198  previous_application.csv             NAME_CLIENT_TYPE   \n",
       "196         199  previous_application.csv          NAME_GOODS_CATEGORY   \n",
       "197         200  previous_application.csv               NAME_PORTFOLIO   \n",
       "198         201  previous_application.csv            NAME_PRODUCT_TYPE   \n",
       "199         202  previous_application.csv                 CHANNEL_TYPE   \n",
       "200         203  previous_application.csv             SELLERPLACE_AREA   \n",
       "201         204  previous_application.csv         NAME_SELLER_INDUSTRY   \n",
       "202         205  previous_application.csv                  CNT_PAYMENT   \n",
       "203         206  previous_application.csv             NAME_YIELD_GROUP   \n",
       "204         207  previous_application.csv          PRODUCT_COMBINATION   \n",
       "205         208  previous_application.csv           DAYS_FIRST_DRAWING   \n",
       "206         209  previous_application.csv               DAYS_FIRST_DUE   \n",
       "207         210  previous_application.csv    DAYS_LAST_DUE_1ST_VERSION   \n",
       "208         211  previous_application.csv                DAYS_LAST_DUE   \n",
       "209         212  previous_application.csv             DAYS_TERMINATION   \n",
       "210         213  previous_application.csv    NFLAG_INSURED_ON_APPROVAL   \n",
       "\n",
       "                                           Description  \\\n",
       "173  ID of previous credit in Home credit related t...   \n",
       "174                           ID of loan in our sample   \n",
       "175  Contract product type (Cash loan, consumer loa...   \n",
       "176                    Annuity of previous application   \n",
       "177  For how much credit did client ask on the prev...   \n",
       "178  Final credit amount on the previous applicatio...   \n",
       "179           Down payment on the previous application   \n",
       "180  Goods price of good that client asked for (if ...   \n",
       "181  On which day of the week did the client apply ...   \n",
       "182  Approximately at what day hour did the client ...   \n",
       "183  Flag if it was last application for the previo...   \n",
       "184  Flag if the application was the last applicati...   \n",
       "185                            Flag Micro finance loan   \n",
       "186    Down payment rate normalized on previous credit   \n",
       "187        Interest rate normalized on previous credit   \n",
       "188        Interest rate normalized on previous credit   \n",
       "189                           Purpose of the cash loan   \n",
       "190  Contract status (approved, cancelled, ...) of ...   \n",
       "191  Relative to current application when was the d...   \n",
       "192  Payment method that client chose to pay for th...   \n",
       "193          Why was the previous application rejected   \n",
       "194  Who accompanied client when applying for the p...   \n",
       "195  Was the client old or new client when applying...   \n",
       "196  What kind of goods did the client apply for in...   \n",
       "197  Was the previous application for CASH, POS, CA...   \n",
       "198      Was the previous application x-sell o walk-in   \n",
       "199  Through which channel we acquired the client o...   \n",
       "200  Selling area of seller place of the previous a...   \n",
       "201                         The industry of the seller   \n",
       "202  Term of previous credit at application of the ...   \n",
       "203  Grouped interest rate into small medium and hi...   \n",
       "204  Detailed product combination of the previous a...   \n",
       "205  Relative to application date of current applic...   \n",
       "206  Relative to application date of current applic...   \n",
       "207  Relative to application date of current applic...   \n",
       "208  Relative to application date of current applic...   \n",
       "209  Relative to application date of current applic...   \n",
       "210  Did the client requested insurance during the ...   \n",
       "\n",
       "                                   Special  \n",
       "173                                 hashed  \n",
       "174                                 hashed  \n",
       "175                                    NaN  \n",
       "176                                    NaN  \n",
       "177                                    NaN  \n",
       "178                                    NaN  \n",
       "179                                    NaN  \n",
       "180                                    NaN  \n",
       "181                                    NaN  \n",
       "182                                rounded  \n",
       "183                                    NaN  \n",
       "184                                    NaN  \n",
       "185                                    NaN  \n",
       "186                             normalized  \n",
       "187                             normalized  \n",
       "188                             normalized  \n",
       "189                                    NaN  \n",
       "190                                    NaN  \n",
       "191  time only relative to the application  \n",
       "192                                    NaN  \n",
       "193                                    NaN  \n",
       "194                                    NaN  \n",
       "195                                    NaN  \n",
       "196                                    NaN  \n",
       "197                                    NaN  \n",
       "198                                    NaN  \n",
       "199                                    NaN  \n",
       "200                                    NaN  \n",
       "201                                    NaN  \n",
       "202                                    NaN  \n",
       "203                                grouped  \n",
       "204                                    NaN  \n",
       "205  time only relative to the application  \n",
       "206  time only relative to the application  \n",
       "207  time only relative to the application  \n",
       "208  time only relative to the application  \n",
       "209  time only relative to the application  \n",
       "210                                    NaN  "
      ]
     },
     "execution_count": 71,
     "metadata": {},
     "output_type": "execute_result"
    }
   ],
   "source": [
    "column_info[column_info['Table'] == 'previous_application.csv']"
   ]
  },
  {
   "cell_type": "code",
   "execution_count": null,
   "metadata": {},
   "outputs": [],
   "source": []
  }
 ],
 "metadata": {
  "kernelspec": {
   "display_name": "Python 3",
   "language": "python",
   "name": "python3"
  },
  "language_info": {
   "codemirror_mode": {
    "name": "ipython",
    "version": 3
   },
   "file_extension": ".py",
   "mimetype": "text/x-python",
   "name": "python",
   "nbconvert_exporter": "python",
   "pygments_lexer": "ipython3",
   "version": "3.7.3"
  }
 },
 "nbformat": 4,
 "nbformat_minor": 2
}
